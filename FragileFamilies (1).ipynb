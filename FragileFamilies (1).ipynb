{
  "cells": [
    {
      "cell_type": "markdown",
      "metadata": {
        "id": "OVqlQixlvb-4"
      },
      "source": [
        "## Data Loading"
      ]
    },
    {
      "cell_type": "code",
      "execution_count": 1,
      "metadata": {
        "id": "gBY18xtC05pr"
      },
      "outputs": [],
      "source": [
        "import tensorflow as tf\n",
        "from tensorflow import keras\n",
        "\n",
        "import os\n",
        "import tempfile\n",
        "\n",
        "import matplotlib as mpl\n",
        "import matplotlib.pyplot as plt\n",
        "import numpy as np\n",
        "import pandas as pd\n",
        "import seaborn as sns\n",
        "\n",
        "import sklearn\n",
        "from sklearn.metrics import confusion_matrix\n",
        "from sklearn.model_selection import train_test_split\n",
        "from sklearn.preprocessing import StandardScaler\n",
        "\n",
        "from sklearn.metrics import confusion_matrix, ConfusionMatrixDisplay\n",
        "from sklearn.metrics import roc_curve"
      ]
    },
    {
      "cell_type": "code",
      "execution_count": 2,
      "metadata": {
        "colab": {
          "base_uri": "https://localhost:8080/"
        },
        "id": "f3q34XQP1FTg",
        "outputId": "496e7c42-ba03-4ce5-8bc4-0c6b06fbf730"
      },
      "outputs": [
        {
          "output_type": "stream",
          "name": "stderr",
          "text": [
            "<ipython-input-2-f07354eb9be6>:2: DtypeWarning: Columns (5168,5272,5328,5329,5340,5341,5351,5470,5479,5661,5663,5685,5695,5696,5706,5764,5772,5788,5803,5815,5816,5828,5900,5901,5937,5946,5965,5966,9287,12349,12353,12356) have mixed types. Specify dtype option on import or set low_memory=False.\n",
            "  raw_df = pd.read_csv('/content/drive/MyDrive/Oxford/background.csv')\n"
          ]
        }
      ],
      "source": [
        "file = tf.keras.utils\n",
        "raw_df = pd.read_csv('/content/drive/MyDrive/Oxford/background.csv')\n",
        "cleaned_df = raw_df.copy()\n",
        "\n",
        "train_df = pd.read_csv('/content/drive/MyDrive/Oxford/train.csv')\n",
        "outcomes_df = train_df.copy()"
      ]
    },
    {
      "cell_type": "code",
      "execution_count": 3,
      "metadata": {
        "colab": {
          "base_uri": "https://localhost:8080/",
          "height": 444
        },
        "id": "Xm9qtm0h1erW",
        "outputId": "76cf4e4e-6087-468a-adac-0635df92aeeb"
      },
      "outputs": [
        {
          "output_type": "execute_result",
          "data": {
            "text/plain": [
              "      challengeID  cf1intmon  cf1intyr  cf1lenhr  cf1lenmin  cf1twoc  cf1fint  \\\n",
              "0               1         -3        -3        -9         -9       -3        0   \n",
              "1               2         -3        -3         0         40       -3        1   \n",
              "2               3         -3        -3         0         45       -3        1   \n",
              "3               4         -3        -3         0         45       -3        1   \n",
              "4               5         -3        -3        -6         50       -3        1   \n",
              "...           ...        ...       ...       ...        ...      ...      ...   \n",
              "4237         4238         -3        -3        -9         -9       -3        0   \n",
              "4238         4239         -3        -3         0         40       -3        1   \n",
              "4239         4240         -3        -3        -9         -9       -3        0   \n",
              "4240         4241         -3        -3         1          0       -3        1   \n",
              "4241         4242         -3        -3        -9         -9       -3        0   \n",
              "\n",
              "      cf1natsm  f1natwt  cf1natsmx  ...       m4d9      m4e23       f4d6  \\\n",
              "0           -3       -3         -3  ...   6.269946   5.180325   2.511131   \n",
              "1           -3       -3         -3  ...   6.269946  27.680196   2.511131   \n",
              "2           -3       -3         -3  ...   6.269946   5.180325  20.867881   \n",
              "3           -3       -3         -3  ...   6.269946   5.180325  22.018875   \n",
              "4           -3       -3         -3  ...   6.269946   5.180325  22.916602   \n",
              "...        ...      ...        ...  ...        ...        ...        ...   \n",
              "4237        -3       -3         -3  ...  27.941956   5.180325   2.511131   \n",
              "4238        -3       -3         -3  ...  28.703663   5.180325   2.511131   \n",
              "4239        -3       -3         -3  ...   6.269946  26.990283   2.511131   \n",
              "4240        -3       -3         -3  ...   6.269946  27.189692   2.511131   \n",
              "4241        -3       -3         -3  ...   6.269946   5.180325  23.558317   \n",
              "\n",
              "           f4d7       f4d9       m5c6      m5d20     m5k10       f5c6  \\\n",
              "0      1.718804   6.473537  16.369411   4.476881  9.628369  15.981275   \n",
              "1      1.718804   6.473537  16.369411  26.671897  9.628369  15.981275   \n",
              "2     24.115867   6.473537  16.369411   4.476881  9.628369  15.981275   \n",
              "3     22.932641   6.473537  -5.169243   4.476881  9.628369  -6.303171   \n",
              "4     22.988036   6.473537  -6.034660   4.476881  9.628369  -6.211828   \n",
              "...         ...        ...        ...        ...       ...        ...   \n",
              "4237   1.718804   6.473537  16.369411   4.476881  9.628369  15.981275   \n",
              "4238   1.718804   6.473537  16.369411   4.476881  9.628369  15.981275   \n",
              "4239   1.718804   6.473537  16.369411   4.476881  9.628369  15.981275   \n",
              "4240   1.718804  28.512659  16.369411   4.476881  9.628369  -6.009855   \n",
              "4241  23.937457   6.473537  -5.424175   4.476881  9.628369  -5.812319   \n",
              "\n",
              "           k5f1  \n",
              "0     24.038266  \n",
              "1      3.667679  \n",
              "2     24.038266  \n",
              "3      4.140511  \n",
              "4      3.668879  \n",
              "...         ...  \n",
              "4237  24.038266  \n",
              "4238   3.424922  \n",
              "4239  24.038266  \n",
              "4240   3.656543  \n",
              "4241   3.424922  \n",
              "\n",
              "[4242 rows x 13027 columns]"
            ],
            "text/html": [
              "\n",
              "  <div id=\"df-d181546d-b2fe-4dfa-839d-2ec84ef07172\" class=\"colab-df-container\">\n",
              "    <div>\n",
              "<style scoped>\n",
              "    .dataframe tbody tr th:only-of-type {\n",
              "        vertical-align: middle;\n",
              "    }\n",
              "\n",
              "    .dataframe tbody tr th {\n",
              "        vertical-align: top;\n",
              "    }\n",
              "\n",
              "    .dataframe thead th {\n",
              "        text-align: right;\n",
              "    }\n",
              "</style>\n",
              "<table border=\"1\" class=\"dataframe\">\n",
              "  <thead>\n",
              "    <tr style=\"text-align: right;\">\n",
              "      <th></th>\n",
              "      <th>challengeID</th>\n",
              "      <th>cf1intmon</th>\n",
              "      <th>cf1intyr</th>\n",
              "      <th>cf1lenhr</th>\n",
              "      <th>cf1lenmin</th>\n",
              "      <th>cf1twoc</th>\n",
              "      <th>cf1fint</th>\n",
              "      <th>cf1natsm</th>\n",
              "      <th>f1natwt</th>\n",
              "      <th>cf1natsmx</th>\n",
              "      <th>...</th>\n",
              "      <th>m4d9</th>\n",
              "      <th>m4e23</th>\n",
              "      <th>f4d6</th>\n",
              "      <th>f4d7</th>\n",
              "      <th>f4d9</th>\n",
              "      <th>m5c6</th>\n",
              "      <th>m5d20</th>\n",
              "      <th>m5k10</th>\n",
              "      <th>f5c6</th>\n",
              "      <th>k5f1</th>\n",
              "    </tr>\n",
              "  </thead>\n",
              "  <tbody>\n",
              "    <tr>\n",
              "      <th>0</th>\n",
              "      <td>1</td>\n",
              "      <td>-3</td>\n",
              "      <td>-3</td>\n",
              "      <td>-9</td>\n",
              "      <td>-9</td>\n",
              "      <td>-3</td>\n",
              "      <td>0</td>\n",
              "      <td>-3</td>\n",
              "      <td>-3</td>\n",
              "      <td>-3</td>\n",
              "      <td>...</td>\n",
              "      <td>6.269946</td>\n",
              "      <td>5.180325</td>\n",
              "      <td>2.511131</td>\n",
              "      <td>1.718804</td>\n",
              "      <td>6.473537</td>\n",
              "      <td>16.369411</td>\n",
              "      <td>4.476881</td>\n",
              "      <td>9.628369</td>\n",
              "      <td>15.981275</td>\n",
              "      <td>24.038266</td>\n",
              "    </tr>\n",
              "    <tr>\n",
              "      <th>1</th>\n",
              "      <td>2</td>\n",
              "      <td>-3</td>\n",
              "      <td>-3</td>\n",
              "      <td>0</td>\n",
              "      <td>40</td>\n",
              "      <td>-3</td>\n",
              "      <td>1</td>\n",
              "      <td>-3</td>\n",
              "      <td>-3</td>\n",
              "      <td>-3</td>\n",
              "      <td>...</td>\n",
              "      <td>6.269946</td>\n",
              "      <td>27.680196</td>\n",
              "      <td>2.511131</td>\n",
              "      <td>1.718804</td>\n",
              "      <td>6.473537</td>\n",
              "      <td>16.369411</td>\n",
              "      <td>26.671897</td>\n",
              "      <td>9.628369</td>\n",
              "      <td>15.981275</td>\n",
              "      <td>3.667679</td>\n",
              "    </tr>\n",
              "    <tr>\n",
              "      <th>2</th>\n",
              "      <td>3</td>\n",
              "      <td>-3</td>\n",
              "      <td>-3</td>\n",
              "      <td>0</td>\n",
              "      <td>45</td>\n",
              "      <td>-3</td>\n",
              "      <td>1</td>\n",
              "      <td>-3</td>\n",
              "      <td>-3</td>\n",
              "      <td>-3</td>\n",
              "      <td>...</td>\n",
              "      <td>6.269946</td>\n",
              "      <td>5.180325</td>\n",
              "      <td>20.867881</td>\n",
              "      <td>24.115867</td>\n",
              "      <td>6.473537</td>\n",
              "      <td>16.369411</td>\n",
              "      <td>4.476881</td>\n",
              "      <td>9.628369</td>\n",
              "      <td>15.981275</td>\n",
              "      <td>24.038266</td>\n",
              "    </tr>\n",
              "    <tr>\n",
              "      <th>3</th>\n",
              "      <td>4</td>\n",
              "      <td>-3</td>\n",
              "      <td>-3</td>\n",
              "      <td>0</td>\n",
              "      <td>45</td>\n",
              "      <td>-3</td>\n",
              "      <td>1</td>\n",
              "      <td>-3</td>\n",
              "      <td>-3</td>\n",
              "      <td>-3</td>\n",
              "      <td>...</td>\n",
              "      <td>6.269946</td>\n",
              "      <td>5.180325</td>\n",
              "      <td>22.018875</td>\n",
              "      <td>22.932641</td>\n",
              "      <td>6.473537</td>\n",
              "      <td>-5.169243</td>\n",
              "      <td>4.476881</td>\n",
              "      <td>9.628369</td>\n",
              "      <td>-6.303171</td>\n",
              "      <td>4.140511</td>\n",
              "    </tr>\n",
              "    <tr>\n",
              "      <th>4</th>\n",
              "      <td>5</td>\n",
              "      <td>-3</td>\n",
              "      <td>-3</td>\n",
              "      <td>-6</td>\n",
              "      <td>50</td>\n",
              "      <td>-3</td>\n",
              "      <td>1</td>\n",
              "      <td>-3</td>\n",
              "      <td>-3</td>\n",
              "      <td>-3</td>\n",
              "      <td>...</td>\n",
              "      <td>6.269946</td>\n",
              "      <td>5.180325</td>\n",
              "      <td>22.916602</td>\n",
              "      <td>22.988036</td>\n",
              "      <td>6.473537</td>\n",
              "      <td>-6.034660</td>\n",
              "      <td>4.476881</td>\n",
              "      <td>9.628369</td>\n",
              "      <td>-6.211828</td>\n",
              "      <td>3.668879</td>\n",
              "    </tr>\n",
              "    <tr>\n",
              "      <th>...</th>\n",
              "      <td>...</td>\n",
              "      <td>...</td>\n",
              "      <td>...</td>\n",
              "      <td>...</td>\n",
              "      <td>...</td>\n",
              "      <td>...</td>\n",
              "      <td>...</td>\n",
              "      <td>...</td>\n",
              "      <td>...</td>\n",
              "      <td>...</td>\n",
              "      <td>...</td>\n",
              "      <td>...</td>\n",
              "      <td>...</td>\n",
              "      <td>...</td>\n",
              "      <td>...</td>\n",
              "      <td>...</td>\n",
              "      <td>...</td>\n",
              "      <td>...</td>\n",
              "      <td>...</td>\n",
              "      <td>...</td>\n",
              "      <td>...</td>\n",
              "    </tr>\n",
              "    <tr>\n",
              "      <th>4237</th>\n",
              "      <td>4238</td>\n",
              "      <td>-3</td>\n",
              "      <td>-3</td>\n",
              "      <td>-9</td>\n",
              "      <td>-9</td>\n",
              "      <td>-3</td>\n",
              "      <td>0</td>\n",
              "      <td>-3</td>\n",
              "      <td>-3</td>\n",
              "      <td>-3</td>\n",
              "      <td>...</td>\n",
              "      <td>27.941956</td>\n",
              "      <td>5.180325</td>\n",
              "      <td>2.511131</td>\n",
              "      <td>1.718804</td>\n",
              "      <td>6.473537</td>\n",
              "      <td>16.369411</td>\n",
              "      <td>4.476881</td>\n",
              "      <td>9.628369</td>\n",
              "      <td>15.981275</td>\n",
              "      <td>24.038266</td>\n",
              "    </tr>\n",
              "    <tr>\n",
              "      <th>4238</th>\n",
              "      <td>4239</td>\n",
              "      <td>-3</td>\n",
              "      <td>-3</td>\n",
              "      <td>0</td>\n",
              "      <td>40</td>\n",
              "      <td>-3</td>\n",
              "      <td>1</td>\n",
              "      <td>-3</td>\n",
              "      <td>-3</td>\n",
              "      <td>-3</td>\n",
              "      <td>...</td>\n",
              "      <td>28.703663</td>\n",
              "      <td>5.180325</td>\n",
              "      <td>2.511131</td>\n",
              "      <td>1.718804</td>\n",
              "      <td>6.473537</td>\n",
              "      <td>16.369411</td>\n",
              "      <td>4.476881</td>\n",
              "      <td>9.628369</td>\n",
              "      <td>15.981275</td>\n",
              "      <td>3.424922</td>\n",
              "    </tr>\n",
              "    <tr>\n",
              "      <th>4239</th>\n",
              "      <td>4240</td>\n",
              "      <td>-3</td>\n",
              "      <td>-3</td>\n",
              "      <td>-9</td>\n",
              "      <td>-9</td>\n",
              "      <td>-3</td>\n",
              "      <td>0</td>\n",
              "      <td>-3</td>\n",
              "      <td>-3</td>\n",
              "      <td>-3</td>\n",
              "      <td>...</td>\n",
              "      <td>6.269946</td>\n",
              "      <td>26.990283</td>\n",
              "      <td>2.511131</td>\n",
              "      <td>1.718804</td>\n",
              "      <td>6.473537</td>\n",
              "      <td>16.369411</td>\n",
              "      <td>4.476881</td>\n",
              "      <td>9.628369</td>\n",
              "      <td>15.981275</td>\n",
              "      <td>24.038266</td>\n",
              "    </tr>\n",
              "    <tr>\n",
              "      <th>4240</th>\n",
              "      <td>4241</td>\n",
              "      <td>-3</td>\n",
              "      <td>-3</td>\n",
              "      <td>1</td>\n",
              "      <td>0</td>\n",
              "      <td>-3</td>\n",
              "      <td>1</td>\n",
              "      <td>-3</td>\n",
              "      <td>-3</td>\n",
              "      <td>-3</td>\n",
              "      <td>...</td>\n",
              "      <td>6.269946</td>\n",
              "      <td>27.189692</td>\n",
              "      <td>2.511131</td>\n",
              "      <td>1.718804</td>\n",
              "      <td>28.512659</td>\n",
              "      <td>16.369411</td>\n",
              "      <td>4.476881</td>\n",
              "      <td>9.628369</td>\n",
              "      <td>-6.009855</td>\n",
              "      <td>3.656543</td>\n",
              "    </tr>\n",
              "    <tr>\n",
              "      <th>4241</th>\n",
              "      <td>4242</td>\n",
              "      <td>-3</td>\n",
              "      <td>-3</td>\n",
              "      <td>-9</td>\n",
              "      <td>-9</td>\n",
              "      <td>-3</td>\n",
              "      <td>0</td>\n",
              "      <td>-3</td>\n",
              "      <td>-3</td>\n",
              "      <td>-3</td>\n",
              "      <td>...</td>\n",
              "      <td>6.269946</td>\n",
              "      <td>5.180325</td>\n",
              "      <td>23.558317</td>\n",
              "      <td>23.937457</td>\n",
              "      <td>6.473537</td>\n",
              "      <td>-5.424175</td>\n",
              "      <td>4.476881</td>\n",
              "      <td>9.628369</td>\n",
              "      <td>-5.812319</td>\n",
              "      <td>3.424922</td>\n",
              "    </tr>\n",
              "  </tbody>\n",
              "</table>\n",
              "<p>4242 rows × 13027 columns</p>\n",
              "</div>\n",
              "    <div class=\"colab-df-buttons\">\n",
              "\n",
              "  <div class=\"colab-df-container\">\n",
              "    <button class=\"colab-df-convert\" onclick=\"convertToInteractive('df-d181546d-b2fe-4dfa-839d-2ec84ef07172')\"\n",
              "            title=\"Convert this dataframe to an interactive table.\"\n",
              "            style=\"display:none;\">\n",
              "\n",
              "  <svg xmlns=\"http://www.w3.org/2000/svg\" height=\"24px\" viewBox=\"0 -960 960 960\">\n",
              "    <path d=\"M120-120v-720h720v720H120Zm60-500h600v-160H180v160Zm220 220h160v-160H400v160Zm0 220h160v-160H400v160ZM180-400h160v-160H180v160Zm440 0h160v-160H620v160ZM180-180h160v-160H180v160Zm440 0h160v-160H620v160Z\"/>\n",
              "  </svg>\n",
              "    </button>\n",
              "\n",
              "  <style>\n",
              "    .colab-df-container {\n",
              "      display:flex;\n",
              "      gap: 12px;\n",
              "    }\n",
              "\n",
              "    .colab-df-convert {\n",
              "      background-color: #E8F0FE;\n",
              "      border: none;\n",
              "      border-radius: 50%;\n",
              "      cursor: pointer;\n",
              "      display: none;\n",
              "      fill: #1967D2;\n",
              "      height: 32px;\n",
              "      padding: 0 0 0 0;\n",
              "      width: 32px;\n",
              "    }\n",
              "\n",
              "    .colab-df-convert:hover {\n",
              "      background-color: #E2EBFA;\n",
              "      box-shadow: 0px 1px 2px rgba(60, 64, 67, 0.3), 0px 1px 3px 1px rgba(60, 64, 67, 0.15);\n",
              "      fill: #174EA6;\n",
              "    }\n",
              "\n",
              "    .colab-df-buttons div {\n",
              "      margin-bottom: 4px;\n",
              "    }\n",
              "\n",
              "    [theme=dark] .colab-df-convert {\n",
              "      background-color: #3B4455;\n",
              "      fill: #D2E3FC;\n",
              "    }\n",
              "\n",
              "    [theme=dark] .colab-df-convert:hover {\n",
              "      background-color: #434B5C;\n",
              "      box-shadow: 0px 1px 3px 1px rgba(0, 0, 0, 0.15);\n",
              "      filter: drop-shadow(0px 1px 2px rgba(0, 0, 0, 0.3));\n",
              "      fill: #FFFFFF;\n",
              "    }\n",
              "  </style>\n",
              "\n",
              "    <script>\n",
              "      const buttonEl =\n",
              "        document.querySelector('#df-d181546d-b2fe-4dfa-839d-2ec84ef07172 button.colab-df-convert');\n",
              "      buttonEl.style.display =\n",
              "        google.colab.kernel.accessAllowed ? 'block' : 'none';\n",
              "\n",
              "      async function convertToInteractive(key) {\n",
              "        const element = document.querySelector('#df-d181546d-b2fe-4dfa-839d-2ec84ef07172');\n",
              "        const dataTable =\n",
              "          await google.colab.kernel.invokeFunction('convertToInteractive',\n",
              "                                                    [key], {});\n",
              "        if (!dataTable) return;\n",
              "\n",
              "        const docLinkHtml = 'Like what you see? Visit the ' +\n",
              "          '<a target=\"_blank\" href=https://colab.research.google.com/notebooks/data_table.ipynb>data table notebook</a>'\n",
              "          + ' to learn more about interactive tables.';\n",
              "        element.innerHTML = '';\n",
              "        dataTable['output_type'] = 'display_data';\n",
              "        await google.colab.output.renderOutput(dataTable, element);\n",
              "        const docLink = document.createElement('div');\n",
              "        docLink.innerHTML = docLinkHtml;\n",
              "        element.appendChild(docLink);\n",
              "      }\n",
              "    </script>\n",
              "  </div>\n",
              "\n",
              "\n",
              "<div id=\"df-33361286-df33-4fc8-9bea-f1acf83d0902\">\n",
              "  <button class=\"colab-df-quickchart\" onclick=\"quickchart('df-33361286-df33-4fc8-9bea-f1acf83d0902')\"\n",
              "            title=\"Suggest charts\"\n",
              "            style=\"display:none;\">\n",
              "\n",
              "<svg xmlns=\"http://www.w3.org/2000/svg\" height=\"24px\"viewBox=\"0 0 24 24\"\n",
              "     width=\"24px\">\n",
              "    <g>\n",
              "        <path d=\"M19 3H5c-1.1 0-2 .9-2 2v14c0 1.1.9 2 2 2h14c1.1 0 2-.9 2-2V5c0-1.1-.9-2-2-2zM9 17H7v-7h2v7zm4 0h-2V7h2v10zm4 0h-2v-4h2v4z\"/>\n",
              "    </g>\n",
              "</svg>\n",
              "  </button>\n",
              "\n",
              "<style>\n",
              "  .colab-df-quickchart {\n",
              "      --bg-color: #E8F0FE;\n",
              "      --fill-color: #1967D2;\n",
              "      --hover-bg-color: #E2EBFA;\n",
              "      --hover-fill-color: #174EA6;\n",
              "      --disabled-fill-color: #AAA;\n",
              "      --disabled-bg-color: #DDD;\n",
              "  }\n",
              "\n",
              "  [theme=dark] .colab-df-quickchart {\n",
              "      --bg-color: #3B4455;\n",
              "      --fill-color: #D2E3FC;\n",
              "      --hover-bg-color: #434B5C;\n",
              "      --hover-fill-color: #FFFFFF;\n",
              "      --disabled-bg-color: #3B4455;\n",
              "      --disabled-fill-color: #666;\n",
              "  }\n",
              "\n",
              "  .colab-df-quickchart {\n",
              "    background-color: var(--bg-color);\n",
              "    border: none;\n",
              "    border-radius: 50%;\n",
              "    cursor: pointer;\n",
              "    display: none;\n",
              "    fill: var(--fill-color);\n",
              "    height: 32px;\n",
              "    padding: 0;\n",
              "    width: 32px;\n",
              "  }\n",
              "\n",
              "  .colab-df-quickchart:hover {\n",
              "    background-color: var(--hover-bg-color);\n",
              "    box-shadow: 0 1px 2px rgba(60, 64, 67, 0.3), 0 1px 3px 1px rgba(60, 64, 67, 0.15);\n",
              "    fill: var(--button-hover-fill-color);\n",
              "  }\n",
              "\n",
              "  .colab-df-quickchart-complete:disabled,\n",
              "  .colab-df-quickchart-complete:disabled:hover {\n",
              "    background-color: var(--disabled-bg-color);\n",
              "    fill: var(--disabled-fill-color);\n",
              "    box-shadow: none;\n",
              "  }\n",
              "\n",
              "  .colab-df-spinner {\n",
              "    border: 2px solid var(--fill-color);\n",
              "    border-color: transparent;\n",
              "    border-bottom-color: var(--fill-color);\n",
              "    animation:\n",
              "      spin 1s steps(1) infinite;\n",
              "  }\n",
              "\n",
              "  @keyframes spin {\n",
              "    0% {\n",
              "      border-color: transparent;\n",
              "      border-bottom-color: var(--fill-color);\n",
              "      border-left-color: var(--fill-color);\n",
              "    }\n",
              "    20% {\n",
              "      border-color: transparent;\n",
              "      border-left-color: var(--fill-color);\n",
              "      border-top-color: var(--fill-color);\n",
              "    }\n",
              "    30% {\n",
              "      border-color: transparent;\n",
              "      border-left-color: var(--fill-color);\n",
              "      border-top-color: var(--fill-color);\n",
              "      border-right-color: var(--fill-color);\n",
              "    }\n",
              "    40% {\n",
              "      border-color: transparent;\n",
              "      border-right-color: var(--fill-color);\n",
              "      border-top-color: var(--fill-color);\n",
              "    }\n",
              "    60% {\n",
              "      border-color: transparent;\n",
              "      border-right-color: var(--fill-color);\n",
              "    }\n",
              "    80% {\n",
              "      border-color: transparent;\n",
              "      border-right-color: var(--fill-color);\n",
              "      border-bottom-color: var(--fill-color);\n",
              "    }\n",
              "    90% {\n",
              "      border-color: transparent;\n",
              "      border-bottom-color: var(--fill-color);\n",
              "    }\n",
              "  }\n",
              "</style>\n",
              "\n",
              "  <script>\n",
              "    async function quickchart(key) {\n",
              "      const quickchartButtonEl =\n",
              "        document.querySelector('#' + key + ' button');\n",
              "      quickchartButtonEl.disabled = true;  // To prevent multiple clicks.\n",
              "      quickchartButtonEl.classList.add('colab-df-spinner');\n",
              "      try {\n",
              "        const charts = await google.colab.kernel.invokeFunction(\n",
              "            'suggestCharts', [key], {});\n",
              "      } catch (error) {\n",
              "        console.error('Error during call to suggestCharts:', error);\n",
              "      }\n",
              "      quickchartButtonEl.classList.remove('colab-df-spinner');\n",
              "      quickchartButtonEl.classList.add('colab-df-quickchart-complete');\n",
              "    }\n",
              "    (() => {\n",
              "      let quickchartButtonEl =\n",
              "        document.querySelector('#df-33361286-df33-4fc8-9bea-f1acf83d0902 button');\n",
              "      quickchartButtonEl.style.display =\n",
              "        google.colab.kernel.accessAllowed ? 'block' : 'none';\n",
              "    })();\n",
              "  </script>\n",
              "</div>\n",
              "    </div>\n",
              "  </div>\n"
            ],
            "application/vnd.google.colaboratory.intrinsic+json": {
              "type": "dataframe",
              "variable_name": "cleaned_df"
            }
          },
          "metadata": {},
          "execution_count": 3
        }
      ],
      "source": [
        "cleaned_df"
      ]
    },
    {
      "cell_type": "code",
      "execution_count": 4,
      "metadata": {
        "colab": {
          "base_uri": "https://localhost:8080/",
          "height": 424
        },
        "id": "f4lDTta4CeJC",
        "outputId": "bbd23c94-73fd-45ea-ce01-b270f7e64aa0"
      },
      "outputs": [
        {
          "output_type": "execute_result",
          "data": {
            "text/plain": [
              "      challengeID   gpa  grit  materialHardship  eviction  layoff  jobTraining\n",
              "0               1   NaN   NaN               NaN       NaN     NaN          NaN\n",
              "1               3   NaN   NaN               NaN       NaN     NaN          NaN\n",
              "2               6   NaN  3.50          0.090909       0.0     0.0          0.0\n",
              "3               7  2.50  3.25          0.000000       0.0     0.0          0.0\n",
              "4               8   NaN   NaN               NaN       NaN     NaN          NaN\n",
              "...           ...   ...   ...               ...       ...     ...          ...\n",
              "2116         4235   NaN   NaN               NaN       NaN     NaN          NaN\n",
              "2117         4236   NaN  3.75          0.000000       0.0     0.0          0.0\n",
              "2118         4239  2.75  2.75          0.000000       0.0     0.0          0.0\n",
              "2119         4240   NaN   NaN               NaN       NaN     NaN          NaN\n",
              "2120         4241  3.00  4.00          0.000000       0.0     1.0          1.0\n",
              "\n",
              "[2121 rows x 7 columns]"
            ],
            "text/html": [
              "\n",
              "  <div id=\"df-8b8ec5f6-fddc-4066-9bbc-2192d28ccc28\" class=\"colab-df-container\">\n",
              "    <div>\n",
              "<style scoped>\n",
              "    .dataframe tbody tr th:only-of-type {\n",
              "        vertical-align: middle;\n",
              "    }\n",
              "\n",
              "    .dataframe tbody tr th {\n",
              "        vertical-align: top;\n",
              "    }\n",
              "\n",
              "    .dataframe thead th {\n",
              "        text-align: right;\n",
              "    }\n",
              "</style>\n",
              "<table border=\"1\" class=\"dataframe\">\n",
              "  <thead>\n",
              "    <tr style=\"text-align: right;\">\n",
              "      <th></th>\n",
              "      <th>challengeID</th>\n",
              "      <th>gpa</th>\n",
              "      <th>grit</th>\n",
              "      <th>materialHardship</th>\n",
              "      <th>eviction</th>\n",
              "      <th>layoff</th>\n",
              "      <th>jobTraining</th>\n",
              "    </tr>\n",
              "  </thead>\n",
              "  <tbody>\n",
              "    <tr>\n",
              "      <th>0</th>\n",
              "      <td>1</td>\n",
              "      <td>NaN</td>\n",
              "      <td>NaN</td>\n",
              "      <td>NaN</td>\n",
              "      <td>NaN</td>\n",
              "      <td>NaN</td>\n",
              "      <td>NaN</td>\n",
              "    </tr>\n",
              "    <tr>\n",
              "      <th>1</th>\n",
              "      <td>3</td>\n",
              "      <td>NaN</td>\n",
              "      <td>NaN</td>\n",
              "      <td>NaN</td>\n",
              "      <td>NaN</td>\n",
              "      <td>NaN</td>\n",
              "      <td>NaN</td>\n",
              "    </tr>\n",
              "    <tr>\n",
              "      <th>2</th>\n",
              "      <td>6</td>\n",
              "      <td>NaN</td>\n",
              "      <td>3.50</td>\n",
              "      <td>0.090909</td>\n",
              "      <td>0.0</td>\n",
              "      <td>0.0</td>\n",
              "      <td>0.0</td>\n",
              "    </tr>\n",
              "    <tr>\n",
              "      <th>3</th>\n",
              "      <td>7</td>\n",
              "      <td>2.50</td>\n",
              "      <td>3.25</td>\n",
              "      <td>0.000000</td>\n",
              "      <td>0.0</td>\n",
              "      <td>0.0</td>\n",
              "      <td>0.0</td>\n",
              "    </tr>\n",
              "    <tr>\n",
              "      <th>4</th>\n",
              "      <td>8</td>\n",
              "      <td>NaN</td>\n",
              "      <td>NaN</td>\n",
              "      <td>NaN</td>\n",
              "      <td>NaN</td>\n",
              "      <td>NaN</td>\n",
              "      <td>NaN</td>\n",
              "    </tr>\n",
              "    <tr>\n",
              "      <th>...</th>\n",
              "      <td>...</td>\n",
              "      <td>...</td>\n",
              "      <td>...</td>\n",
              "      <td>...</td>\n",
              "      <td>...</td>\n",
              "      <td>...</td>\n",
              "      <td>...</td>\n",
              "    </tr>\n",
              "    <tr>\n",
              "      <th>2116</th>\n",
              "      <td>4235</td>\n",
              "      <td>NaN</td>\n",
              "      <td>NaN</td>\n",
              "      <td>NaN</td>\n",
              "      <td>NaN</td>\n",
              "      <td>NaN</td>\n",
              "      <td>NaN</td>\n",
              "    </tr>\n",
              "    <tr>\n",
              "      <th>2117</th>\n",
              "      <td>4236</td>\n",
              "      <td>NaN</td>\n",
              "      <td>3.75</td>\n",
              "      <td>0.000000</td>\n",
              "      <td>0.0</td>\n",
              "      <td>0.0</td>\n",
              "      <td>0.0</td>\n",
              "    </tr>\n",
              "    <tr>\n",
              "      <th>2118</th>\n",
              "      <td>4239</td>\n",
              "      <td>2.75</td>\n",
              "      <td>2.75</td>\n",
              "      <td>0.000000</td>\n",
              "      <td>0.0</td>\n",
              "      <td>0.0</td>\n",
              "      <td>0.0</td>\n",
              "    </tr>\n",
              "    <tr>\n",
              "      <th>2119</th>\n",
              "      <td>4240</td>\n",
              "      <td>NaN</td>\n",
              "      <td>NaN</td>\n",
              "      <td>NaN</td>\n",
              "      <td>NaN</td>\n",
              "      <td>NaN</td>\n",
              "      <td>NaN</td>\n",
              "    </tr>\n",
              "    <tr>\n",
              "      <th>2120</th>\n",
              "      <td>4241</td>\n",
              "      <td>3.00</td>\n",
              "      <td>4.00</td>\n",
              "      <td>0.000000</td>\n",
              "      <td>0.0</td>\n",
              "      <td>1.0</td>\n",
              "      <td>1.0</td>\n",
              "    </tr>\n",
              "  </tbody>\n",
              "</table>\n",
              "<p>2121 rows × 7 columns</p>\n",
              "</div>\n",
              "    <div class=\"colab-df-buttons\">\n",
              "\n",
              "  <div class=\"colab-df-container\">\n",
              "    <button class=\"colab-df-convert\" onclick=\"convertToInteractive('df-8b8ec5f6-fddc-4066-9bbc-2192d28ccc28')\"\n",
              "            title=\"Convert this dataframe to an interactive table.\"\n",
              "            style=\"display:none;\">\n",
              "\n",
              "  <svg xmlns=\"http://www.w3.org/2000/svg\" height=\"24px\" viewBox=\"0 -960 960 960\">\n",
              "    <path d=\"M120-120v-720h720v720H120Zm60-500h600v-160H180v160Zm220 220h160v-160H400v160Zm0 220h160v-160H400v160ZM180-400h160v-160H180v160Zm440 0h160v-160H620v160ZM180-180h160v-160H180v160Zm440 0h160v-160H620v160Z\"/>\n",
              "  </svg>\n",
              "    </button>\n",
              "\n",
              "  <style>\n",
              "    .colab-df-container {\n",
              "      display:flex;\n",
              "      gap: 12px;\n",
              "    }\n",
              "\n",
              "    .colab-df-convert {\n",
              "      background-color: #E8F0FE;\n",
              "      border: none;\n",
              "      border-radius: 50%;\n",
              "      cursor: pointer;\n",
              "      display: none;\n",
              "      fill: #1967D2;\n",
              "      height: 32px;\n",
              "      padding: 0 0 0 0;\n",
              "      width: 32px;\n",
              "    }\n",
              "\n",
              "    .colab-df-convert:hover {\n",
              "      background-color: #E2EBFA;\n",
              "      box-shadow: 0px 1px 2px rgba(60, 64, 67, 0.3), 0px 1px 3px 1px rgba(60, 64, 67, 0.15);\n",
              "      fill: #174EA6;\n",
              "    }\n",
              "\n",
              "    .colab-df-buttons div {\n",
              "      margin-bottom: 4px;\n",
              "    }\n",
              "\n",
              "    [theme=dark] .colab-df-convert {\n",
              "      background-color: #3B4455;\n",
              "      fill: #D2E3FC;\n",
              "    }\n",
              "\n",
              "    [theme=dark] .colab-df-convert:hover {\n",
              "      background-color: #434B5C;\n",
              "      box-shadow: 0px 1px 3px 1px rgba(0, 0, 0, 0.15);\n",
              "      filter: drop-shadow(0px 1px 2px rgba(0, 0, 0, 0.3));\n",
              "      fill: #FFFFFF;\n",
              "    }\n",
              "  </style>\n",
              "\n",
              "    <script>\n",
              "      const buttonEl =\n",
              "        document.querySelector('#df-8b8ec5f6-fddc-4066-9bbc-2192d28ccc28 button.colab-df-convert');\n",
              "      buttonEl.style.display =\n",
              "        google.colab.kernel.accessAllowed ? 'block' : 'none';\n",
              "\n",
              "      async function convertToInteractive(key) {\n",
              "        const element = document.querySelector('#df-8b8ec5f6-fddc-4066-9bbc-2192d28ccc28');\n",
              "        const dataTable =\n",
              "          await google.colab.kernel.invokeFunction('convertToInteractive',\n",
              "                                                    [key], {});\n",
              "        if (!dataTable) return;\n",
              "\n",
              "        const docLinkHtml = 'Like what you see? Visit the ' +\n",
              "          '<a target=\"_blank\" href=https://colab.research.google.com/notebooks/data_table.ipynb>data table notebook</a>'\n",
              "          + ' to learn more about interactive tables.';\n",
              "        element.innerHTML = '';\n",
              "        dataTable['output_type'] = 'display_data';\n",
              "        await google.colab.output.renderOutput(dataTable, element);\n",
              "        const docLink = document.createElement('div');\n",
              "        docLink.innerHTML = docLinkHtml;\n",
              "        element.appendChild(docLink);\n",
              "      }\n",
              "    </script>\n",
              "  </div>\n",
              "\n",
              "\n",
              "<div id=\"df-8ba786c7-a307-4968-aa21-74849f4075b7\">\n",
              "  <button class=\"colab-df-quickchart\" onclick=\"quickchart('df-8ba786c7-a307-4968-aa21-74849f4075b7')\"\n",
              "            title=\"Suggest charts\"\n",
              "            style=\"display:none;\">\n",
              "\n",
              "<svg xmlns=\"http://www.w3.org/2000/svg\" height=\"24px\"viewBox=\"0 0 24 24\"\n",
              "     width=\"24px\">\n",
              "    <g>\n",
              "        <path d=\"M19 3H5c-1.1 0-2 .9-2 2v14c0 1.1.9 2 2 2h14c1.1 0 2-.9 2-2V5c0-1.1-.9-2-2-2zM9 17H7v-7h2v7zm4 0h-2V7h2v10zm4 0h-2v-4h2v4z\"/>\n",
              "    </g>\n",
              "</svg>\n",
              "  </button>\n",
              "\n",
              "<style>\n",
              "  .colab-df-quickchart {\n",
              "      --bg-color: #E8F0FE;\n",
              "      --fill-color: #1967D2;\n",
              "      --hover-bg-color: #E2EBFA;\n",
              "      --hover-fill-color: #174EA6;\n",
              "      --disabled-fill-color: #AAA;\n",
              "      --disabled-bg-color: #DDD;\n",
              "  }\n",
              "\n",
              "  [theme=dark] .colab-df-quickchart {\n",
              "      --bg-color: #3B4455;\n",
              "      --fill-color: #D2E3FC;\n",
              "      --hover-bg-color: #434B5C;\n",
              "      --hover-fill-color: #FFFFFF;\n",
              "      --disabled-bg-color: #3B4455;\n",
              "      --disabled-fill-color: #666;\n",
              "  }\n",
              "\n",
              "  .colab-df-quickchart {\n",
              "    background-color: var(--bg-color);\n",
              "    border: none;\n",
              "    border-radius: 50%;\n",
              "    cursor: pointer;\n",
              "    display: none;\n",
              "    fill: var(--fill-color);\n",
              "    height: 32px;\n",
              "    padding: 0;\n",
              "    width: 32px;\n",
              "  }\n",
              "\n",
              "  .colab-df-quickchart:hover {\n",
              "    background-color: var(--hover-bg-color);\n",
              "    box-shadow: 0 1px 2px rgba(60, 64, 67, 0.3), 0 1px 3px 1px rgba(60, 64, 67, 0.15);\n",
              "    fill: var(--button-hover-fill-color);\n",
              "  }\n",
              "\n",
              "  .colab-df-quickchart-complete:disabled,\n",
              "  .colab-df-quickchart-complete:disabled:hover {\n",
              "    background-color: var(--disabled-bg-color);\n",
              "    fill: var(--disabled-fill-color);\n",
              "    box-shadow: none;\n",
              "  }\n",
              "\n",
              "  .colab-df-spinner {\n",
              "    border: 2px solid var(--fill-color);\n",
              "    border-color: transparent;\n",
              "    border-bottom-color: var(--fill-color);\n",
              "    animation:\n",
              "      spin 1s steps(1) infinite;\n",
              "  }\n",
              "\n",
              "  @keyframes spin {\n",
              "    0% {\n",
              "      border-color: transparent;\n",
              "      border-bottom-color: var(--fill-color);\n",
              "      border-left-color: var(--fill-color);\n",
              "    }\n",
              "    20% {\n",
              "      border-color: transparent;\n",
              "      border-left-color: var(--fill-color);\n",
              "      border-top-color: var(--fill-color);\n",
              "    }\n",
              "    30% {\n",
              "      border-color: transparent;\n",
              "      border-left-color: var(--fill-color);\n",
              "      border-top-color: var(--fill-color);\n",
              "      border-right-color: var(--fill-color);\n",
              "    }\n",
              "    40% {\n",
              "      border-color: transparent;\n",
              "      border-right-color: var(--fill-color);\n",
              "      border-top-color: var(--fill-color);\n",
              "    }\n",
              "    60% {\n",
              "      border-color: transparent;\n",
              "      border-right-color: var(--fill-color);\n",
              "    }\n",
              "    80% {\n",
              "      border-color: transparent;\n",
              "      border-right-color: var(--fill-color);\n",
              "      border-bottom-color: var(--fill-color);\n",
              "    }\n",
              "    90% {\n",
              "      border-color: transparent;\n",
              "      border-bottom-color: var(--fill-color);\n",
              "    }\n",
              "  }\n",
              "</style>\n",
              "\n",
              "  <script>\n",
              "    async function quickchart(key) {\n",
              "      const quickchartButtonEl =\n",
              "        document.querySelector('#' + key + ' button');\n",
              "      quickchartButtonEl.disabled = true;  // To prevent multiple clicks.\n",
              "      quickchartButtonEl.classList.add('colab-df-spinner');\n",
              "      try {\n",
              "        const charts = await google.colab.kernel.invokeFunction(\n",
              "            'suggestCharts', [key], {});\n",
              "      } catch (error) {\n",
              "        console.error('Error during call to suggestCharts:', error);\n",
              "      }\n",
              "      quickchartButtonEl.classList.remove('colab-df-spinner');\n",
              "      quickchartButtonEl.classList.add('colab-df-quickchart-complete');\n",
              "    }\n",
              "    (() => {\n",
              "      let quickchartButtonEl =\n",
              "        document.querySelector('#df-8ba786c7-a307-4968-aa21-74849f4075b7 button');\n",
              "      quickchartButtonEl.style.display =\n",
              "        google.colab.kernel.accessAllowed ? 'block' : 'none';\n",
              "    })();\n",
              "  </script>\n",
              "</div>\n",
              "    </div>\n",
              "  </div>\n"
            ],
            "application/vnd.google.colaboratory.intrinsic+json": {
              "type": "dataframe",
              "variable_name": "outcomes_df",
              "summary": "{\n  \"name\": \"outcomes_df\",\n  \"rows\": 2121,\n  \"fields\": [\n    {\n      \"column\": \"challengeID\",\n      \"properties\": {\n        \"dtype\": \"number\",\n        \"std\": 1209,\n        \"min\": 1,\n        \"max\": 4241,\n        \"num_unique_values\": 2121,\n        \"samples\": [\n          3642,\n          2906,\n          562\n        ],\n        \"semantic_type\": \"\",\n        \"description\": \"\"\n      }\n    },\n    {\n      \"column\": \"gpa\",\n      \"properties\": {\n        \"dtype\": \"number\",\n        \"std\": 0.6653220579919922,\n        \"min\": 1.0,\n        \"max\": 4.0,\n        \"num_unique_values\": 13,\n        \"samples\": [\n          1.75,\n          1.25,\n          2.5\n        ],\n        \"semantic_type\": \"\",\n        \"description\": \"\"\n      }\n    },\n    {\n      \"column\": \"grit\",\n      \"properties\": {\n        \"dtype\": \"number\",\n        \"std\": 0.4851296928551232,\n        \"min\": 1.25,\n        \"max\": 4.0,\n        \"num_unique_values\": 12,\n        \"samples\": [\n          1.75,\n          1.5,\n          3.5\n        ],\n        \"semantic_type\": \"\",\n        \"description\": \"\"\n      }\n    },\n    {\n      \"column\": \"materialHardship\",\n      \"properties\": {\n        \"dtype\": \"number\",\n        \"std\": 0.1556654604106254,\n        \"min\": 0.0,\n        \"max\": 0.818181818181818,\n        \"num_unique_values\": 10,\n        \"samples\": [\n          0.818181818181818,\n          0.0,\n          0.454545454545455\n        ],\n        \"semantic_type\": \"\",\n        \"description\": \"\"\n      }\n    },\n    {\n      \"column\": \"eviction\",\n      \"properties\": {\n        \"dtype\": \"number\",\n        \"std\": 0.2368810252457005,\n        \"min\": 0.0,\n        \"max\": 1.0,\n        \"num_unique_values\": 2,\n        \"samples\": [\n          1.0,\n          0.0\n        ],\n        \"semantic_type\": \"\",\n        \"description\": \"\"\n      }\n    },\n    {\n      \"column\": \"layoff\",\n      \"properties\": {\n        \"dtype\": \"number\",\n        \"std\": 0.4068136642171377,\n        \"min\": 0.0,\n        \"max\": 1.0,\n        \"num_unique_values\": 2,\n        \"samples\": [\n          1.0,\n          0.0\n        ],\n        \"semantic_type\": \"\",\n        \"description\": \"\"\n      }\n    },\n    {\n      \"column\": \"jobTraining\",\n      \"properties\": {\n        \"dtype\": \"number\",\n        \"std\": 0.4240005558491558,\n        \"min\": 0.0,\n        \"max\": 1.0,\n        \"num_unique_values\": 2,\n        \"samples\": [\n          1.0,\n          0.0\n        ],\n        \"semantic_type\": \"\",\n        \"description\": \"\"\n      }\n    }\n  ]\n}"
            }
          },
          "metadata": {},
          "execution_count": 4
        }
      ],
      "source": [
        "outcomes_df"
      ]
    },
    {
      "cell_type": "markdown",
      "metadata": {
        "id": "gCe6GCmFFYBm"
      },
      "source": [
        "## Initial Data Preparation\n",
        "- Cast any strings to numeric where applicable\n",
        "- Cast categorical variables as integer representations\n",
        "(-3, -9 = NaN, -10 = Other, -11 = unknown or refuse)\n",
        "- Remove columns that didn't fit into either of those\n",
        "- Remove columns with no variation or all null\n",
        "- Separate variables of interest from control variables"
      ]
    },
    {
      "cell_type": "code",
      "execution_count": 5,
      "metadata": {
        "id": "wGqs3QysDxc2"
      },
      "outputs": [],
      "source": [
        "categorical = cleaned_df.loc[:, cleaned_df.nunique() < 30]\n",
        "numerical = cleaned_df.loc[:, cleaned_df.nunique() >= 30]"
      ]
    },
    {
      "cell_type": "code",
      "execution_count": 6,
      "metadata": {
        "id": "byXzfZbPGque"
      },
      "outputs": [],
      "source": [
        "#Replace numerical values that are missing with NaN\n",
        "categorical = categorical.replace(\"Missing\", np.NAN)\n",
        "categorical = categorical.replace('NA', np.NAN)\n",
        "categorical = categorical.replace('Other', -10)\n",
        "\n",
        "numerical = numerical.replace(-3, np.NaN)\n",
        "numerical = numerical.replace(-9, np.NaN)\n",
        "numerical = numerical.replace(-6, np.NaN)\n",
        "numerical = numerical.replace(-1, np.NaN)\n",
        "numerical = numerical.replace(-2, np.NaN)\n",
        "numerical = numerical.replace(\"Other\", np.NaN)"
      ]
    },
    {
      "cell_type": "code",
      "execution_count": 7,
      "metadata": {
        "id": "EUNRuRmLHoQo"
      },
      "outputs": [],
      "source": [
        "#Dropping columns with more than 80% missing\n",
        "missing_percentage = categorical.isnull().mean() * 100\n",
        "columns_to_drop = missing_percentage[missing_percentage > 80].index\n",
        "categorical = categorical.drop(columns_to_drop, axis=1)\n",
        "\n",
        "categorical.cf4fint = pd.to_datetime(categorical.cf4fint)\n",
        "categorical = categorical.drop(categorical.columns[categorical.nunique() == 1],axis=1)\n",
        "\n",
        "#Dropping columns with more than 80% missing\n",
        "missing_percentage = numerical.isnull().mean() * 100\n",
        "columns_to_drop = missing_percentage[missing_percentage > 80].index\n",
        "numerical = numerical.drop(columns_to_drop, axis=1)\n",
        "numerical = numerical.drop(numerical.columns[numerical.nunique() == 1],axis=1)"
      ]
    },
    {
      "cell_type": "code",
      "execution_count": 8,
      "metadata": {
        "id": "z1YDxROAay-9"
      },
      "outputs": [],
      "source": [
        "string_columns = ['ch5ppvtae', 'ch5wj9ae', 'ch5wj10ae']\n",
        "convert_to_float = ['ch5wj9pr','ch5ppvtpr','ch5wj10pr']\n",
        "\n",
        "# Drop string columns from df1 and add them to df2\n",
        "for column in string_columns:\n",
        "    categorical[column] = numerical[column]  # Add string column to df2\n",
        "    numerical.drop(column, axis=1, inplace=True)  # Drop string column from df1\n",
        "\n",
        "# Convert columns to floats\n",
        "numerical = numerical.replace(\"<0.1\", \"0\")\n",
        "for column in convert_to_float:\n",
        "  numerical[column] = numerical[column].astype(float)"
      ]
    },
    {
      "cell_type": "code",
      "execution_count": 9,
      "metadata": {
        "id": "9kWs7UA3aPXU"
      },
      "outputs": [],
      "source": [
        "#Impute missing data using knn\n",
        "from sklearn.impute import KNNImputer\n",
        "numerical = numerical.astype(float)\n",
        "imputer = KNNImputer(n_neighbors=3)  # You can adjust the number of neighbors as needed\n",
        "numerical_imputed = pd.DataFrame(imputer.fit_transform(numerical), columns=numerical.columns)"
      ]
    },
    {
      "cell_type": "code",
      "execution_count": 10,
      "metadata": {
        "id": "HgKMJNbXcP8S"
      },
      "outputs": [],
      "source": [
        "from sklearn.preprocessing import LabelEncoder\n",
        "label_encoder = LabelEncoder()\n",
        "\n",
        "# Iterate over each string column and apply label encoding\n",
        "for column in string_columns:\n",
        "    categorical[column] = label_encoder.fit_transform(categorical[column])"
      ]
    },
    {
      "cell_type": "code",
      "execution_count": 11,
      "metadata": {
        "id": "4ZXxDbh3_6U7"
      },
      "outputs": [],
      "source": [
        "# Removing variables of interest from training data after their missing values have been imputed\n",
        "selected_columns = categorical.loc[:,categorical.columns.str.startswith('m2b25a')]\n",
        "categorical = categorical.drop(selected_columns.columns, axis=1)"
      ]
    },
    {
      "cell_type": "code",
      "execution_count": 12,
      "metadata": {
        "id": "eci0UmothRzW"
      },
      "outputs": [],
      "source": [
        "#One hot encode the categorical columns\n",
        "cat_columns = categorical.columns\n",
        "one_hot = pd.get_dummies(categorical, columns=cat_columns)\n",
        "result = pd.concat([numerical_imputed, one_hot], axis=1)\n",
        "result = result.dropna(axis='columns')"
      ]
    },
    {
      "cell_type": "code",
      "execution_count": 13,
      "metadata": {
        "id": "SN5yKmnj2U5D"
      },
      "outputs": [],
      "source": [
        "train_ids = outcomes_df.challengeID.values.tolist()\n",
        "X_train = result[result['challengeID'].isin(train_ids)]\n",
        "y_train = outcomes_df.copy()"
      ]
    },
    {
      "cell_type": "code",
      "execution_count": 14,
      "metadata": {
        "id": "9uJUks1O4hEn"
      },
      "outputs": [],
      "source": [
        "# Define a function to replace specific values\n",
        "def replace_values(x):\n",
        "    return x.replace([-9, -6, -2, 2], 0)\n",
        "\n",
        "# Apply the function to each column\n",
        "selected_columns = selected_columns.apply(replace_values)"
      ]
    },
    {
      "cell_type": "code",
      "execution_count": 15,
      "metadata": {
        "id": "CL8AVMAD5GtG"
      },
      "outputs": [],
      "source": [
        "selected_columns = selected_columns.rename(columns={'m2b25a1': 'childs_father', 'm2b25a2': 'mothers_partner',\n",
        "                        'm2b25a3': 'childs_sibling', 'm2b25a4': 'maternal_grandparent',\n",
        "                        'm2b25a5': 'maternal_relative', 'm2b25a6': 'paternal_grandparent',\n",
        "                        'm2b25a7': 'paternal_relative', 'm2b25a8': 'fathers_partner',\n",
        "                        'm2b25a9': 'mothers_partners_relative','m2b25a10': 'non_relative',\n",
        "                        'm2b25a11': 'daycare_center','m2b25a12': 'headstart',\n",
        "                        'm2b25a13': 'other'})"
      ]
    },
    {
      "cell_type": "code",
      "execution_count": 16,
      "metadata": {
        "id": "jt5zfHcQOtEi"
      },
      "outputs": [],
      "source": [
        "for col1 in selected_columns.columns:\n",
        "    interaction_col_name = f\"{col1}_income\"\n",
        "    # Create interaction term column in df1\n",
        "    selected_columns[interaction_col_name] = numerical_imputed[\"cf2povco\"] * selected_columns[col1]"
      ]
    },
    {
      "cell_type": "code",
      "execution_count": 17,
      "metadata": {
        "id": "OdyK1ILsjFSU"
      },
      "outputs": [],
      "source": [
        "selected_columns['challengeID'] = X_train['challengeID']"
      ]
    },
    {
      "cell_type": "markdown",
      "metadata": {
        "id": "KRfzOLCHKqZ_"
      },
      "source": [
        "## Feature Selection"
      ]
    },
    {
      "cell_type": "markdown",
      "source": [
        "### Lasso"
      ],
      "metadata": {
        "id": "-TPcyEDlFDXm"
      }
    },
    {
      "cell_type": "code",
      "execution_count": 18,
      "metadata": {
        "id": "bT1-nq3oK_ku"
      },
      "outputs": [],
      "source": [
        "from sklearn.linear_model import Lasso\n",
        "from sklearn.model_selection import train_test_split\n",
        "from sklearn.model_selection import GridSearchCV, KFold"
      ]
    },
    {
      "cell_type": "code",
      "execution_count": 19,
      "metadata": {
        "id": "M5N6wX0tm2Xw"
      },
      "outputs": [],
      "source": [
        "X_train.set_index('challengeID', inplace=True)"
      ]
    },
    {
      "cell_type": "code",
      "execution_count": 20,
      "metadata": {
        "id": "M8ARts3en2Nt"
      },
      "outputs": [],
      "source": [
        "y_train.set_index('challengeID', inplace=True)"
      ]
    },
    {
      "cell_type": "code",
      "execution_count": 21,
      "metadata": {
        "id": "P9m-6w0gKsBa"
      },
      "outputs": [],
      "source": [
        "X_train, X_test, y_train, y_test = train_test_split(X_train, y_train, test_size=0.30, random_state=42)\n",
        "X_val, X_test, y_val, y_test = train_test_split(X_train, y_train, test_size=0.50, random_state=42)"
      ]
    },
    {
      "cell_type": "code",
      "execution_count": 22,
      "metadata": {
        "id": "gJw1B1EZK4n3"
      },
      "outputs": [],
      "source": [
        "from sklearn.linear_model import Lasso\n",
        "from sklearn.model_selection import train_test_split\n",
        "from sklearn.model_selection import GridSearchCV, KFold\n",
        "\n",
        "# parameters to be tested on GridSearchCV\n",
        "#params = {\"alpha\":np.arange(0.00001, 10, 500)}\n",
        "\n",
        "# Number of Folds and adding the random state for replication\n",
        "#kf=KFold(n_splits=5,shuffle=True, random_state=42)\n",
        "\n",
        "# Initializing the Model\n",
        "#lasso = Lasso()\n",
        "\n",
        "# GridSearchCV with model, params and folds.\n",
        "#lasso_cv=GridSearchCV(lasso, param_grid=params, cv=kf)\n",
        "#lasso_cv.fit(X_train, y_train)\n",
        "#print(\"Best Params {}\".format(lasso_cv.best_params_))"
      ]
    },
    {
      "cell_type": "code",
      "execution_count": 23,
      "metadata": {
        "colab": {
          "base_uri": "https://localhost:8080/"
        },
        "id": "Npdvkws9TPU3",
        "outputId": "56faee56-ce80-4263-bbd6-0d53eaed6848"
      },
      "outputs": [
        {
          "output_type": "stream",
          "name": "stderr",
          "text": [
            "/usr/local/lib/python3.10/dist-packages/sklearn/linear_model/_coordinate_descent.py:631: ConvergenceWarning: Objective did not converge. You might want to increase the number of iterations, check the scale of the features or consider increasing regularisation. Duality gap: 2.168e-01, tolerance: 3.626e-02\n",
            "  model = cd_fast.enet_coordinate_descent(\n"
          ]
        }
      ],
      "source": [
        "# calling the model with the best parameter\n",
        "not_missing_indices = ~y_train['gpa'].isnull()\n",
        "X_train_filtered = X_train[not_missing_indices]\n",
        "y_train_filtered = y_train['gpa'][not_missing_indices]\n",
        "\n",
        "lasso1 = Lasso(alpha=0.00001)\n",
        "lasso1.fit(X_train_filtered, y_train_filtered)\n",
        "\n",
        "# Using np.abs() to make coefficients positive.\n",
        "lasso1_coef = np.abs(lasso1.coef_)\n",
        "\n",
        "names=X_train.columns\n",
        "\n",
        "# Subsetting the features which has more than 0.001 importance.\n",
        "feature_subset=np.array(names)[lasso1_coef>0.001]"
      ]
    },
    {
      "cell_type": "code",
      "execution_count": 24,
      "metadata": {
        "id": "PNSzzlwbe1uw"
      },
      "outputs": [],
      "source": [
        "X_train = X_train[feature_subset]\n",
        "X_val = X_val[feature_subset]\n",
        "X_test = X_test[feature_subset]"
      ]
    },
    {
      "cell_type": "markdown",
      "metadata": {
        "id": "MhHxNTRxXFGN"
      },
      "source": [
        "### Mutual Information Selection"
      ]
    },
    {
      "cell_type": "code",
      "execution_count": 25,
      "metadata": {
        "id": "aW97rkGQXHFN",
        "colab": {
          "base_uri": "https://localhost:8080/"
        },
        "outputId": "2490446c-3e85-454d-b811-003504662b75"
      },
      "outputs": [
        {
          "output_type": "execute_result",
          "data": {
            "text/plain": [
              "ch5wj10ss    0.099662\n",
              "f5a6c01      0.095138\n",
              "cm2alvf      0.093608\n",
              "cm1inpov     0.086990\n",
              "f3j59_2      0.076889\n",
              "               ...   \n",
              "f4b20a_3     0.000000\n",
              "f2k25b_-6    0.000000\n",
              "f4c7e_2      0.000000\n",
              "f4c25_2      0.000000\n",
              "f2d3_1       0.000000\n",
              "Length: 2013, dtype: float64"
            ]
          },
          "metadata": {},
          "execution_count": 25
        }
      ],
      "source": [
        "from sklearn.feature_selection import mutual_info_regression\n",
        "not_missing_indices = ~y_train['gpa'].isnull()\n",
        "X_train_filtered = X_train[not_missing_indices]\n",
        "y_train_filtered = y_train['gpa'][not_missing_indices]\n",
        "\n",
        "mutual_info = mutual_info_regression(X_train_filtered, y_train_filtered)\n",
        "\n",
        "mutual_info = pd.Series(mutual_info)\n",
        "mutual_info.index = X_train.columns\n",
        "mutual_info.sort_values(ascending=False)"
      ]
    },
    {
      "cell_type": "code",
      "execution_count": 26,
      "metadata": {
        "id": "HgSLCyDJg75N",
        "colab": {
          "base_uri": "https://localhost:8080/"
        },
        "outputId": "99b46cc9-9807-4000-d87e-e6c6926cfa64"
      },
      "outputs": [
        {
          "output_type": "execute_result",
          "data": {
            "text/plain": [
              "array([False, False, False, ..., False, False, False])"
            ]
          },
          "metadata": {},
          "execution_count": 26
        }
      ],
      "source": [
        "from sklearn.feature_selection import SelectPercentile\n",
        "\n",
        "selected_top_columns = SelectPercentile(mutual_info_regression, percentile=1)\n",
        "selected_top_columns.fit(X_train_filtered, y_train_filtered)\n",
        "selected_top_columns.get_support()"
      ]
    },
    {
      "cell_type": "code",
      "execution_count": 27,
      "metadata": {
        "id": "icUlq0n-hCbT"
      },
      "outputs": [],
      "source": [
        "columns = X_train.columns[selected_top_columns.get_support()]\n",
        "X_train = X_train[columns]\n",
        "X_val = X_val[columns]\n",
        "X_test = X_test[columns]"
      ]
    },
    {
      "cell_type": "code",
      "execution_count": 28,
      "metadata": {
        "id": "zor9UI-UlvlN"
      },
      "outputs": [],
      "source": [
        "X_train = pd.merge(X_train, selected_columns, how='left', left_index=True, right_on = 'challengeID')\n",
        "X_train.reset_index(drop=True, inplace=True)\n",
        "X_val = pd.merge(X_val, selected_columns, how='left', left_index=True, right_on = 'challengeID')\n",
        "X_val.reset_index(drop=True, inplace=True)\n",
        "X_test = pd.merge(X_test, selected_columns, how='left', left_index=True, right_on = 'challengeID')\n",
        "X_test.reset_index(drop=True, inplace=True)"
      ]
    },
    {
      "cell_type": "code",
      "execution_count": 29,
      "metadata": {
        "id": "iwSOYKetqFuZ"
      },
      "outputs": [],
      "source": [
        "X_train.drop(columns=['challengeID'], inplace=True)\n",
        "X_val.drop(columns=['challengeID'], inplace=True)\n",
        "X_test.drop(columns=['challengeID'], inplace=True)"
      ]
    },
    {
      "cell_type": "code",
      "execution_count": 30,
      "metadata": {
        "id": "pcXO7Y_pqSb6"
      },
      "outputs": [],
      "source": [
        "y_train.reset_index(drop=True, inplace=True)\n",
        "y_val.reset_index(drop=True, inplace=True)\n",
        "y_test.reset_index(drop=True, inplace=True)"
      ]
    },
    {
      "cell_type": "markdown",
      "metadata": {
        "id": "sIZhvUXnvX--"
      },
      "source": [
        "## Model Testing - Continuous"
      ]
    },
    {
      "cell_type": "markdown",
      "metadata": {
        "id": "_BsKzDSAiGQM"
      },
      "source": [
        "### Linear Regression"
      ]
    },
    {
      "cell_type": "code",
      "execution_count": 31,
      "metadata": {
        "id": "GdHQeSbKme3V"
      },
      "outputs": [],
      "source": [
        "import pandas as pd\n",
        "from sklearn.impute import SimpleImputer\n",
        "from sklearn.preprocessing import StandardScaler\n",
        "from sklearn.model_selection import train_test_split, RandomizedSearchCV, cross_val_score\n",
        "from sklearn.linear_model import LinearRegression\n",
        "from sklearn.metrics import mean_squared_error\n",
        "from scipy.stats import uniform\n",
        "from sklearn.metrics import r2_score"
      ]
    },
    {
      "cell_type": "code",
      "execution_count": 32,
      "metadata": {
        "id": "v6Ps5StckS5M",
        "colab": {
          "base_uri": "https://localhost:8080/"
        },
        "outputId": "810fa622-49c9-4db0-dbb0-a86fffb2633c"
      },
      "outputs": [
        {
          "output_type": "stream",
          "name": "stdout",
          "text": [
            "gpa: 0.11552354109530523\n",
            "grit: 0.08184306192804922\n",
            "materialHardship: 0.07646361595567673\n"
          ]
        }
      ],
      "source": [
        "for col in outcomes_df.columns[1:4]:\n",
        "\n",
        "  model = LinearRegression(copy_X=False)\n",
        "  param_distributions = {'fit_intercept': [True, False], 'positive': [True, False],\n",
        "                       'copy_X': [True, False], 'n_jobs': [1, 2, 3, 4, -1]}\n",
        "\n",
        "  not_missing_indices = ~y_train[col].isnull()\n",
        "  X_train_filtered = X_train[not_missing_indices]\n",
        "  y_train_filtered = y_train[col][not_missing_indices]\n",
        "\n",
        "  not_missing_val = ~y_val[col].isnull()\n",
        "  X_val_filtered = X_val[not_missing_val]\n",
        "  y_val_filtered = y_val[col][not_missing_val]\n",
        "\n",
        "  random_search = RandomizedSearchCV(model, param_distributions, cv=5, scoring='neg_mean_squared_error', n_iter=5)\n",
        "  random_search.fit(X_train_filtered, y_train_filtered)\n",
        "\n",
        "  best_lin = random_search.best_estimator_\n",
        "  score = cross_val_score(best_lin,X_val_filtered,y_val_filtered,cv=10)\n",
        "\n",
        "  print(f\"{col}: {np.mean(abs(score))}\")"
      ]
    },
    {
      "cell_type": "markdown",
      "metadata": {
        "id": "eqjgThMF8ALM"
      },
      "source": [
        "### XGBoost\n",
        "Code originated and edited from https://jayant017.medium.com/hyperparameter-tuning-in-xgboost-using-randomizedsearchcv-88fcb5b58a73"
      ]
    },
    {
      "cell_type": "code",
      "execution_count": 33,
      "metadata": {
        "id": "ElyLHJKelcyH"
      },
      "outputs": [],
      "source": [
        "X_train.columns = X_train.columns.str.replace(r'[^a-zA-Z0-9]', '_')\n",
        "X_val.columns = X_val.columns.str.replace(r'[^a-zA-Z0-9]', '_')\n",
        "X_test.columns = X_test.columns.str.replace(r'[^a-zA-Z0-9]', '_')"
      ]
    },
    {
      "cell_type": "code",
      "execution_count": 34,
      "metadata": {
        "id": "csO7uPQDrTcL",
        "colab": {
          "base_uri": "https://localhost:8080/"
        },
        "outputId": "3d59b2ed-f17c-4612-8fb8-013e9c6d234d"
      },
      "outputs": [
        {
          "output_type": "stream",
          "name": "stdout",
          "text": [
            "Fitting 5 folds for each of 5 candidates, totalling 25 fits\n"
          ]
        },
        {
          "output_type": "stream",
          "name": "stderr",
          "text": [
            "/usr/local/lib/python3.10/dist-packages/joblib/externals/loky/backend/fork_exec.py:38: RuntimeWarning: os.fork() was called. os.fork() is incompatible with multithreaded code, and JAX is multithreaded, so this will likely lead to a deadlock.\n",
            "  pid = os.fork()\n"
          ]
        },
        {
          "output_type": "stream",
          "name": "stdout",
          "text": [
            "gpa: 0.12464045314333064\n",
            "Fitting 5 folds for each of 5 candidates, totalling 25 fits\n",
            "grit: 0.06170344207150032\n",
            "Fitting 5 folds for each of 5 candidates, totalling 25 fits\n",
            "materialHardship: 0.025194045835517688\n"
          ]
        }
      ],
      "source": [
        "from sklearn.model_selection import RandomizedSearchCV\n",
        "import xgboost\n",
        "\n",
        "for col in outcomes_df.columns[1:4]:\n",
        "  xreg = xgboost.XGBRegressor()\n",
        "\n",
        "  params = {\n",
        "  'learning_rate': [0.05,0.10,0.15,0.20,0.25,0.30],\n",
        "  'max_depth': [ 3, 4, 5, 6, 8, 10, 12, 15],\n",
        "  'min_child_weight': [ 1, 3, 5, 7 ],\n",
        "  'gamma': [ 0.0, 0.1, 0.2 , 0.3, 0.4 ],\n",
        "  'colsample_bytree': [ 0.3, 0.4, 0.5 , 0.7 ]\n",
        "  }\n",
        "\n",
        "  not_missing_indices = ~y_train[col].isnull()\n",
        "  X_train_filtered = X_train[not_missing_indices]\n",
        "  y_train_filtered = y_train[col][not_missing_indices]\n",
        "\n",
        "  not_missing_val = ~y_val[col].isnull()\n",
        "  X_val_filtered = X_val[not_missing_val]\n",
        "  y_val_filtered = y_val[col][not_missing_val]\n",
        "\n",
        "  rs_model=RandomizedSearchCV(xreg,param_distributions=params,n_iter=5,scoring='neg_mean_squared_error',n_jobs=-1,cv=5,verbose=3)\n",
        "  rs_model.fit(X_train_filtered,y_train_filtered)\n",
        "\n",
        "  regressor=rs_model.best_estimator_\n",
        "  score=cross_val_score(regressor,X_val_filtered,y_val_filtered,cv=10)\n",
        "\n",
        "  print(f\"{col}: {np.mean(abs(score))}\")"
      ]
    },
    {
      "cell_type": "markdown",
      "metadata": {
        "id": "U6q1m5Ny8T5N"
      },
      "source": [
        "### Random Forest\n",
        "Code originated and edited from https://towardsdatascience.com/hyperparameter-tuning-the-random-forest-in-python-using-scikit-learn-28d2aa77dd74"
      ]
    },
    {
      "cell_type": "code",
      "execution_count": 35,
      "metadata": {
        "colab": {
          "base_uri": "https://localhost:8080/"
        },
        "id": "-KKfert28Xbm",
        "outputId": "4195ff56-9537-460a-b17e-9d63eba7c3c6"
      },
      "outputs": [
        {
          "output_type": "stream",
          "name": "stdout",
          "text": [
            "Fitting 5 folds for each of 5 candidates, totalling 25 fits\n",
            "gpa: 0.14380119551597187\n",
            "Fitting 5 folds for each of 5 candidates, totalling 25 fits\n",
            "grit: 0.07684187388618904\n",
            "Fitting 5 folds for each of 5 candidates, totalling 25 fits\n",
            "materialHardship: 0.09499583608474992\n"
          ]
        }
      ],
      "source": [
        "from sklearn.model_selection import RandomizedSearchCV\n",
        "from sklearn.ensemble import RandomForestRegressor\n",
        "\n",
        "for col in outcomes_df.columns[1:4]:\n",
        "  rf = RandomForestRegressor(random_state = 42)\n",
        "\n",
        "  # Number of trees in random forest\n",
        "  n_estimators = [int(x) for x in np.linspace(start = 200, stop = 2000, num = 10)]\n",
        "  # Maximum number of levels in tree\n",
        "  max_depth = [int(x) for x in np.linspace(10, 110, num = 11)]\n",
        "  max_depth.append(None)\n",
        "  # Minimum number of samples required to split a node\n",
        "  min_samples_split = [2, 5, 10]\n",
        "  # Minimum number of samples required at each leaf node\n",
        "  min_samples_leaf = [1, 2, 4]\n",
        "  # Method of selecting samples for training each tree\n",
        "  bootstrap = [True, False]\n",
        "  # Create the random grid\n",
        "  random_grid = {'n_estimators': n_estimators,\n",
        "                'max_depth': max_depth,\n",
        "                'min_samples_split': min_samples_split,\n",
        "                'min_samples_leaf': min_samples_leaf,\n",
        "                'bootstrap': bootstrap}\n",
        "\n",
        "  not_missing_indices = ~y_train[col].isnull()\n",
        "  X_train_filtered = X_train[not_missing_indices]\n",
        "  y_train_filtered = y_train[col][not_missing_indices]\n",
        "\n",
        "  not_missing_val = ~y_val[col].isnull()\n",
        "  X_val_filtered = X_val[not_missing_val]\n",
        "  y_val_filtered = y_val[col][not_missing_val]\n",
        "\n",
        "  rf_random = RandomizedSearchCV(estimator = rf, param_distributions = random_grid, n_iter = 5, cv = 5, verbose=2, random_state=42, n_jobs = -1)\n",
        "  # Fit the random search model\n",
        "  rf_random.fit(X_train_filtered, y_train_filtered)\n",
        "\n",
        "  best_rf = rf_random.best_estimator_\n",
        "  score=cross_val_score(best_rf,X_val_filtered,y_val_filtered,cv=10)\n",
        "  print(f\"{col}: {np.mean(abs(score))}\")"
      ]
    },
    {
      "cell_type": "markdown",
      "metadata": {
        "id": "cghxiwEZ-uGK"
      },
      "source": [
        "## Model Testing - Categorical"
      ]
    },
    {
      "cell_type": "code",
      "execution_count": 36,
      "metadata": {
        "id": "rcklsSsNqDf1"
      },
      "outputs": [],
      "source": [
        "merged_df = X_train.join(y_train)"
      ]
    },
    {
      "cell_type": "code",
      "execution_count": 37,
      "metadata": {
        "id": "txvz8MjLjz6e"
      },
      "outputs": [],
      "source": [
        "# Upsample class 'B' to have the same number of rows as class 'A'\n",
        "not_missing_indices = ~merged_df['eviction'].isnull()\n",
        "merged_df_filtered = merged_df['eviction'][not_missing_indices]\n",
        "\n",
        "upsampled_class_1_evic = merged_df[merged_df['eviction'] == 1.0].sample(n=merged_df['eviction'].value_counts()[0.0], replace=True)\n",
        "\n",
        "# Concatenate original DataFrame with upsampled class 'B'\n",
        "upsampled_df_evic = pd.concat([merged_df[merged_df['eviction'] == 0.0], upsampled_class_1_evic], ignore_index=True)\n",
        "X_train_evic = upsampled_df_evic.iloc[:,:-6]\n",
        "Y_train_evic = upsampled_df_evic.iloc[:,-6:]"
      ]
    },
    {
      "cell_type": "code",
      "execution_count": 38,
      "metadata": {
        "id": "pCPYtMmakCRy"
      },
      "outputs": [],
      "source": [
        "# Upsample class 'B' to have the same number of rows as class 'A'\n",
        "not_missing_indices = ~merged_df['layoff'].isnull()\n",
        "merged_df_filtered = merged_df['layoff'][not_missing_indices]\n",
        "\n",
        "upsampled_class_1_layoff = merged_df[merged_df['layoff'] == 1.0].sample(n=merged_df['layoff'].value_counts()[0.0], replace=True)\n",
        "\n",
        "# Concatenate original DataFrame with upsampled class 'B'\n",
        "upsampled_df_layoff = pd.concat([merged_df[merged_df['layoff'] == 0.0], upsampled_class_1_layoff], ignore_index=True)\n",
        "X_train_layoff = upsampled_df_layoff.iloc[:,:-6]\n",
        "Y_train_layoff = upsampled_df_layoff.iloc[:,-6:]"
      ]
    },
    {
      "cell_type": "code",
      "execution_count": 39,
      "metadata": {
        "id": "HXi6Zcv3kCp7"
      },
      "outputs": [],
      "source": [
        "# Upsample class 'B' to have the same number of rows as class 'A'\n",
        "not_missing_indices = ~merged_df['jobTraining'].isnull()\n",
        "merged_df_filtered = merged_df['jobTraining'][not_missing_indices]\n",
        "\n",
        "upsampled_class_1_job = merged_df[merged_df['jobTraining'] == 1.0].sample(n=merged_df['jobTraining'].value_counts()[0.0], replace=True)\n",
        "\n",
        "# Concatenate original DataFrame with upsampled class 'B'\n",
        "upsampled_df_job = pd.concat([merged_df[merged_df['jobTraining'] == 0.0], upsampled_class_1_job], ignore_index=True)\n",
        "X_train_job = upsampled_df_job.iloc[:,:-6]\n",
        "Y_train_job = upsampled_df_job.iloc[:,-6:]"
      ]
    },
    {
      "cell_type": "markdown",
      "metadata": {
        "id": "hu8IxZiB-zSj"
      },
      "source": [
        "### Logistic Regression"
      ]
    },
    {
      "cell_type": "code",
      "execution_count": 40,
      "metadata": {
        "id": "xdEOEF0_CPMj"
      },
      "outputs": [],
      "source": [
        "import matplotlib.pyplot as plt\n",
        "import numpy as np\n",
        "from sklearn.linear_model import LogisticRegression\n",
        "from sklearn.metrics import classification_report, confusion_matrix"
      ]
    },
    {
      "cell_type": "code",
      "execution_count": 41,
      "metadata": {
        "colab": {
          "base_uri": "https://localhost:8080/"
        },
        "id": "aZ2GlnxFCS7q",
        "outputId": "861a0653-52fc-4f16-aadb-4bf0116902a7"
      },
      "outputs": [
        {
          "output_type": "execute_result",
          "data": {
            "text/plain": [
              "0.6527777777777778"
            ]
          },
          "metadata": {},
          "execution_count": 41
        }
      ],
      "source": [
        "not_missing_test = ~y_test['eviction'].isnull()\n",
        "X_test_filtered = X_test[not_missing_test]\n",
        "y_test_filtered = y_test['eviction'][not_missing_test]\n",
        "\n",
        "model = LogisticRegression(solver='liblinear', random_state=0)\n",
        "model.fit(X_train_evic, Y_train_evic['eviction'])\n",
        "model.score(X_test_filtered, y_test_filtered)"
      ]
    },
    {
      "cell_type": "code",
      "execution_count": 42,
      "metadata": {
        "colab": {
          "base_uri": "https://localhost:8080/"
        },
        "id": "38f50vhv9ZP_",
        "outputId": "2eeb3578-e1df-4af5-dd3c-a57a4276dacb"
      },
      "outputs": [
        {
          "output_type": "execute_result",
          "data": {
            "text/plain": [
              "0.5963718820861678"
            ]
          },
          "metadata": {},
          "execution_count": 42
        }
      ],
      "source": [
        "not_missing_test = ~y_test['layoff'].isnull()\n",
        "X_test_filtered = X_test[not_missing_test]\n",
        "y_test_filtered = y_test['layoff'][not_missing_test]\n",
        "\n",
        "model = LogisticRegression(solver='liblinear', random_state=0)\n",
        "model.fit(X_train_layoff, Y_train_layoff['layoff'])\n",
        "model.score(X_test_filtered, y_test_filtered)"
      ]
    },
    {
      "cell_type": "code",
      "execution_count": 43,
      "metadata": {
        "colab": {
          "base_uri": "https://localhost:8080/"
        },
        "id": "9YA2w9cYBPCb",
        "outputId": "d7902001-f4bc-41b0-d45e-eb93edd5f178"
      },
      "outputs": [
        {
          "output_type": "execute_result",
          "data": {
            "text/plain": [
              "0.6514851485148515"
            ]
          },
          "metadata": {},
          "execution_count": 43
        }
      ],
      "source": [
        "not_missing_test = ~y_test['jobTraining'].isnull()\n",
        "X_test_filtered = X_test[not_missing_test]\n",
        "y_test_filtered = y_test['jobTraining'][not_missing_test]\n",
        "\n",
        "model = LogisticRegression(solver='liblinear', random_state=0)\n",
        "model.fit(X_train_job, Y_train_job['jobTraining'])\n",
        "model.score(X_test_filtered, y_test_filtered)"
      ]
    },
    {
      "cell_type": "markdown",
      "metadata": {
        "id": "EUWJ5YVZ-0vD"
      },
      "source": [
        "### XGBoost\n",
        "Code originated and edited from https://jayant017.medium.com/hyperparameter-tuning-in-xgboost-using-randomizedsearchcv-88fcb5b58a73"
      ]
    },
    {
      "cell_type": "code",
      "execution_count": 44,
      "metadata": {
        "id": "tbJfGTcgmgG-"
      },
      "outputs": [],
      "source": [
        "from sklearn.model_selection import RandomizedSearchCV\n",
        "import xgboost\n",
        "from sklearn.model_selection import RandomizedSearchCV\n",
        "from sklearn.ensemble import RandomForestClassifier"
      ]
    },
    {
      "cell_type": "code",
      "execution_count": 45,
      "metadata": {
        "colab": {
          "base_uri": "https://localhost:8080/"
        },
        "id": "asQSpZ7O-3iw",
        "outputId": "b243d9e7-a074-467c-f482-1f388d58a57d"
      },
      "outputs": [
        {
          "output_type": "stream",
          "name": "stdout",
          "text": [
            "Fitting 5 folds for each of 5 candidates, totalling 25 fits\n",
            "0.9610105580693815\n"
          ]
        }
      ],
      "source": [
        "xreg = xgboost.XGBClassifier()\n",
        "\n",
        "params = {\n",
        "'learning_rate': [0.05,0.10,0.15,0.20,0.25,0.30],\n",
        "'max_depth': [ 3, 4, 5, 6, 8, 10, 12, 15],\n",
        "'min_child_weight': [ 1, 3, 5, 7 ],\n",
        "'gamma': [ 0.0, 0.1, 0.2 , 0.3, 0.4 ],\n",
        "'colsample_bytree': [ 0.3, 0.4, 0.5 , 0.7 ]\n",
        "}\n",
        "\n",
        "not_missing_val = ~y_val['eviction'].isnull()\n",
        "X_val_filtered = X_val[not_missing_val]\n",
        "y_val_filtered = y_val['eviction'][not_missing_val]\n",
        "\n",
        "rs_model=RandomizedSearchCV(xreg,param_distributions=params,n_iter=5,scoring='roc_auc',n_jobs=-1,cv=5,verbose=3)\n",
        "rs_model.fit(X_train_evic,Y_train_evic['eviction'])\n",
        "\n",
        "classifier=rs_model.best_estimator_\n",
        "score=cross_val_score(classifier,X_val_filtered,y_val_filtered,cv=10)\n",
        "\n",
        "print(f\"{np.mean(abs(score))}\")"
      ]
    },
    {
      "cell_type": "code",
      "execution_count": 46,
      "metadata": {
        "colab": {
          "base_uri": "https://localhost:8080/"
        },
        "id": "kjTXTKdeBTlj",
        "outputId": "d669cfe0-e918-4575-e2f9-d9570fddca04"
      },
      "outputs": [
        {
          "output_type": "stream",
          "name": "stdout",
          "text": [
            "Fitting 5 folds for each of 5 candidates, totalling 25 fits\n",
            "0.7682125603864735\n"
          ]
        }
      ],
      "source": [
        "xreg = xgboost.XGBClassifier()\n",
        "\n",
        "params = {\n",
        "'learning_rate': [0.05,0.10,0.15,0.20,0.25,0.30],\n",
        "'max_depth': [ 3, 4, 5, 6, 8, 10, 12, 15],\n",
        "'min_child_weight': [ 1, 3, 5, 7 ],\n",
        "'gamma': [ 0.0, 0.1, 0.2 , 0.3, 0.4 ],\n",
        "'colsample_bytree': [ 0.3, 0.4, 0.5 , 0.7 ]\n",
        "}\n",
        "\n",
        "not_missing_val = ~y_val['layoff'].isnull()\n",
        "X_val_filtered = X_val[not_missing_val]\n",
        "y_val_filtered = y_val['layoff'][not_missing_val]\n",
        "\n",
        "rs_model=RandomizedSearchCV(xreg,param_distributions=params,n_iter=5,scoring='roc_auc',n_jobs=-1,cv=5,verbose=3)\n",
        "rs_model.fit(X_train_layoff,Y_train_layoff['layoff'])\n",
        "\n",
        "classifier=rs_model.best_estimator_\n",
        "score=cross_val_score(classifier,X_val_filtered,y_val_filtered,cv=10)\n",
        "\n",
        "print(f\"{np.mean(abs(score))}\")"
      ]
    },
    {
      "cell_type": "code",
      "execution_count": 47,
      "metadata": {
        "colab": {
          "base_uri": "https://localhost:8080/"
        },
        "id": "gZT4MZBhBT9U",
        "outputId": "196d5834-0342-43b2-c581-1cae120ea8e9"
      },
      "outputs": [
        {
          "output_type": "stream",
          "name": "stdout",
          "text": [
            "Fitting 5 folds for each of 5 candidates, totalling 25 fits\n",
            "0.7213800904977375\n"
          ]
        }
      ],
      "source": [
        "xreg = xgboost.XGBClassifier()\n",
        "\n",
        "params = {\n",
        "'learning_rate': [0.05,0.10,0.15,0.20,0.25,0.30],\n",
        "'max_depth': [ 3, 4, 5, 6, 8, 10, 12, 15],\n",
        "'min_child_weight': [ 1, 3, 5, 7 ],\n",
        "'gamma': [ 0.0, 0.1, 0.2 , 0.3, 0.4 ],\n",
        "'colsample_bytree': [ 0.3, 0.4, 0.5 , 0.7 ]\n",
        "}\n",
        "\n",
        "not_missing_val = ~y_val['jobTraining'].isnull()\n",
        "X_val_filtered = X_val[not_missing_val]\n",
        "y_val_filtered = y_val['jobTraining'][not_missing_val]\n",
        "\n",
        "rs_model=RandomizedSearchCV(xreg,param_distributions=params,n_iter=5,scoring='roc_auc',n_jobs=-1,cv=5,verbose=3)\n",
        "rs_model.fit(X_train_job,Y_train_job['jobTraining'])\n",
        "\n",
        "classifier=rs_model.best_estimator_\n",
        "score=cross_val_score(classifier,X_val_filtered,y_val_filtered,cv=10)\n",
        "\n",
        "print(f\"{np.mean(abs(score))}\")"
      ]
    },
    {
      "cell_type": "markdown",
      "metadata": {
        "id": "XxDZB52e-3GH"
      },
      "source": [
        "### Random Forest\n",
        "Code originated and updated from https://towardsdatascience.com/hyperparameter-tuning-the-random-forest-in-python-using-scikit-learn-28d2aa77dd74"
      ]
    },
    {
      "cell_type": "code",
      "execution_count": 48,
      "metadata": {
        "colab": {
          "base_uri": "https://localhost:8080/"
        },
        "id": "1XsZHi9n-v7p",
        "outputId": "1ccf31de-20b4-4387-f720-d4783a052f79"
      },
      "outputs": [
        {
          "output_type": "stream",
          "name": "stdout",
          "text": [
            "Fitting 5 folds for each of 5 candidates, totalling 25 fits\n",
            "0.9610105580693815\n"
          ]
        }
      ],
      "source": [
        "rf = RandomForestClassifier(random_state = 42)\n",
        "\n",
        "# Number of trees in random forest\n",
        "n_estimators = [int(x) for x in np.linspace(start = 200, stop = 2000, num = 10)]\n",
        "# Maximum number of levels in tree\n",
        "max_depth = [int(x) for x in np.linspace(10, 110, num = 11)]\n",
        "max_depth.append(None)\n",
        "# Minimum number of samples required to split a node\n",
        "min_samples_split = [2, 5, 10]\n",
        "# Minimum number of samples required at each leaf node\n",
        "min_samples_leaf = [1, 2, 4]\n",
        "# Method of selecting samples for training each tree\n",
        "bootstrap = [True, False]\n",
        "# Create the random grid\n",
        "random_grid = {'n_estimators': n_estimators,\n",
        "              'max_depth': max_depth,\n",
        "              'min_samples_split': min_samples_split,\n",
        "              'min_samples_leaf': min_samples_leaf,\n",
        "              'bootstrap': bootstrap}\n",
        "\n",
        "not_missing_val = ~y_val['eviction'].isnull()\n",
        "X_val_filtered = X_val[not_missing_val]\n",
        "y_val_filtered = y_val['eviction'][not_missing_val]\n",
        "\n",
        "rf_random = RandomizedSearchCV(estimator = rf, param_distributions = random_grid, n_iter = 5, cv = 5, verbose=2, random_state=42, n_jobs = -1)\n",
        "# Fit the random search model\n",
        "rf_random.fit(X_train_evic, Y_train_evic['eviction'])\n",
        "\n",
        "best_rf = rf_random.best_estimator_\n",
        "score=cross_val_score(best_rf,X_val_filtered, y_val_filtered,cv=10)\n",
        "print(f\"{np.mean(abs(score))}\")"
      ]
    },
    {
      "cell_type": "code",
      "execution_count": 49,
      "metadata": {
        "colab": {
          "base_uri": "https://localhost:8080/"
        },
        "id": "ZGaeaOhLBkwR",
        "outputId": "dfbf249a-534d-49b1-f7bf-846b3305f0ba"
      },
      "outputs": [
        {
          "output_type": "stream",
          "name": "stdout",
          "text": [
            "Fitting 5 folds for each of 5 candidates, totalling 25 fits\n",
            "0.7638164251207729\n"
          ]
        }
      ],
      "source": [
        "rf = RandomForestClassifier(random_state = 42)\n",
        "\n",
        "# Number of trees in random forest\n",
        "n_estimators = [int(x) for x in np.linspace(start = 200, stop = 2000, num = 10)]\n",
        "# Maximum number of levels in tree\n",
        "max_depth = [int(x) for x in np.linspace(10, 110, num = 11)]\n",
        "max_depth.append(None)\n",
        "# Minimum number of samples required to split a node\n",
        "min_samples_split = [2, 5, 10]\n",
        "# Minimum number of samples required at each leaf node\n",
        "min_samples_leaf = [1, 2, 4]\n",
        "# Method of selecting samples for training each tree\n",
        "bootstrap = [True, False]\n",
        "# Create the random grid\n",
        "random_grid = {'n_estimators': n_estimators,\n",
        "              'max_depth': max_depth,\n",
        "              'min_samples_split': min_samples_split,\n",
        "              'min_samples_leaf': min_samples_leaf,\n",
        "              'bootstrap': bootstrap}\n",
        "\n",
        "not_missing_val = ~y_val['layoff'].isnull()\n",
        "X_val_filtered = X_val[not_missing_val]\n",
        "y_val_filtered = y_val['layoff'][not_missing_val]\n",
        "\n",
        "rf_random = RandomizedSearchCV(estimator = rf, param_distributions = random_grid, n_iter = 5, cv = 5, verbose=2, random_state=42, n_jobs = -1)\n",
        "# Fit the random search model\n",
        "rf_random.fit(X_train_layoff, Y_train_layoff['layoff'])\n",
        "\n",
        "best_rf = rf_random.best_estimator_\n",
        "score=cross_val_score(best_rf,X_val_filtered, y_val_filtered,cv=10)\n",
        "print(f\"{np.mean(abs(score))}\")"
      ]
    },
    {
      "cell_type": "code",
      "execution_count": 50,
      "metadata": {
        "colab": {
          "base_uri": "https://localhost:8080/"
        },
        "id": "0MZysqyiBlXU",
        "outputId": "cc7c3bea-1f14-472c-ccbc-5f573a28a09d"
      },
      "outputs": [
        {
          "output_type": "stream",
          "name": "stdout",
          "text": [
            "Fitting 5 folds for each of 5 candidates, totalling 25 fits\n",
            "0.7134615384615385\n"
          ]
        }
      ],
      "source": [
        "rf = RandomForestClassifier(random_state = 42)\n",
        "\n",
        "# Number of trees in random forest\n",
        "n_estimators = [int(x) for x in np.linspace(start = 200, stop = 2000, num = 10)]\n",
        "# Maximum number of levels in tree\n",
        "max_depth = [int(x) for x in np.linspace(10, 110, num = 11)]\n",
        "max_depth.append(None)\n",
        "# Minimum number of samples required to split a node\n",
        "min_samples_split = [2, 5, 10]\n",
        "# Minimum number of samples required at each leaf node\n",
        "min_samples_leaf = [1, 2, 4]\n",
        "# Method of selecting samples for training each tree\n",
        "bootstrap = [True, False]\n",
        "# Create the random grid\n",
        "random_grid = {'n_estimators': n_estimators,\n",
        "              'max_depth': max_depth,\n",
        "              'min_samples_split': min_samples_split,\n",
        "              'min_samples_leaf': min_samples_leaf,\n",
        "              'bootstrap': bootstrap}\n",
        "\n",
        "not_missing_val = ~y_val['jobTraining'].isnull()\n",
        "X_val_filtered = X_val[not_missing_val]\n",
        "y_val_filtered = y_val['jobTraining'][not_missing_val]\n",
        "\n",
        "rf_random = RandomizedSearchCV(estimator = rf, param_distributions = random_grid, n_iter = 5, cv = 5, verbose=2, random_state=42, n_jobs = -1)\n",
        "# Fit the random search model\n",
        "rf_random.fit(X_train_job, Y_train_job['jobTraining'])\n",
        "\n",
        "best_rf = rf_random.best_estimator_\n",
        "score=cross_val_score(best_rf,X_val_filtered, y_val_filtered,cv=10)\n",
        "print(f\"{np.mean(abs(score))}\")"
      ]
    },
    {
      "cell_type": "markdown",
      "metadata": {
        "id": "9VxBfr11DzUl"
      },
      "source": [
        "## Best Models"
      ]
    },
    {
      "cell_type": "code",
      "execution_count": 51,
      "metadata": {
        "colab": {
          "base_uri": "https://localhost:8080/"
        },
        "id": "zyoGjvneDy_a",
        "outputId": "f01b8443-5dab-4dab-a0b5-531125dd730a"
      },
      "outputs": [
        {
          "output_type": "stream",
          "name": "stdout",
          "text": [
            "Fitting 5 folds for each of 5 candidates, totalling 25 fits\n",
            "0.2081168798351841\n",
            "0.5415710002028522\n"
          ]
        }
      ],
      "source": [
        "## GPA\n",
        "from sklearn.metrics import mean_squared_error\n",
        "\n",
        "not_missing_train = ~y_train['gpa'].isnull()\n",
        "X_train_filtered = X_train[not_missing_train]\n",
        "y_train_filtered = y_train['gpa'][not_missing_train]\n",
        "\n",
        "not_missing_val = ~y_val['gpa'].isnull()\n",
        "X_val_filtered = X_val[not_missing_val]\n",
        "y_val_filtered = y_val['gpa'][not_missing_val]\n",
        "\n",
        "not_missing_test = ~y_test['gpa'].isnull()\n",
        "X_test_filtered = X_test[not_missing_test]\n",
        "y_test_filtered = y_test['gpa'][not_missing_test]\n",
        "\n",
        "xreg = xgboost.XGBRegressor()\n",
        "\n",
        "params = {\n",
        "'learning_rate': [0.05,0.10,0.15,0.20,0.25,0.30],\n",
        "'max_depth': [ 3, 4, 5, 6, 8, 10, 12, 15],\n",
        "'min_child_weight': [ 1, 3, 5, 7 ],\n",
        "'gamma': [ 0.0, 0.1, 0.2 , 0.3, 0.4 ],\n",
        "'colsample_bytree': [ 0.3, 0.4, 0.5 , 0.7 ]\n",
        "}\n",
        "\n",
        "rs_model=RandomizedSearchCV(xreg,param_distributions=params,n_iter=5,scoring='neg_mean_squared_error',n_jobs=-1,cv=5,verbose=3)\n",
        "rs_model.fit(X_train_filtered,y_train_filtered)\n",
        "\n",
        "gpa_best=rs_model.best_estimator_\n",
        "\n",
        "gpa_preds = gpa_best.predict(X_test_filtered)\n",
        "print(mean_squared_error(y_test_filtered, gpa_preds))\n",
        "print(r2_score(y_test_filtered, gpa_preds))"
      ]
    },
    {
      "cell_type": "markdown",
      "metadata": {
        "id": "yrzUp9fwbezd"
      },
      "source": [
        "### Baseline Model for GPA"
      ]
    },
    {
      "cell_type": "code",
      "execution_count": 52,
      "metadata": {
        "colab": {
          "base_uri": "https://localhost:8080/"
        },
        "id": "hNuIf-cTbcom",
        "outputId": "085f7e25-c66e-4fdb-bb43-e1f2f93f7668"
      },
      "outputs": [
        {
          "output_type": "stream",
          "name": "stdout",
          "text": [
            "0.4540147602055392\n",
            "-8.001551338066015e-05\n"
          ]
        }
      ],
      "source": [
        "not_missing_train = ~y_train['gpa'].isnull()\n",
        "X_train_filtered = X_train[not_missing_train]\n",
        "y_train_filtered = y_train['gpa'][not_missing_train]\n",
        "\n",
        "not_missing_test = ~y_test['gpa'].isnull()\n",
        "X_test_filtered = X_test[not_missing_test]\n",
        "y_test_filtered = y_test['gpa'][not_missing_test]\n",
        "\n",
        "avg_gpa = np.mean(y_train_filtered)\n",
        "\n",
        "mean_predicts = [avg_gpa]*len(y_test_filtered)\n",
        "\n",
        "print(mean_squared_error(y_test_filtered, mean_predicts))\n",
        "print(r2_score(y_test_filtered, mean_predicts))"
      ]
    },
    {
      "cell_type": "code",
      "execution_count": 53,
      "metadata": {
        "colab": {
          "base_uri": "https://localhost:8080/",
          "height": 444
        },
        "id": "0uKrHwoThLzU",
        "outputId": "f65b4fb0-ccc6-4ae6-db81-a77c2b97c107"
      },
      "outputs": [
        {
          "output_type": "execute_result",
          "data": {
            "text/plain": [
              "     cm1inpov  cf2povco  cm2alvf  cm4povco   t4g7ayr   ch4cbmi_p   ch5wj10ss  \\\n",
              "4    0.359339  0.473671     -7.0  1.893903  2.000000   61.246194   92.000000   \n",
              "5    1.635442  1.480953     21.0  0.557005  0.000000   56.813823   81.666667   \n",
              "8    2.519442  2.453494     35.0  4.589251  2.666667   81.986417   71.000000   \n",
              "10   3.339650  6.045448     29.0  4.380779  0.000000  110.740011  110.000000   \n",
              "13   4.013149  1.448671     33.0  2.888311  5.000000   81.737851  111.000000   \n",
              "..        ...       ...      ...       ...       ...         ...         ...   \n",
              "734  3.536170  1.742045     36.0  2.382941  0.333333   82.715132  116.000000   \n",
              "735  1.542007  2.181825     34.0  1.259336  1.666667   84.465272  100.000000   \n",
              "738  4.560990  1.519323     21.0  1.392002  4.000000   98.235245  107.000000   \n",
              "740  3.211884  2.025482     18.0  0.829597  2.000000   99.129789  110.000000   \n",
              "741  0.000000  4.072031     -7.0  0.917772  1.000000   46.809344   82.000000   \n",
              "\n",
              "     cm1povca_5  f2g9_1  f2k7b1_2  ...  maternal_grandparent_income  \\\n",
              "4         False   False     False  ...                     0.473671   \n",
              "5         False    True      True  ...                     0.000000   \n",
              "8         False    True      True  ...                     0.000000   \n",
              "10         True    True      True  ...                     6.045448   \n",
              "13         True    True     False  ...                     0.000000   \n",
              "..          ...     ...       ...  ...                          ...   \n",
              "734       False   False     False  ...                     0.000000   \n",
              "735       False    True     False  ...                     2.181825   \n",
              "738        True   False     False  ...                     0.000000   \n",
              "740       False   False     False  ...                     0.000000   \n",
              "741       False   False     False  ...                     4.072031   \n",
              "\n",
              "     maternal_relative_income  paternal_grandparent_income  \\\n",
              "4                    0.000000                          0.0   \n",
              "5                    0.000000                          0.0   \n",
              "8                    0.000000                          0.0   \n",
              "10                   0.000000                          0.0   \n",
              "13                   0.000000                          0.0   \n",
              "..                        ...                          ...   \n",
              "734                  0.000000                          0.0   \n",
              "735                  2.181825                          0.0   \n",
              "738                  0.000000                          0.0   \n",
              "740                  0.000000                          0.0   \n",
              "741                  0.000000                          0.0   \n",
              "\n",
              "     paternal_relative_income  fathers_partner_income  \\\n",
              "4                         0.0                     0.0   \n",
              "5                         0.0                     0.0   \n",
              "8                         0.0                     0.0   \n",
              "10                        0.0                     0.0   \n",
              "13                        0.0                     0.0   \n",
              "..                        ...                     ...   \n",
              "734                       0.0                     0.0   \n",
              "735                       0.0                     0.0   \n",
              "738                       0.0                     0.0   \n",
              "740                       0.0                     0.0   \n",
              "741                       0.0                     0.0   \n",
              "\n",
              "     mothers_partners_relative_income  non_relative_income  \\\n",
              "4                                 0.0                  0.0   \n",
              "5                                 0.0                  0.0   \n",
              "8                                 0.0                  0.0   \n",
              "10                                0.0                  0.0   \n",
              "13                                0.0                  0.0   \n",
              "..                                ...                  ...   \n",
              "734                               0.0                  0.0   \n",
              "735                               0.0                  0.0   \n",
              "738                               0.0                  0.0   \n",
              "740                               0.0                  0.0   \n",
              "741                               0.0                  0.0   \n",
              "\n",
              "     daycare_center_income  headstart_income  other_income  \n",
              "4                 0.000000               0.0           0.0  \n",
              "5                 1.480953               0.0           0.0  \n",
              "8                 2.453494               0.0           0.0  \n",
              "10                0.000000               0.0           0.0  \n",
              "13                0.000000               0.0           0.0  \n",
              "..                     ...               ...           ...  \n",
              "734               0.000000               0.0           0.0  \n",
              "735               0.000000               0.0           0.0  \n",
              "738               0.000000               0.0           0.0  \n",
              "740               0.000000               0.0           0.0  \n",
              "741               0.000000               0.0           0.0  \n",
              "\n",
              "[398 rows x 47 columns]"
            ],
            "text/html": [
              "\n",
              "  <div id=\"df-69699a88-671d-4c67-bf0b-fb59ae01b8ca\" class=\"colab-df-container\">\n",
              "    <div>\n",
              "<style scoped>\n",
              "    .dataframe tbody tr th:only-of-type {\n",
              "        vertical-align: middle;\n",
              "    }\n",
              "\n",
              "    .dataframe tbody tr th {\n",
              "        vertical-align: top;\n",
              "    }\n",
              "\n",
              "    .dataframe thead th {\n",
              "        text-align: right;\n",
              "    }\n",
              "</style>\n",
              "<table border=\"1\" class=\"dataframe\">\n",
              "  <thead>\n",
              "    <tr style=\"text-align: right;\">\n",
              "      <th></th>\n",
              "      <th>cm1inpov</th>\n",
              "      <th>cf2povco</th>\n",
              "      <th>cm2alvf</th>\n",
              "      <th>cm4povco</th>\n",
              "      <th>t4g7ayr</th>\n",
              "      <th>ch4cbmi_p</th>\n",
              "      <th>ch5wj10ss</th>\n",
              "      <th>cm1povca_5</th>\n",
              "      <th>f2g9_1</th>\n",
              "      <th>f2k7b1_2</th>\n",
              "      <th>...</th>\n",
              "      <th>maternal_grandparent_income</th>\n",
              "      <th>maternal_relative_income</th>\n",
              "      <th>paternal_grandparent_income</th>\n",
              "      <th>paternal_relative_income</th>\n",
              "      <th>fathers_partner_income</th>\n",
              "      <th>mothers_partners_relative_income</th>\n",
              "      <th>non_relative_income</th>\n",
              "      <th>daycare_center_income</th>\n",
              "      <th>headstart_income</th>\n",
              "      <th>other_income</th>\n",
              "    </tr>\n",
              "  </thead>\n",
              "  <tbody>\n",
              "    <tr>\n",
              "      <th>4</th>\n",
              "      <td>0.359339</td>\n",
              "      <td>0.473671</td>\n",
              "      <td>-7.0</td>\n",
              "      <td>1.893903</td>\n",
              "      <td>2.000000</td>\n",
              "      <td>61.246194</td>\n",
              "      <td>92.000000</td>\n",
              "      <td>False</td>\n",
              "      <td>False</td>\n",
              "      <td>False</td>\n",
              "      <td>...</td>\n",
              "      <td>0.473671</td>\n",
              "      <td>0.000000</td>\n",
              "      <td>0.0</td>\n",
              "      <td>0.0</td>\n",
              "      <td>0.0</td>\n",
              "      <td>0.0</td>\n",
              "      <td>0.0</td>\n",
              "      <td>0.000000</td>\n",
              "      <td>0.0</td>\n",
              "      <td>0.0</td>\n",
              "    </tr>\n",
              "    <tr>\n",
              "      <th>5</th>\n",
              "      <td>1.635442</td>\n",
              "      <td>1.480953</td>\n",
              "      <td>21.0</td>\n",
              "      <td>0.557005</td>\n",
              "      <td>0.000000</td>\n",
              "      <td>56.813823</td>\n",
              "      <td>81.666667</td>\n",
              "      <td>False</td>\n",
              "      <td>True</td>\n",
              "      <td>True</td>\n",
              "      <td>...</td>\n",
              "      <td>0.000000</td>\n",
              "      <td>0.000000</td>\n",
              "      <td>0.0</td>\n",
              "      <td>0.0</td>\n",
              "      <td>0.0</td>\n",
              "      <td>0.0</td>\n",
              "      <td>0.0</td>\n",
              "      <td>1.480953</td>\n",
              "      <td>0.0</td>\n",
              "      <td>0.0</td>\n",
              "    </tr>\n",
              "    <tr>\n",
              "      <th>8</th>\n",
              "      <td>2.519442</td>\n",
              "      <td>2.453494</td>\n",
              "      <td>35.0</td>\n",
              "      <td>4.589251</td>\n",
              "      <td>2.666667</td>\n",
              "      <td>81.986417</td>\n",
              "      <td>71.000000</td>\n",
              "      <td>False</td>\n",
              "      <td>True</td>\n",
              "      <td>True</td>\n",
              "      <td>...</td>\n",
              "      <td>0.000000</td>\n",
              "      <td>0.000000</td>\n",
              "      <td>0.0</td>\n",
              "      <td>0.0</td>\n",
              "      <td>0.0</td>\n",
              "      <td>0.0</td>\n",
              "      <td>0.0</td>\n",
              "      <td>2.453494</td>\n",
              "      <td>0.0</td>\n",
              "      <td>0.0</td>\n",
              "    </tr>\n",
              "    <tr>\n",
              "      <th>10</th>\n",
              "      <td>3.339650</td>\n",
              "      <td>6.045448</td>\n",
              "      <td>29.0</td>\n",
              "      <td>4.380779</td>\n",
              "      <td>0.000000</td>\n",
              "      <td>110.740011</td>\n",
              "      <td>110.000000</td>\n",
              "      <td>True</td>\n",
              "      <td>True</td>\n",
              "      <td>True</td>\n",
              "      <td>...</td>\n",
              "      <td>6.045448</td>\n",
              "      <td>0.000000</td>\n",
              "      <td>0.0</td>\n",
              "      <td>0.0</td>\n",
              "      <td>0.0</td>\n",
              "      <td>0.0</td>\n",
              "      <td>0.0</td>\n",
              "      <td>0.000000</td>\n",
              "      <td>0.0</td>\n",
              "      <td>0.0</td>\n",
              "    </tr>\n",
              "    <tr>\n",
              "      <th>13</th>\n",
              "      <td>4.013149</td>\n",
              "      <td>1.448671</td>\n",
              "      <td>33.0</td>\n",
              "      <td>2.888311</td>\n",
              "      <td>5.000000</td>\n",
              "      <td>81.737851</td>\n",
              "      <td>111.000000</td>\n",
              "      <td>True</td>\n",
              "      <td>True</td>\n",
              "      <td>False</td>\n",
              "      <td>...</td>\n",
              "      <td>0.000000</td>\n",
              "      <td>0.000000</td>\n",
              "      <td>0.0</td>\n",
              "      <td>0.0</td>\n",
              "      <td>0.0</td>\n",
              "      <td>0.0</td>\n",
              "      <td>0.0</td>\n",
              "      <td>0.000000</td>\n",
              "      <td>0.0</td>\n",
              "      <td>0.0</td>\n",
              "    </tr>\n",
              "    <tr>\n",
              "      <th>...</th>\n",
              "      <td>...</td>\n",
              "      <td>...</td>\n",
              "      <td>...</td>\n",
              "      <td>...</td>\n",
              "      <td>...</td>\n",
              "      <td>...</td>\n",
              "      <td>...</td>\n",
              "      <td>...</td>\n",
              "      <td>...</td>\n",
              "      <td>...</td>\n",
              "      <td>...</td>\n",
              "      <td>...</td>\n",
              "      <td>...</td>\n",
              "      <td>...</td>\n",
              "      <td>...</td>\n",
              "      <td>...</td>\n",
              "      <td>...</td>\n",
              "      <td>...</td>\n",
              "      <td>...</td>\n",
              "      <td>...</td>\n",
              "      <td>...</td>\n",
              "    </tr>\n",
              "    <tr>\n",
              "      <th>734</th>\n",
              "      <td>3.536170</td>\n",
              "      <td>1.742045</td>\n",
              "      <td>36.0</td>\n",
              "      <td>2.382941</td>\n",
              "      <td>0.333333</td>\n",
              "      <td>82.715132</td>\n",
              "      <td>116.000000</td>\n",
              "      <td>False</td>\n",
              "      <td>False</td>\n",
              "      <td>False</td>\n",
              "      <td>...</td>\n",
              "      <td>0.000000</td>\n",
              "      <td>0.000000</td>\n",
              "      <td>0.0</td>\n",
              "      <td>0.0</td>\n",
              "      <td>0.0</td>\n",
              "      <td>0.0</td>\n",
              "      <td>0.0</td>\n",
              "      <td>0.000000</td>\n",
              "      <td>0.0</td>\n",
              "      <td>0.0</td>\n",
              "    </tr>\n",
              "    <tr>\n",
              "      <th>735</th>\n",
              "      <td>1.542007</td>\n",
              "      <td>2.181825</td>\n",
              "      <td>34.0</td>\n",
              "      <td>1.259336</td>\n",
              "      <td>1.666667</td>\n",
              "      <td>84.465272</td>\n",
              "      <td>100.000000</td>\n",
              "      <td>False</td>\n",
              "      <td>True</td>\n",
              "      <td>False</td>\n",
              "      <td>...</td>\n",
              "      <td>2.181825</td>\n",
              "      <td>2.181825</td>\n",
              "      <td>0.0</td>\n",
              "      <td>0.0</td>\n",
              "      <td>0.0</td>\n",
              "      <td>0.0</td>\n",
              "      <td>0.0</td>\n",
              "      <td>0.000000</td>\n",
              "      <td>0.0</td>\n",
              "      <td>0.0</td>\n",
              "    </tr>\n",
              "    <tr>\n",
              "      <th>738</th>\n",
              "      <td>4.560990</td>\n",
              "      <td>1.519323</td>\n",
              "      <td>21.0</td>\n",
              "      <td>1.392002</td>\n",
              "      <td>4.000000</td>\n",
              "      <td>98.235245</td>\n",
              "      <td>107.000000</td>\n",
              "      <td>True</td>\n",
              "      <td>False</td>\n",
              "      <td>False</td>\n",
              "      <td>...</td>\n",
              "      <td>0.000000</td>\n",
              "      <td>0.000000</td>\n",
              "      <td>0.0</td>\n",
              "      <td>0.0</td>\n",
              "      <td>0.0</td>\n",
              "      <td>0.0</td>\n",
              "      <td>0.0</td>\n",
              "      <td>0.000000</td>\n",
              "      <td>0.0</td>\n",
              "      <td>0.0</td>\n",
              "    </tr>\n",
              "    <tr>\n",
              "      <th>740</th>\n",
              "      <td>3.211884</td>\n",
              "      <td>2.025482</td>\n",
              "      <td>18.0</td>\n",
              "      <td>0.829597</td>\n",
              "      <td>2.000000</td>\n",
              "      <td>99.129789</td>\n",
              "      <td>110.000000</td>\n",
              "      <td>False</td>\n",
              "      <td>False</td>\n",
              "      <td>False</td>\n",
              "      <td>...</td>\n",
              "      <td>0.000000</td>\n",
              "      <td>0.000000</td>\n",
              "      <td>0.0</td>\n",
              "      <td>0.0</td>\n",
              "      <td>0.0</td>\n",
              "      <td>0.0</td>\n",
              "      <td>0.0</td>\n",
              "      <td>0.000000</td>\n",
              "      <td>0.0</td>\n",
              "      <td>0.0</td>\n",
              "    </tr>\n",
              "    <tr>\n",
              "      <th>741</th>\n",
              "      <td>0.000000</td>\n",
              "      <td>4.072031</td>\n",
              "      <td>-7.0</td>\n",
              "      <td>0.917772</td>\n",
              "      <td>1.000000</td>\n",
              "      <td>46.809344</td>\n",
              "      <td>82.000000</td>\n",
              "      <td>False</td>\n",
              "      <td>False</td>\n",
              "      <td>False</td>\n",
              "      <td>...</td>\n",
              "      <td>4.072031</td>\n",
              "      <td>0.000000</td>\n",
              "      <td>0.0</td>\n",
              "      <td>0.0</td>\n",
              "      <td>0.0</td>\n",
              "      <td>0.0</td>\n",
              "      <td>0.0</td>\n",
              "      <td>0.000000</td>\n",
              "      <td>0.0</td>\n",
              "      <td>0.0</td>\n",
              "    </tr>\n",
              "  </tbody>\n",
              "</table>\n",
              "<p>398 rows × 47 columns</p>\n",
              "</div>\n",
              "    <div class=\"colab-df-buttons\">\n",
              "\n",
              "  <div class=\"colab-df-container\">\n",
              "    <button class=\"colab-df-convert\" onclick=\"convertToInteractive('df-69699a88-671d-4c67-bf0b-fb59ae01b8ca')\"\n",
              "            title=\"Convert this dataframe to an interactive table.\"\n",
              "            style=\"display:none;\">\n",
              "\n",
              "  <svg xmlns=\"http://www.w3.org/2000/svg\" height=\"24px\" viewBox=\"0 -960 960 960\">\n",
              "    <path d=\"M120-120v-720h720v720H120Zm60-500h600v-160H180v160Zm220 220h160v-160H400v160Zm0 220h160v-160H400v160ZM180-400h160v-160H180v160Zm440 0h160v-160H620v160ZM180-180h160v-160H180v160Zm440 0h160v-160H620v160Z\"/>\n",
              "  </svg>\n",
              "    </button>\n",
              "\n",
              "  <style>\n",
              "    .colab-df-container {\n",
              "      display:flex;\n",
              "      gap: 12px;\n",
              "    }\n",
              "\n",
              "    .colab-df-convert {\n",
              "      background-color: #E8F0FE;\n",
              "      border: none;\n",
              "      border-radius: 50%;\n",
              "      cursor: pointer;\n",
              "      display: none;\n",
              "      fill: #1967D2;\n",
              "      height: 32px;\n",
              "      padding: 0 0 0 0;\n",
              "      width: 32px;\n",
              "    }\n",
              "\n",
              "    .colab-df-convert:hover {\n",
              "      background-color: #E2EBFA;\n",
              "      box-shadow: 0px 1px 2px rgba(60, 64, 67, 0.3), 0px 1px 3px 1px rgba(60, 64, 67, 0.15);\n",
              "      fill: #174EA6;\n",
              "    }\n",
              "\n",
              "    .colab-df-buttons div {\n",
              "      margin-bottom: 4px;\n",
              "    }\n",
              "\n",
              "    [theme=dark] .colab-df-convert {\n",
              "      background-color: #3B4455;\n",
              "      fill: #D2E3FC;\n",
              "    }\n",
              "\n",
              "    [theme=dark] .colab-df-convert:hover {\n",
              "      background-color: #434B5C;\n",
              "      box-shadow: 0px 1px 3px 1px rgba(0, 0, 0, 0.15);\n",
              "      filter: drop-shadow(0px 1px 2px rgba(0, 0, 0, 0.3));\n",
              "      fill: #FFFFFF;\n",
              "    }\n",
              "  </style>\n",
              "\n",
              "    <script>\n",
              "      const buttonEl =\n",
              "        document.querySelector('#df-69699a88-671d-4c67-bf0b-fb59ae01b8ca button.colab-df-convert');\n",
              "      buttonEl.style.display =\n",
              "        google.colab.kernel.accessAllowed ? 'block' : 'none';\n",
              "\n",
              "      async function convertToInteractive(key) {\n",
              "        const element = document.querySelector('#df-69699a88-671d-4c67-bf0b-fb59ae01b8ca');\n",
              "        const dataTable =\n",
              "          await google.colab.kernel.invokeFunction('convertToInteractive',\n",
              "                                                    [key], {});\n",
              "        if (!dataTable) return;\n",
              "\n",
              "        const docLinkHtml = 'Like what you see? Visit the ' +\n",
              "          '<a target=\"_blank\" href=https://colab.research.google.com/notebooks/data_table.ipynb>data table notebook</a>'\n",
              "          + ' to learn more about interactive tables.';\n",
              "        element.innerHTML = '';\n",
              "        dataTable['output_type'] = 'display_data';\n",
              "        await google.colab.output.renderOutput(dataTable, element);\n",
              "        const docLink = document.createElement('div');\n",
              "        docLink.innerHTML = docLinkHtml;\n",
              "        element.appendChild(docLink);\n",
              "      }\n",
              "    </script>\n",
              "  </div>\n",
              "\n",
              "\n",
              "<div id=\"df-970f32ae-826a-46ba-af1f-b8356e4c769a\">\n",
              "  <button class=\"colab-df-quickchart\" onclick=\"quickchart('df-970f32ae-826a-46ba-af1f-b8356e4c769a')\"\n",
              "            title=\"Suggest charts\"\n",
              "            style=\"display:none;\">\n",
              "\n",
              "<svg xmlns=\"http://www.w3.org/2000/svg\" height=\"24px\"viewBox=\"0 0 24 24\"\n",
              "     width=\"24px\">\n",
              "    <g>\n",
              "        <path d=\"M19 3H5c-1.1 0-2 .9-2 2v14c0 1.1.9 2 2 2h14c1.1 0 2-.9 2-2V5c0-1.1-.9-2-2-2zM9 17H7v-7h2v7zm4 0h-2V7h2v10zm4 0h-2v-4h2v4z\"/>\n",
              "    </g>\n",
              "</svg>\n",
              "  </button>\n",
              "\n",
              "<style>\n",
              "  .colab-df-quickchart {\n",
              "      --bg-color: #E8F0FE;\n",
              "      --fill-color: #1967D2;\n",
              "      --hover-bg-color: #E2EBFA;\n",
              "      --hover-fill-color: #174EA6;\n",
              "      --disabled-fill-color: #AAA;\n",
              "      --disabled-bg-color: #DDD;\n",
              "  }\n",
              "\n",
              "  [theme=dark] .colab-df-quickchart {\n",
              "      --bg-color: #3B4455;\n",
              "      --fill-color: #D2E3FC;\n",
              "      --hover-bg-color: #434B5C;\n",
              "      --hover-fill-color: #FFFFFF;\n",
              "      --disabled-bg-color: #3B4455;\n",
              "      --disabled-fill-color: #666;\n",
              "  }\n",
              "\n",
              "  .colab-df-quickchart {\n",
              "    background-color: var(--bg-color);\n",
              "    border: none;\n",
              "    border-radius: 50%;\n",
              "    cursor: pointer;\n",
              "    display: none;\n",
              "    fill: var(--fill-color);\n",
              "    height: 32px;\n",
              "    padding: 0;\n",
              "    width: 32px;\n",
              "  }\n",
              "\n",
              "  .colab-df-quickchart:hover {\n",
              "    background-color: var(--hover-bg-color);\n",
              "    box-shadow: 0 1px 2px rgba(60, 64, 67, 0.3), 0 1px 3px 1px rgba(60, 64, 67, 0.15);\n",
              "    fill: var(--button-hover-fill-color);\n",
              "  }\n",
              "\n",
              "  .colab-df-quickchart-complete:disabled,\n",
              "  .colab-df-quickchart-complete:disabled:hover {\n",
              "    background-color: var(--disabled-bg-color);\n",
              "    fill: var(--disabled-fill-color);\n",
              "    box-shadow: none;\n",
              "  }\n",
              "\n",
              "  .colab-df-spinner {\n",
              "    border: 2px solid var(--fill-color);\n",
              "    border-color: transparent;\n",
              "    border-bottom-color: var(--fill-color);\n",
              "    animation:\n",
              "      spin 1s steps(1) infinite;\n",
              "  }\n",
              "\n",
              "  @keyframes spin {\n",
              "    0% {\n",
              "      border-color: transparent;\n",
              "      border-bottom-color: var(--fill-color);\n",
              "      border-left-color: var(--fill-color);\n",
              "    }\n",
              "    20% {\n",
              "      border-color: transparent;\n",
              "      border-left-color: var(--fill-color);\n",
              "      border-top-color: var(--fill-color);\n",
              "    }\n",
              "    30% {\n",
              "      border-color: transparent;\n",
              "      border-left-color: var(--fill-color);\n",
              "      border-top-color: var(--fill-color);\n",
              "      border-right-color: var(--fill-color);\n",
              "    }\n",
              "    40% {\n",
              "      border-color: transparent;\n",
              "      border-right-color: var(--fill-color);\n",
              "      border-top-color: var(--fill-color);\n",
              "    }\n",
              "    60% {\n",
              "      border-color: transparent;\n",
              "      border-right-color: var(--fill-color);\n",
              "    }\n",
              "    80% {\n",
              "      border-color: transparent;\n",
              "      border-right-color: var(--fill-color);\n",
              "      border-bottom-color: var(--fill-color);\n",
              "    }\n",
              "    90% {\n",
              "      border-color: transparent;\n",
              "      border-bottom-color: var(--fill-color);\n",
              "    }\n",
              "  }\n",
              "</style>\n",
              "\n",
              "  <script>\n",
              "    async function quickchart(key) {\n",
              "      const quickchartButtonEl =\n",
              "        document.querySelector('#' + key + ' button');\n",
              "      quickchartButtonEl.disabled = true;  // To prevent multiple clicks.\n",
              "      quickchartButtonEl.classList.add('colab-df-spinner');\n",
              "      try {\n",
              "        const charts = await google.colab.kernel.invokeFunction(\n",
              "            'suggestCharts', [key], {});\n",
              "      } catch (error) {\n",
              "        console.error('Error during call to suggestCharts:', error);\n",
              "      }\n",
              "      quickchartButtonEl.classList.remove('colab-df-spinner');\n",
              "      quickchartButtonEl.classList.add('colab-df-quickchart-complete');\n",
              "    }\n",
              "    (() => {\n",
              "      let quickchartButtonEl =\n",
              "        document.querySelector('#df-970f32ae-826a-46ba-af1f-b8356e4c769a button');\n",
              "      quickchartButtonEl.style.display =\n",
              "        google.colab.kernel.accessAllowed ? 'block' : 'none';\n",
              "    })();\n",
              "  </script>\n",
              "</div>\n",
              "    </div>\n",
              "  </div>\n"
            ],
            "application/vnd.google.colaboratory.intrinsic+json": {
              "type": "dataframe",
              "variable_name": "X_test_filtered"
            }
          },
          "metadata": {},
          "execution_count": 53
        }
      ],
      "source": [
        "X_test_filtered"
      ]
    },
    {
      "cell_type": "code",
      "execution_count": 54,
      "metadata": {
        "colab": {
          "base_uri": "https://localhost:8080/",
          "height": 444
        },
        "id": "zyE4QJFvhN8s",
        "outputId": "e327366d-f22d-4c79-f9eb-9b5e26c4a051"
      },
      "outputs": [
        {
          "output_type": "execute_result",
          "data": {
            "text/plain": [
              "      cm1inpov  cf2povco  cm2alvf  cm4povco   t4g7ayr  ch4cbmi_p  ch5wj10ss  \\\n",
              "0     0.099113  3.838275     18.0  3.493142  0.666667  91.644176      110.0   \n",
              "1     1.571848  0.942611     24.0  1.105328  0.000000  40.561469       97.0   \n",
              "3     2.216220  1.277009     -7.0  1.468072  0.000000  73.253963      102.0   \n",
              "4     2.330978  0.000000     18.0  0.602698  0.000000  84.148955      105.0   \n",
              "6     2.017288  3.264827     21.0  2.973647  0.000000  83.193698       89.0   \n",
              "...        ...       ...      ...       ...       ...        ...        ...   \n",
              "1477  4.058209  4.502164     19.0  5.344342  0.333333  34.522371       69.0   \n",
              "1478  0.696824  2.101394     -7.0  0.788135  0.666667  77.182053       95.0   \n",
              "1479  1.003895  1.247973     18.0  1.440795  1.000000  44.607262       99.0   \n",
              "1480  1.898217  3.434514     11.0  1.890940  3.333333  97.370415      114.0   \n",
              "1483  0.180193  4.977337     -7.0  0.320600  0.000000  19.194479       91.0   \n",
              "\n",
              "      cm1povca_5  f2g9_1  f2k7b1_2  ...  maternal_grandparent_income  \\\n",
              "0          False   False     False  ...                     0.000000   \n",
              "1          False    True      True  ...                     0.000000   \n",
              "3          False   False     False  ...                     1.277009   \n",
              "4          False    True     False  ...                     0.000000   \n",
              "6           True   False      True  ...                     0.000000   \n",
              "...          ...     ...       ...  ...                          ...   \n",
              "1477        True   False     False  ...                     0.000000   \n",
              "1478       False   False     False  ...                     2.101394   \n",
              "1479       False   False     False  ...                     0.000000   \n",
              "1480       False   False     False  ...                     0.000000   \n",
              "1483       False    True      True  ...                     4.977337   \n",
              "\n",
              "      maternal_relative_income  paternal_grandparent_income  \\\n",
              "0                     0.000000                          0.0   \n",
              "1                     0.000000                          0.0   \n",
              "3                     0.000000                          0.0   \n",
              "4                     0.000000                          0.0   \n",
              "6                     0.000000                          0.0   \n",
              "...                        ...                          ...   \n",
              "1477                  0.000000                          0.0   \n",
              "1478                  0.000000                          0.0   \n",
              "1479                  0.000000                          0.0   \n",
              "1480                  0.000000                          0.0   \n",
              "1483                  4.977337                          0.0   \n",
              "\n",
              "      paternal_relative_income  fathers_partner_income  \\\n",
              "0                          0.0                     0.0   \n",
              "1                          0.0                     0.0   \n",
              "3                          0.0                     0.0   \n",
              "4                          0.0                     0.0   \n",
              "6                          0.0                     0.0   \n",
              "...                        ...                     ...   \n",
              "1477                       0.0                     0.0   \n",
              "1478                       0.0                     0.0   \n",
              "1479                       0.0                     0.0   \n",
              "1480                       0.0                     0.0   \n",
              "1483                       0.0                     0.0   \n",
              "\n",
              "      mothers_partners_relative_income  non_relative_income  \\\n",
              "0                                  0.0             0.000000   \n",
              "1                                  0.0             0.000000   \n",
              "3                                  0.0             0.000000   \n",
              "4                                  0.0             0.000000   \n",
              "6                                  0.0             0.000000   \n",
              "...                                ...                  ...   \n",
              "1477                               0.0             0.000000   \n",
              "1478                               0.0             0.000000   \n",
              "1479                               0.0             1.247973   \n",
              "1480                               0.0             0.000000   \n",
              "1483                               0.0             0.000000   \n",
              "\n",
              "      daycare_center_income  headstart_income  other_income  \n",
              "0                  0.000000               0.0           0.0  \n",
              "1                  0.000000               0.0           0.0  \n",
              "3                  1.277009               0.0           0.0  \n",
              "4                  0.000000               0.0           0.0  \n",
              "6                  0.000000               0.0           0.0  \n",
              "...                     ...               ...           ...  \n",
              "1477               0.000000               0.0           0.0  \n",
              "1478               0.000000               0.0           0.0  \n",
              "1479               0.000000               0.0           0.0  \n",
              "1480               0.000000               0.0           0.0  \n",
              "1483               0.000000               0.0           0.0  \n",
              "\n",
              "[810 rows x 47 columns]"
            ],
            "text/html": [
              "\n",
              "  <div id=\"df-1c669837-5608-46f3-bb2e-ce21f8296868\" class=\"colab-df-container\">\n",
              "    <div>\n",
              "<style scoped>\n",
              "    .dataframe tbody tr th:only-of-type {\n",
              "        vertical-align: middle;\n",
              "    }\n",
              "\n",
              "    .dataframe tbody tr th {\n",
              "        vertical-align: top;\n",
              "    }\n",
              "\n",
              "    .dataframe thead th {\n",
              "        text-align: right;\n",
              "    }\n",
              "</style>\n",
              "<table border=\"1\" class=\"dataframe\">\n",
              "  <thead>\n",
              "    <tr style=\"text-align: right;\">\n",
              "      <th></th>\n",
              "      <th>cm1inpov</th>\n",
              "      <th>cf2povco</th>\n",
              "      <th>cm2alvf</th>\n",
              "      <th>cm4povco</th>\n",
              "      <th>t4g7ayr</th>\n",
              "      <th>ch4cbmi_p</th>\n",
              "      <th>ch5wj10ss</th>\n",
              "      <th>cm1povca_5</th>\n",
              "      <th>f2g9_1</th>\n",
              "      <th>f2k7b1_2</th>\n",
              "      <th>...</th>\n",
              "      <th>maternal_grandparent_income</th>\n",
              "      <th>maternal_relative_income</th>\n",
              "      <th>paternal_grandparent_income</th>\n",
              "      <th>paternal_relative_income</th>\n",
              "      <th>fathers_partner_income</th>\n",
              "      <th>mothers_partners_relative_income</th>\n",
              "      <th>non_relative_income</th>\n",
              "      <th>daycare_center_income</th>\n",
              "      <th>headstart_income</th>\n",
              "      <th>other_income</th>\n",
              "    </tr>\n",
              "  </thead>\n",
              "  <tbody>\n",
              "    <tr>\n",
              "      <th>0</th>\n",
              "      <td>0.099113</td>\n",
              "      <td>3.838275</td>\n",
              "      <td>18.0</td>\n",
              "      <td>3.493142</td>\n",
              "      <td>0.666667</td>\n",
              "      <td>91.644176</td>\n",
              "      <td>110.0</td>\n",
              "      <td>False</td>\n",
              "      <td>False</td>\n",
              "      <td>False</td>\n",
              "      <td>...</td>\n",
              "      <td>0.000000</td>\n",
              "      <td>0.000000</td>\n",
              "      <td>0.0</td>\n",
              "      <td>0.0</td>\n",
              "      <td>0.0</td>\n",
              "      <td>0.0</td>\n",
              "      <td>0.000000</td>\n",
              "      <td>0.000000</td>\n",
              "      <td>0.0</td>\n",
              "      <td>0.0</td>\n",
              "    </tr>\n",
              "    <tr>\n",
              "      <th>1</th>\n",
              "      <td>1.571848</td>\n",
              "      <td>0.942611</td>\n",
              "      <td>24.0</td>\n",
              "      <td>1.105328</td>\n",
              "      <td>0.000000</td>\n",
              "      <td>40.561469</td>\n",
              "      <td>97.0</td>\n",
              "      <td>False</td>\n",
              "      <td>True</td>\n",
              "      <td>True</td>\n",
              "      <td>...</td>\n",
              "      <td>0.000000</td>\n",
              "      <td>0.000000</td>\n",
              "      <td>0.0</td>\n",
              "      <td>0.0</td>\n",
              "      <td>0.0</td>\n",
              "      <td>0.0</td>\n",
              "      <td>0.000000</td>\n",
              "      <td>0.000000</td>\n",
              "      <td>0.0</td>\n",
              "      <td>0.0</td>\n",
              "    </tr>\n",
              "    <tr>\n",
              "      <th>3</th>\n",
              "      <td>2.216220</td>\n",
              "      <td>1.277009</td>\n",
              "      <td>-7.0</td>\n",
              "      <td>1.468072</td>\n",
              "      <td>0.000000</td>\n",
              "      <td>73.253963</td>\n",
              "      <td>102.0</td>\n",
              "      <td>False</td>\n",
              "      <td>False</td>\n",
              "      <td>False</td>\n",
              "      <td>...</td>\n",
              "      <td>1.277009</td>\n",
              "      <td>0.000000</td>\n",
              "      <td>0.0</td>\n",
              "      <td>0.0</td>\n",
              "      <td>0.0</td>\n",
              "      <td>0.0</td>\n",
              "      <td>0.000000</td>\n",
              "      <td>1.277009</td>\n",
              "      <td>0.0</td>\n",
              "      <td>0.0</td>\n",
              "    </tr>\n",
              "    <tr>\n",
              "      <th>4</th>\n",
              "      <td>2.330978</td>\n",
              "      <td>0.000000</td>\n",
              "      <td>18.0</td>\n",
              "      <td>0.602698</td>\n",
              "      <td>0.000000</td>\n",
              "      <td>84.148955</td>\n",
              "      <td>105.0</td>\n",
              "      <td>False</td>\n",
              "      <td>True</td>\n",
              "      <td>False</td>\n",
              "      <td>...</td>\n",
              "      <td>0.000000</td>\n",
              "      <td>0.000000</td>\n",
              "      <td>0.0</td>\n",
              "      <td>0.0</td>\n",
              "      <td>0.0</td>\n",
              "      <td>0.0</td>\n",
              "      <td>0.000000</td>\n",
              "      <td>0.000000</td>\n",
              "      <td>0.0</td>\n",
              "      <td>0.0</td>\n",
              "    </tr>\n",
              "    <tr>\n",
              "      <th>6</th>\n",
              "      <td>2.017288</td>\n",
              "      <td>3.264827</td>\n",
              "      <td>21.0</td>\n",
              "      <td>2.973647</td>\n",
              "      <td>0.000000</td>\n",
              "      <td>83.193698</td>\n",
              "      <td>89.0</td>\n",
              "      <td>True</td>\n",
              "      <td>False</td>\n",
              "      <td>True</td>\n",
              "      <td>...</td>\n",
              "      <td>0.000000</td>\n",
              "      <td>0.000000</td>\n",
              "      <td>0.0</td>\n",
              "      <td>0.0</td>\n",
              "      <td>0.0</td>\n",
              "      <td>0.0</td>\n",
              "      <td>0.000000</td>\n",
              "      <td>0.000000</td>\n",
              "      <td>0.0</td>\n",
              "      <td>0.0</td>\n",
              "    </tr>\n",
              "    <tr>\n",
              "      <th>...</th>\n",
              "      <td>...</td>\n",
              "      <td>...</td>\n",
              "      <td>...</td>\n",
              "      <td>...</td>\n",
              "      <td>...</td>\n",
              "      <td>...</td>\n",
              "      <td>...</td>\n",
              "      <td>...</td>\n",
              "      <td>...</td>\n",
              "      <td>...</td>\n",
              "      <td>...</td>\n",
              "      <td>...</td>\n",
              "      <td>...</td>\n",
              "      <td>...</td>\n",
              "      <td>...</td>\n",
              "      <td>...</td>\n",
              "      <td>...</td>\n",
              "      <td>...</td>\n",
              "      <td>...</td>\n",
              "      <td>...</td>\n",
              "      <td>...</td>\n",
              "    </tr>\n",
              "    <tr>\n",
              "      <th>1477</th>\n",
              "      <td>4.058209</td>\n",
              "      <td>4.502164</td>\n",
              "      <td>19.0</td>\n",
              "      <td>5.344342</td>\n",
              "      <td>0.333333</td>\n",
              "      <td>34.522371</td>\n",
              "      <td>69.0</td>\n",
              "      <td>True</td>\n",
              "      <td>False</td>\n",
              "      <td>False</td>\n",
              "      <td>...</td>\n",
              "      <td>0.000000</td>\n",
              "      <td>0.000000</td>\n",
              "      <td>0.0</td>\n",
              "      <td>0.0</td>\n",
              "      <td>0.0</td>\n",
              "      <td>0.0</td>\n",
              "      <td>0.000000</td>\n",
              "      <td>0.000000</td>\n",
              "      <td>0.0</td>\n",
              "      <td>0.0</td>\n",
              "    </tr>\n",
              "    <tr>\n",
              "      <th>1478</th>\n",
              "      <td>0.696824</td>\n",
              "      <td>2.101394</td>\n",
              "      <td>-7.0</td>\n",
              "      <td>0.788135</td>\n",
              "      <td>0.666667</td>\n",
              "      <td>77.182053</td>\n",
              "      <td>95.0</td>\n",
              "      <td>False</td>\n",
              "      <td>False</td>\n",
              "      <td>False</td>\n",
              "      <td>...</td>\n",
              "      <td>2.101394</td>\n",
              "      <td>0.000000</td>\n",
              "      <td>0.0</td>\n",
              "      <td>0.0</td>\n",
              "      <td>0.0</td>\n",
              "      <td>0.0</td>\n",
              "      <td>0.000000</td>\n",
              "      <td>0.000000</td>\n",
              "      <td>0.0</td>\n",
              "      <td>0.0</td>\n",
              "    </tr>\n",
              "    <tr>\n",
              "      <th>1479</th>\n",
              "      <td>1.003895</td>\n",
              "      <td>1.247973</td>\n",
              "      <td>18.0</td>\n",
              "      <td>1.440795</td>\n",
              "      <td>1.000000</td>\n",
              "      <td>44.607262</td>\n",
              "      <td>99.0</td>\n",
              "      <td>False</td>\n",
              "      <td>False</td>\n",
              "      <td>False</td>\n",
              "      <td>...</td>\n",
              "      <td>0.000000</td>\n",
              "      <td>0.000000</td>\n",
              "      <td>0.0</td>\n",
              "      <td>0.0</td>\n",
              "      <td>0.0</td>\n",
              "      <td>0.0</td>\n",
              "      <td>1.247973</td>\n",
              "      <td>0.000000</td>\n",
              "      <td>0.0</td>\n",
              "      <td>0.0</td>\n",
              "    </tr>\n",
              "    <tr>\n",
              "      <th>1480</th>\n",
              "      <td>1.898217</td>\n",
              "      <td>3.434514</td>\n",
              "      <td>11.0</td>\n",
              "      <td>1.890940</td>\n",
              "      <td>3.333333</td>\n",
              "      <td>97.370415</td>\n",
              "      <td>114.0</td>\n",
              "      <td>False</td>\n",
              "      <td>False</td>\n",
              "      <td>False</td>\n",
              "      <td>...</td>\n",
              "      <td>0.000000</td>\n",
              "      <td>0.000000</td>\n",
              "      <td>0.0</td>\n",
              "      <td>0.0</td>\n",
              "      <td>0.0</td>\n",
              "      <td>0.0</td>\n",
              "      <td>0.000000</td>\n",
              "      <td>0.000000</td>\n",
              "      <td>0.0</td>\n",
              "      <td>0.0</td>\n",
              "    </tr>\n",
              "    <tr>\n",
              "      <th>1483</th>\n",
              "      <td>0.180193</td>\n",
              "      <td>4.977337</td>\n",
              "      <td>-7.0</td>\n",
              "      <td>0.320600</td>\n",
              "      <td>0.000000</td>\n",
              "      <td>19.194479</td>\n",
              "      <td>91.0</td>\n",
              "      <td>False</td>\n",
              "      <td>True</td>\n",
              "      <td>True</td>\n",
              "      <td>...</td>\n",
              "      <td>4.977337</td>\n",
              "      <td>4.977337</td>\n",
              "      <td>0.0</td>\n",
              "      <td>0.0</td>\n",
              "      <td>0.0</td>\n",
              "      <td>0.0</td>\n",
              "      <td>0.000000</td>\n",
              "      <td>0.000000</td>\n",
              "      <td>0.0</td>\n",
              "      <td>0.0</td>\n",
              "    </tr>\n",
              "  </tbody>\n",
              "</table>\n",
              "<p>810 rows × 47 columns</p>\n",
              "</div>\n",
              "    <div class=\"colab-df-buttons\">\n",
              "\n",
              "  <div class=\"colab-df-container\">\n",
              "    <button class=\"colab-df-convert\" onclick=\"convertToInteractive('df-1c669837-5608-46f3-bb2e-ce21f8296868')\"\n",
              "            title=\"Convert this dataframe to an interactive table.\"\n",
              "            style=\"display:none;\">\n",
              "\n",
              "  <svg xmlns=\"http://www.w3.org/2000/svg\" height=\"24px\" viewBox=\"0 -960 960 960\">\n",
              "    <path d=\"M120-120v-720h720v720H120Zm60-500h600v-160H180v160Zm220 220h160v-160H400v160Zm0 220h160v-160H400v160ZM180-400h160v-160H180v160Zm440 0h160v-160H620v160ZM180-180h160v-160H180v160Zm440 0h160v-160H620v160Z\"/>\n",
              "  </svg>\n",
              "    </button>\n",
              "\n",
              "  <style>\n",
              "    .colab-df-container {\n",
              "      display:flex;\n",
              "      gap: 12px;\n",
              "    }\n",
              "\n",
              "    .colab-df-convert {\n",
              "      background-color: #E8F0FE;\n",
              "      border: none;\n",
              "      border-radius: 50%;\n",
              "      cursor: pointer;\n",
              "      display: none;\n",
              "      fill: #1967D2;\n",
              "      height: 32px;\n",
              "      padding: 0 0 0 0;\n",
              "      width: 32px;\n",
              "    }\n",
              "\n",
              "    .colab-df-convert:hover {\n",
              "      background-color: #E2EBFA;\n",
              "      box-shadow: 0px 1px 2px rgba(60, 64, 67, 0.3), 0px 1px 3px 1px rgba(60, 64, 67, 0.15);\n",
              "      fill: #174EA6;\n",
              "    }\n",
              "\n",
              "    .colab-df-buttons div {\n",
              "      margin-bottom: 4px;\n",
              "    }\n",
              "\n",
              "    [theme=dark] .colab-df-convert {\n",
              "      background-color: #3B4455;\n",
              "      fill: #D2E3FC;\n",
              "    }\n",
              "\n",
              "    [theme=dark] .colab-df-convert:hover {\n",
              "      background-color: #434B5C;\n",
              "      box-shadow: 0px 1px 3px 1px rgba(0, 0, 0, 0.15);\n",
              "      filter: drop-shadow(0px 1px 2px rgba(0, 0, 0, 0.3));\n",
              "      fill: #FFFFFF;\n",
              "    }\n",
              "  </style>\n",
              "\n",
              "    <script>\n",
              "      const buttonEl =\n",
              "        document.querySelector('#df-1c669837-5608-46f3-bb2e-ce21f8296868 button.colab-df-convert');\n",
              "      buttonEl.style.display =\n",
              "        google.colab.kernel.accessAllowed ? 'block' : 'none';\n",
              "\n",
              "      async function convertToInteractive(key) {\n",
              "        const element = document.querySelector('#df-1c669837-5608-46f3-bb2e-ce21f8296868');\n",
              "        const dataTable =\n",
              "          await google.colab.kernel.invokeFunction('convertToInteractive',\n",
              "                                                    [key], {});\n",
              "        if (!dataTable) return;\n",
              "\n",
              "        const docLinkHtml = 'Like what you see? Visit the ' +\n",
              "          '<a target=\"_blank\" href=https://colab.research.google.com/notebooks/data_table.ipynb>data table notebook</a>'\n",
              "          + ' to learn more about interactive tables.';\n",
              "        element.innerHTML = '';\n",
              "        dataTable['output_type'] = 'display_data';\n",
              "        await google.colab.output.renderOutput(dataTable, element);\n",
              "        const docLink = document.createElement('div');\n",
              "        docLink.innerHTML = docLinkHtml;\n",
              "        element.appendChild(docLink);\n",
              "      }\n",
              "    </script>\n",
              "  </div>\n",
              "\n",
              "\n",
              "<div id=\"df-0cbf36aa-a055-4562-89a9-0c1a80dbe5e9\">\n",
              "  <button class=\"colab-df-quickchart\" onclick=\"quickchart('df-0cbf36aa-a055-4562-89a9-0c1a80dbe5e9')\"\n",
              "            title=\"Suggest charts\"\n",
              "            style=\"display:none;\">\n",
              "\n",
              "<svg xmlns=\"http://www.w3.org/2000/svg\" height=\"24px\"viewBox=\"0 0 24 24\"\n",
              "     width=\"24px\">\n",
              "    <g>\n",
              "        <path d=\"M19 3H5c-1.1 0-2 .9-2 2v14c0 1.1.9 2 2 2h14c1.1 0 2-.9 2-2V5c0-1.1-.9-2-2-2zM9 17H7v-7h2v7zm4 0h-2V7h2v10zm4 0h-2v-4h2v4z\"/>\n",
              "    </g>\n",
              "</svg>\n",
              "  </button>\n",
              "\n",
              "<style>\n",
              "  .colab-df-quickchart {\n",
              "      --bg-color: #E8F0FE;\n",
              "      --fill-color: #1967D2;\n",
              "      --hover-bg-color: #E2EBFA;\n",
              "      --hover-fill-color: #174EA6;\n",
              "      --disabled-fill-color: #AAA;\n",
              "      --disabled-bg-color: #DDD;\n",
              "  }\n",
              "\n",
              "  [theme=dark] .colab-df-quickchart {\n",
              "      --bg-color: #3B4455;\n",
              "      --fill-color: #D2E3FC;\n",
              "      --hover-bg-color: #434B5C;\n",
              "      --hover-fill-color: #FFFFFF;\n",
              "      --disabled-bg-color: #3B4455;\n",
              "      --disabled-fill-color: #666;\n",
              "  }\n",
              "\n",
              "  .colab-df-quickchart {\n",
              "    background-color: var(--bg-color);\n",
              "    border: none;\n",
              "    border-radius: 50%;\n",
              "    cursor: pointer;\n",
              "    display: none;\n",
              "    fill: var(--fill-color);\n",
              "    height: 32px;\n",
              "    padding: 0;\n",
              "    width: 32px;\n",
              "  }\n",
              "\n",
              "  .colab-df-quickchart:hover {\n",
              "    background-color: var(--hover-bg-color);\n",
              "    box-shadow: 0 1px 2px rgba(60, 64, 67, 0.3), 0 1px 3px 1px rgba(60, 64, 67, 0.15);\n",
              "    fill: var(--button-hover-fill-color);\n",
              "  }\n",
              "\n",
              "  .colab-df-quickchart-complete:disabled,\n",
              "  .colab-df-quickchart-complete:disabled:hover {\n",
              "    background-color: var(--disabled-bg-color);\n",
              "    fill: var(--disabled-fill-color);\n",
              "    box-shadow: none;\n",
              "  }\n",
              "\n",
              "  .colab-df-spinner {\n",
              "    border: 2px solid var(--fill-color);\n",
              "    border-color: transparent;\n",
              "    border-bottom-color: var(--fill-color);\n",
              "    animation:\n",
              "      spin 1s steps(1) infinite;\n",
              "  }\n",
              "\n",
              "  @keyframes spin {\n",
              "    0% {\n",
              "      border-color: transparent;\n",
              "      border-bottom-color: var(--fill-color);\n",
              "      border-left-color: var(--fill-color);\n",
              "    }\n",
              "    20% {\n",
              "      border-color: transparent;\n",
              "      border-left-color: var(--fill-color);\n",
              "      border-top-color: var(--fill-color);\n",
              "    }\n",
              "    30% {\n",
              "      border-color: transparent;\n",
              "      border-left-color: var(--fill-color);\n",
              "      border-top-color: var(--fill-color);\n",
              "      border-right-color: var(--fill-color);\n",
              "    }\n",
              "    40% {\n",
              "      border-color: transparent;\n",
              "      border-right-color: var(--fill-color);\n",
              "      border-top-color: var(--fill-color);\n",
              "    }\n",
              "    60% {\n",
              "      border-color: transparent;\n",
              "      border-right-color: var(--fill-color);\n",
              "    }\n",
              "    80% {\n",
              "      border-color: transparent;\n",
              "      border-right-color: var(--fill-color);\n",
              "      border-bottom-color: var(--fill-color);\n",
              "    }\n",
              "    90% {\n",
              "      border-color: transparent;\n",
              "      border-bottom-color: var(--fill-color);\n",
              "    }\n",
              "  }\n",
              "</style>\n",
              "\n",
              "  <script>\n",
              "    async function quickchart(key) {\n",
              "      const quickchartButtonEl =\n",
              "        document.querySelector('#' + key + ' button');\n",
              "      quickchartButtonEl.disabled = true;  // To prevent multiple clicks.\n",
              "      quickchartButtonEl.classList.add('colab-df-spinner');\n",
              "      try {\n",
              "        const charts = await google.colab.kernel.invokeFunction(\n",
              "            'suggestCharts', [key], {});\n",
              "      } catch (error) {\n",
              "        console.error('Error during call to suggestCharts:', error);\n",
              "      }\n",
              "      quickchartButtonEl.classList.remove('colab-df-spinner');\n",
              "      quickchartButtonEl.classList.add('colab-df-quickchart-complete');\n",
              "    }\n",
              "    (() => {\n",
              "      let quickchartButtonEl =\n",
              "        document.querySelector('#df-0cbf36aa-a055-4562-89a9-0c1a80dbe5e9 button');\n",
              "      quickchartButtonEl.style.display =\n",
              "        google.colab.kernel.accessAllowed ? 'block' : 'none';\n",
              "    })();\n",
              "  </script>\n",
              "</div>\n",
              "    </div>\n",
              "  </div>\n"
            ],
            "application/vnd.google.colaboratory.intrinsic+json": {
              "type": "dataframe",
              "variable_name": "X_train_filtered"
            }
          },
          "metadata": {},
          "execution_count": 54
        }
      ],
      "source": [
        "X_train_filtered"
      ]
    },
    {
      "cell_type": "code",
      "execution_count": 55,
      "metadata": {
        "colab": {
          "base_uri": "https://localhost:8080/"
        },
        "id": "SRvFfL6fErK8",
        "outputId": "697cabb0-3efa-480e-a9e8-ddb81ded4ad7"
      },
      "outputs": [
        {
          "output_type": "stream",
          "name": "stdout",
          "text": [
            "Fitting 5 folds for each of 5 candidates, totalling 25 fits\n",
            "0.11209351444217422\n",
            "0.5737331299447728\n"
          ]
        }
      ],
      "source": [
        "## Grit\n",
        "not_missing_train = ~y_train['grit'].isnull()\n",
        "X_train_filtered = X_train[not_missing_train]\n",
        "y_train_filtered = y_train['grit'][not_missing_train]\n",
        "\n",
        "not_missing_val = ~y_val['grit'].isnull()\n",
        "X_val_filtered = X_val[not_missing_val]\n",
        "y_val_filtered = y_val['grit'][not_missing_val]\n",
        "\n",
        "not_missing_test = ~y_test['grit'].isnull()\n",
        "X_test_filtered = X_test[not_missing_test]\n",
        "y_test_filtered = y_test['grit'][not_missing_test]\n",
        "\n",
        "xreg = xgboost.XGBRegressor()\n",
        "\n",
        "params = {\n",
        "'learning_rate': [0.05,0.10,0.15,0.20,0.25,0.30],\n",
        "'max_depth': [ 3, 4, 5, 6, 8, 10, 12, 15],\n",
        "'min_child_weight': [ 1, 3, 5, 7 ],\n",
        "'gamma': [ 0.0, 0.1, 0.2 , 0.3, 0.4 ],\n",
        "'colsample_bytree': [ 0.3, 0.4, 0.5 , 0.7 ]\n",
        "}\n",
        "\n",
        "rs_model=RandomizedSearchCV(xreg,param_distributions=params,n_iter=5,scoring='neg_mean_squared_error',n_jobs=-1,cv=5,verbose=3)\n",
        "rs_model.fit(X_train_filtered,y_train_filtered)\n",
        "\n",
        "grit_best=rs_model.best_estimator_\n",
        "\n",
        "grit_preds = grit_best.predict(X_test_filtered)\n",
        "print(mean_squared_error(y_test_filtered, grit_preds))\n",
        "print(r2_score(y_test_filtered, grit_preds))"
      ]
    },
    {
      "cell_type": "code",
      "execution_count": 56,
      "metadata": {
        "colab": {
          "base_uri": "https://localhost:8080/"
        },
        "id": "b8By9rz4cIkI",
        "outputId": "41e7435e-705d-472e-f1c1-cb7da41a770d"
      },
      "outputs": [
        {
          "output_type": "stream",
          "name": "stdout",
          "text": [
            "0.26403766562991066\n",
            "-0.004076907257753781\n"
          ]
        }
      ],
      "source": [
        "not_missing_train = ~y_train['grit'].isnull()\n",
        "X_train_filtered = X_train[not_missing_train]\n",
        "y_train_filtered = y_train['grit'][not_missing_train]\n",
        "\n",
        "not_missing_test = ~y_test['grit'].isnull()\n",
        "X_test_filtered = X_test[not_missing_test]\n",
        "y_test_filtered = y_test['grit'][not_missing_test]\n",
        "\n",
        "avg_grit = np.mean(y_train_filtered)\n",
        "\n",
        "mean_predicts = [avg_grit]*len(y_test_filtered)\n",
        "\n",
        "print(mean_squared_error(y_test_filtered, mean_predicts))\n",
        "print(r2_score(y_test_filtered, mean_predicts))"
      ]
    },
    {
      "cell_type": "code",
      "execution_count": 57,
      "metadata": {
        "colab": {
          "base_uri": "https://localhost:8080/"
        },
        "id": "TwXFa9KyEr0k",
        "outputId": "fc990c81-aaca-4c3c-ccaf-a2551d945c6d"
      },
      "outputs": [
        {
          "output_type": "stream",
          "name": "stdout",
          "text": [
            "Fitting 5 folds for each of 5 candidates, totalling 25 fits\n",
            "0.021444694637547376\n",
            "0.1713525408976403\n"
          ]
        }
      ],
      "source": [
        "## Hardship\n",
        "\n",
        "xreg = xgboost.XGBRegressor()\n",
        "\n",
        "params = {\n",
        "'learning_rate': [0.05,0.10,0.15,0.20,0.25,0.30],\n",
        "'max_depth': [ 3, 4, 5, 6, 8, 10, 12, 15],\n",
        "'min_child_weight': [ 1, 3, 5, 7 ],\n",
        "'gamma': [ 0.0, 0.1, 0.2 , 0.3, 0.4 ],\n",
        "'colsample_bytree': [ 0.3, 0.4, 0.5 , 0.7 ]\n",
        "}\n",
        "\n",
        "not_missing_train = ~y_train['materialHardship'].isnull()\n",
        "X_train_filtered = X_train[not_missing_train]\n",
        "y_train_filtered = y_train['materialHardship'][not_missing_train]\n",
        "\n",
        "not_missing_val = ~y_val['materialHardship'].isnull()\n",
        "X_val_filtered = X_val[not_missing_val]\n",
        "y_val_filtered = y_val['materialHardship'][not_missing_val]\n",
        "\n",
        "not_missing_test = ~y_test['materialHardship'].isnull()\n",
        "X_test_filtered = X_test[not_missing_test]\n",
        "y_test_filtered = y_test['materialHardship'][not_missing_test]\n",
        "\n",
        "rs_model=RandomizedSearchCV(xreg,param_distributions=params,n_iter=5,scoring='neg_mean_squared_error',n_jobs=-1,cv=5,verbose=3)\n",
        "rs_model.fit(X_train_filtered,y_train_filtered)\n",
        "\n",
        "hardship_best=rs_model.best_estimator_\n",
        "hardship_preds = hardship_best.predict(X_test_filtered)\n",
        "print(mean_squared_error(y_test_filtered, hardship_preds))\n",
        "print(r2_score(y_test_filtered, hardship_preds))"
      ]
    },
    {
      "cell_type": "code",
      "execution_count": 58,
      "metadata": {
        "colab": {
          "base_uri": "https://localhost:8080/"
        },
        "id": "9ucnEKDScRMW",
        "outputId": "1182a34a-45c0-4007-d3c1-2f9d868b3461"
      },
      "outputs": [
        {
          "output_type": "stream",
          "name": "stdout",
          "text": [
            "0.02594392755815901\n",
            "-0.0025029506628084786\n"
          ]
        }
      ],
      "source": [
        "not_missing_train = ~y_train['materialHardship'].isnull()\n",
        "X_train_filtered = X_train[not_missing_train]\n",
        "y_train_filtered = y_train['materialHardship'][not_missing_train]\n",
        "\n",
        "not_missing_test = ~y_test['materialHardship'].isnull()\n",
        "X_test_filtered = X_test[not_missing_test]\n",
        "y_test_filtered = y_test['materialHardship'][not_missing_test]\n",
        "\n",
        "avg_hardship = np.mean(y_train_filtered)\n",
        "\n",
        "mean_predicts = [avg_hardship]*len(y_test_filtered)\n",
        "\n",
        "print(mean_squared_error(y_test_filtered, mean_predicts))\n",
        "print(r2_score(y_test_filtered, mean_predicts))"
      ]
    },
    {
      "cell_type": "code",
      "execution_count": 59,
      "metadata": {
        "colab": {
          "base_uri": "https://localhost:8080/"
        },
        "id": "g2pdN3oBEsnx",
        "outputId": "0841b10b-b2fd-4047-97db-615d1ab86b6a"
      },
      "outputs": [
        {
          "output_type": "stream",
          "name": "stdout",
          "text": [
            "Fitting 5 folds for each of 5 candidates, totalling 25 fits\n"
          ]
        }
      ],
      "source": [
        "## Eviction\n",
        "xreg = xgboost.XGBClassifier()\n",
        "\n",
        "params = {\n",
        "'learning_rate': [0.05,0.10,0.15,0.20,0.25,0.30],\n",
        "'max_depth': [ 3, 4, 5, 6, 8, 10, 12, 15],\n",
        "'min_child_weight': [ 1, 3, 5, 7 ],\n",
        "'gamma': [ 0.0, 0.1, 0.2 , 0.3, 0.4 ],\n",
        "'colsample_bytree': [ 0.3, 0.4, 0.5 , 0.7 ]\n",
        "}\n",
        "not_missing_train = ~y_train['eviction'].isnull()\n",
        "X_train_filtered = X_train[not_missing_train]\n",
        "y_train_filtered = y_train['eviction'][not_missing_train]\n",
        "\n",
        "not_missing_test = ~y_test['eviction'].isnull()\n",
        "X_test_filtered = X_test[not_missing_test]\n",
        "y_test_filtered = y_test['eviction'][not_missing_test]\n",
        "\n",
        "rs_model=RandomizedSearchCV(xreg,param_distributions=params,n_iter=5,scoring='accuracy',n_jobs=-1,cv=5,verbose=3)\n",
        "rs_model.fit(X_train_filtered,y_train_filtered)\n",
        "\n",
        "best_evic=rs_model.best_estimator_"
      ]
    },
    {
      "cell_type": "code",
      "execution_count": 60,
      "metadata": {
        "colab": {
          "base_uri": "https://localhost:8080/"
        },
        "id": "xQUeTUqKVPkb",
        "outputId": "76a5ddc0-54cb-4e3a-f191-5959c3ae33aa"
      },
      "outputs": [
        {
          "output_type": "stream",
          "name": "stdout",
          "text": [
            "0.9265873015873016\n",
            "(0.8585640274628371, 0.9265873015873016, 0.8912796495185785, None)\n"
          ]
        },
        {
          "output_type": "stream",
          "name": "stderr",
          "text": [
            "/usr/local/lib/python3.10/dist-packages/sklearn/metrics/_classification.py:1344: UndefinedMetricWarning: Precision and F-score are ill-defined and being set to 0.0 in labels with no predicted samples. Use `zero_division` parameter to control this behavior.\n",
            "  _warn_prf(average, modifier, msg_start, len(result))\n"
          ]
        }
      ],
      "source": [
        "from sklearn.metrics import precision_recall_fscore_support\n",
        "from sklearn.metrics import accuracy_score\n",
        "evic_preds = best_evic.predict(X_test_filtered)\n",
        "\n",
        "print(accuracy_score(y_test_filtered, evic_preds))\n",
        "print(precision_recall_fscore_support(y_test_filtered, evic_preds, average='weighted'))"
      ]
    },
    {
      "cell_type": "code",
      "execution_count": 61,
      "metadata": {
        "colab": {
          "base_uri": "https://localhost:8080/"
        },
        "id": "RhsDzqGJte6C",
        "outputId": "0502c7ad-4416-439d-9243-16a03790ed00"
      },
      "outputs": [
        {
          "output_type": "stream",
          "name": "stdout",
          "text": [
            "              precision    recall  f1-score   support\n",
            "\n",
            " No Eviction       0.93      1.00      0.96       467\n",
            "    Eviction       0.00      0.00      0.00        37\n",
            "\n",
            "    accuracy                           0.93       504\n",
            "   macro avg       0.46      0.50      0.48       504\n",
            "weighted avg       0.86      0.93      0.89       504\n",
            "\n"
          ]
        },
        {
          "output_type": "stream",
          "name": "stderr",
          "text": [
            "/usr/local/lib/python3.10/dist-packages/sklearn/metrics/_classification.py:1344: UndefinedMetricWarning: Precision and F-score are ill-defined and being set to 0.0 in labels with no predicted samples. Use `zero_division` parameter to control this behavior.\n",
            "  _warn_prf(average, modifier, msg_start, len(result))\n",
            "/usr/local/lib/python3.10/dist-packages/sklearn/metrics/_classification.py:1344: UndefinedMetricWarning: Precision and F-score are ill-defined and being set to 0.0 in labels with no predicted samples. Use `zero_division` parameter to control this behavior.\n",
            "  _warn_prf(average, modifier, msg_start, len(result))\n",
            "/usr/local/lib/python3.10/dist-packages/sklearn/metrics/_classification.py:1344: UndefinedMetricWarning: Precision and F-score are ill-defined and being set to 0.0 in labels with no predicted samples. Use `zero_division` parameter to control this behavior.\n",
            "  _warn_prf(average, modifier, msg_start, len(result))\n"
          ]
        }
      ],
      "source": [
        "from sklearn.metrics import classification_report\n",
        "print(classification_report(y_test_filtered, evic_preds, target_names=[\"No Eviction\",\"Eviction\"]))"
      ]
    },
    {
      "cell_type": "code",
      "execution_count": 62,
      "metadata": {
        "colab": {
          "base_uri": "https://localhost:8080/"
        },
        "id": "j6Ic_nCKEts7",
        "outputId": "a3284ea3-3db4-4d0f-d86d-814d79ff0f34"
      },
      "outputs": [
        {
          "output_type": "stream",
          "name": "stdout",
          "text": [
            "Fitting 5 folds for each of 5 candidates, totalling 25 fits\n"
          ]
        }
      ],
      "source": [
        "## Layoff\n",
        "\n",
        "rf = RandomForestClassifier(random_state = 42)\n",
        "\n",
        "# Number of trees in random forest\n",
        "n_estimators = [int(x) for x in np.linspace(start = 200, stop = 2000, num = 10)]\n",
        "# Maximum number of levels in tree\n",
        "max_depth = [int(x) for x in np.linspace(10, 110, num = 11)]\n",
        "max_depth.append(None)\n",
        "# Minimum number of samples required to split a node\n",
        "min_samples_split = [2, 5, 10]\n",
        "# Minimum number of samples required at each leaf node\n",
        "min_samples_leaf = [1, 2, 4]\n",
        "# Method of selecting samples for training each tree\n",
        "bootstrap = [True, False]\n",
        "# Create the random grid\n",
        "random_grid = {'n_estimators': n_estimators,\n",
        "              'max_depth': max_depth,\n",
        "              'min_samples_split': min_samples_split,\n",
        "              'min_samples_leaf': min_samples_leaf,\n",
        "              'bootstrap': bootstrap}\n",
        "\n",
        "not_missing_train = ~y_train['layoff'].isnull()\n",
        "X_train_filtered = X_train[not_missing_train]\n",
        "y_train_filtered = y_train['layoff'][not_missing_train]\n",
        "\n",
        "not_missing_test = ~y_test['layoff'].isnull()\n",
        "X_test_filtered = X_test[not_missing_test]\n",
        "y_test_filtered = y_test['layoff'][not_missing_test]\n",
        "\n",
        "rf_random = RandomizedSearchCV(estimator = rf, param_distributions = random_grid, n_iter = 5, cv = 5, verbose=2, random_state=42, n_jobs = -1)\n",
        "# Fit the random search model\n",
        "rf_random.fit(X_train_filtered, y_train_filtered)\n",
        "\n",
        "layoff_best = rf_random.best_estimator_"
      ]
    },
    {
      "cell_type": "code",
      "execution_count": 63,
      "metadata": {
        "colab": {
          "base_uri": "https://localhost:8080/"
        },
        "id": "xXLk9GzxW8Th",
        "outputId": "747b50d9-13aa-44c3-9850-fbbfded2b90d"
      },
      "outputs": [
        {
          "output_type": "stream",
          "name": "stdout",
          "text": [
            "0.8117913832199547\n",
            "(0.8477024526285609, 0.8117913832199547, 0.7394985315287979, None)\n"
          ]
        }
      ],
      "source": [
        "layoff_preds = layoff_best.predict(X_test_filtered)\n",
        "\n",
        "print(accuracy_score(y_test_filtered, layoff_preds))\n",
        "print(precision_recall_fscore_support(y_test_filtered, layoff_preds, average='weighted'))"
      ]
    },
    {
      "cell_type": "code",
      "execution_count": 64,
      "metadata": {
        "colab": {
          "base_uri": "https://localhost:8080/"
        },
        "id": "oDuGMTQ1s0nn",
        "outputId": "9ef0912a-0a89-463b-d407-ce441770cbc0"
      },
      "outputs": [
        {
          "output_type": "stream",
          "name": "stdout",
          "text": [
            "              precision    recall  f1-score   support\n",
            "\n",
            "   No Layoff       0.81      1.00      0.89       352\n",
            "      Layoff       1.00      0.07      0.13        89\n",
            "\n",
            "    accuracy                           0.81       441\n",
            "   macro avg       0.90      0.53      0.51       441\n",
            "weighted avg       0.85      0.81      0.74       441\n",
            "\n"
          ]
        }
      ],
      "source": [
        "from sklearn.metrics import classification_report\n",
        "print(classification_report(y_test_filtered, layoff_preds, target_names=[\"No Layoff\",\"Layoff\"]))"
      ]
    },
    {
      "cell_type": "code",
      "execution_count": 65,
      "metadata": {
        "colab": {
          "base_uri": "https://localhost:8080/"
        },
        "id": "GkdEqbfWEuei",
        "outputId": "4b96d451-61ff-48e1-9e75-4c4d9cc397cf"
      },
      "outputs": [
        {
          "output_type": "stream",
          "name": "stdout",
          "text": [
            "Fitting 5 folds for each of 5 candidates, totalling 25 fits\n"
          ]
        }
      ],
      "source": [
        "## Job training\n",
        "\n",
        "rf = RandomForestClassifier(random_state = 42)\n",
        "\n",
        "# Number of trees in random forest\n",
        "n_estimators = [int(x) for x in np.linspace(start = 200, stop = 2000, num = 10)]\n",
        "# Maximum number of levels in tree\n",
        "max_depth = [int(x) for x in np.linspace(10, 110, num = 11)]\n",
        "max_depth.append(None)\n",
        "# Minimum number of samples required to split a node\n",
        "min_samples_split = [2, 5, 10]\n",
        "# Minimum number of samples required at each leaf node\n",
        "min_samples_leaf = [1, 2, 4]\n",
        "# Method of selecting samples for training each tree\n",
        "bootstrap = [True, False]\n",
        "# Create the random grid\n",
        "random_grid = {'n_estimators': n_estimators,\n",
        "              'max_depth': max_depth,\n",
        "              'min_samples_split': min_samples_split,\n",
        "              'min_samples_leaf': min_samples_leaf,\n",
        "              'bootstrap': bootstrap}\n",
        "\n",
        "not_missing_train = ~y_train['jobTraining'].isnull()\n",
        "X_train_filtered = X_train[not_missing_train]\n",
        "y_train_filtered = y_train['jobTraining'][not_missing_train]\n",
        "\n",
        "not_missing_test = ~y_test['jobTraining'].isnull()\n",
        "X_test_filtered = X_test[not_missing_test]\n",
        "y_test_filtered = y_test['jobTraining'][not_missing_test]\n",
        "\n",
        "rf_random = RandomizedSearchCV(estimator = rf, param_distributions = random_grid, n_iter = 5, cv = 5, verbose=2, random_state=42, n_jobs = -1)\n",
        "# Fit the random search model\n",
        "rf_random.fit(X_train_filtered, y_train_filtered)\n",
        "\n",
        "job_best = rf_random.best_estimator_"
      ]
    },
    {
      "cell_type": "code",
      "execution_count": 66,
      "metadata": {
        "colab": {
          "base_uri": "https://localhost:8080/"
        },
        "id": "SVkXUrTYY3QX",
        "outputId": "6855a580-728f-45e2-ca38-1cd03db740d0"
      },
      "outputs": [
        {
          "output_type": "stream",
          "name": "stdout",
          "text": [
            "0.8336633663366336\n",
            "(0.8630786868160499, 0.8336633663366336, 0.7932156495095237, None)\n"
          ]
        }
      ],
      "source": [
        "job_preds = job_best.predict(X_test_filtered)\n",
        "\n",
        "print(accuracy_score(y_test_filtered, job_preds))\n",
        "print(precision_recall_fscore_support(y_test_filtered, job_preds, average='weighted'))"
      ]
    },
    {
      "cell_type": "code",
      "execution_count": 67,
      "metadata": {
        "colab": {
          "base_uri": "https://localhost:8080/"
        },
        "id": "fd-adJf_r5-Z",
        "outputId": "77e3b466-76eb-4341-e2fe-1d1ee1800f8b"
      },
      "outputs": [
        {
          "output_type": "stream",
          "name": "stdout",
          "text": [
            "                 precision    recall  f1-score   support\n",
            "\n",
            "No Job Training       0.82      1.00      0.90       391\n",
            "   Job Training       1.00      0.26      0.42       114\n",
            "\n",
            "       accuracy                           0.83       505\n",
            "      macro avg       0.91      0.63      0.66       505\n",
            "   weighted avg       0.86      0.83      0.79       505\n",
            "\n"
          ]
        }
      ],
      "source": [
        "from sklearn.metrics import classification_report\n",
        "print(classification_report(y_test_filtered, job_preds, target_names=[\"No Job Training\",\"Job Training\"]))"
      ]
    },
    {
      "cell_type": "code",
      "execution_count": 68,
      "metadata": {
        "id": "BTHUMELcatH3"
      },
      "outputs": [],
      "source": [
        "not_missing_train = ~y_train['layoff'].isnull()\n",
        "X_train_filtered = X_train[not_missing_train]\n",
        "y_train_filtered = y_train['layoff'][not_missing_train]"
      ]
    },
    {
      "cell_type": "markdown",
      "source": [
        "## Feature Importance"
      ],
      "metadata": {
        "id": "nSWD663NG5Wx"
      }
    },
    {
      "cell_type": "markdown",
      "metadata": {
        "id": "I54SGn8e29kx"
      },
      "source": [
        "### XGBoost Feature Importance"
      ]
    },
    {
      "cell_type": "code",
      "execution_count": 69,
      "metadata": {
        "colab": {
          "base_uri": "https://localhost:8080/",
          "height": 448
        },
        "id": "SLOywzF-2_nd",
        "outputId": "d42362cb-ea96-48d3-fa27-9dbf6a755599"
      },
      "outputs": [
        {
          "output_type": "execute_result",
          "data": {
            "text/plain": [
              "<Axes: >"
            ]
          },
          "metadata": {},
          "execution_count": 69
        },
        {
          "output_type": "display_data",
          "data": {
            "text/plain": [
              "<Figure size 640x480 with 1 Axes>"
            ],
            "image/png": "[encoded data removed]"
          },
          "metadata": {}
        }
      ],
      "source": [
        "feat_importances = pd.Series(gpa_best.feature_importances_, index=X_train.columns).sort_values(ascending=True)[27:]\n",
        "feat_importances.plot(kind='barh')"
      ]
    },
    {
      "cell_type": "code",
      "execution_count": 70,
      "metadata": {
        "colab": {
          "base_uri": "https://localhost:8080/",
          "height": 448
        },
        "id": "GilH2h4fCndO",
        "outputId": "f717a2fc-3ab2-45f8-85eb-2dde15674f6b"
      },
      "outputs": [
        {
          "output_type": "execute_result",
          "data": {
            "text/plain": [
              "<Axes: >"
            ]
          },
          "metadata": {},
          "execution_count": 70
        },
        {
          "output_type": "display_data",
          "data": {
            "text/plain": [
              "<Figure size 640x480 with 1 Axes>"
            ],
            "image/png": "[encoded data removed]"
          },
          "metadata": {}
        }
      ],
      "source": [
        "feat_importances = pd.Series(grit_best.feature_importances_, index=X_train.columns).sort_values(ascending=True)[27:]\n",
        "feat_importances.plot(kind='barh')"
      ]
    },
    {
      "cell_type": "markdown",
      "metadata": {
        "id": "h0nH-UIf5DEW"
      },
      "source": [
        "### SHAP"
      ]
    },
    {
      "cell_type": "code",
      "execution_count": 71,
      "metadata": {
        "colab": {
          "base_uri": "https://localhost:8080/"
        },
        "id": "itRzBewSmYcL",
        "outputId": "408bd01b-b6e8-42c3-8025-661c877337bb"
      },
      "outputs": [
        {
          "output_type": "stream",
          "name": "stdout",
          "text": [
            "Collecting shap\n",
            "  Downloading shap-0.45.0-cp310-cp310-manylinux_2_12_x86_64.manylinux2010_x86_64.manylinux_2_17_x86_64.manylinux2014_x86_64.whl (538 kB)\n",
            "\u001b[2K     \u001b[90m━━━━━━━━━━━━━━━━━━━━━━━━━━━━━━━━━━━━━━━━\u001b[0m \u001b[32m538.2/538.2 kB\u001b[0m \u001b[31m6.9 MB/s\u001b[0m eta \u001b[36m0:00:00\u001b[0m\n",
            "\u001b[?25hRequirement already satisfied: numpy in /usr/local/lib/python3.10/dist-packages (from shap) (1.25.2)\n",
            "Requirement already satisfied: scipy in /usr/local/lib/python3.10/dist-packages (from shap) (1.11.4)\n",
            "Requirement already satisfied: scikit-learn in /usr/local/lib/python3.10/dist-packages (from shap) (1.2.2)\n",
            "Requirement already satisfied: pandas in /usr/local/lib/python3.10/dist-packages (from shap) (2.0.3)\n",
            "Requirement already satisfied: tqdm>=4.27.0 in /usr/local/lib/python3.10/dist-packages (from shap) (4.66.2)\n",
            "Requirement already satisfied: packaging>20.9 in /usr/local/lib/python3.10/dist-packages (from shap) (24.0)\n",
            "Collecting slicer==0.0.7 (from shap)\n",
            "  Downloading slicer-0.0.7-py3-none-any.whl (14 kB)\n",
            "Requirement already satisfied: numba in /usr/local/lib/python3.10/dist-packages (from shap) (0.58.1)\n",
            "Requirement already satisfied: cloudpickle in /usr/local/lib/python3.10/dist-packages (from shap) (2.2.1)\n",
            "Requirement already satisfied: llvmlite<0.42,>=0.41.0dev0 in /usr/local/lib/python3.10/dist-packages (from numba->shap) (0.41.1)\n",
            "Requirement already satisfied: python-dateutil>=2.8.2 in /usr/local/lib/python3.10/dist-packages (from pandas->shap) (2.8.2)\n",
            "Requirement already satisfied: pytz>=2020.1 in /usr/local/lib/python3.10/dist-packages (from pandas->shap) (2023.4)\n",
            "Requirement already satisfied: tzdata>=2022.1 in /usr/local/lib/python3.10/dist-packages (from pandas->shap) (2024.1)\n",
            "Requirement already satisfied: joblib>=1.1.1 in /usr/local/lib/python3.10/dist-packages (from scikit-learn->shap) (1.4.0)\n",
            "Requirement already satisfied: threadpoolctl>=2.0.0 in /usr/local/lib/python3.10/dist-packages (from scikit-learn->shap) (3.4.0)\n",
            "Requirement already satisfied: six>=1.5 in /usr/local/lib/python3.10/dist-packages (from python-dateutil>=2.8.2->pandas->shap) (1.16.0)\n",
            "Installing collected packages: slicer, shap\n",
            "Successfully installed shap-0.45.0 slicer-0.0.7\n"
          ]
        }
      ],
      "source": [
        "!pip install shap"
      ]
    },
    {
      "cell_type": "code",
      "execution_count": 72,
      "metadata": {
        "id": "rAHDZJ-65ZSV"
      },
      "outputs": [],
      "source": [
        "from sklearn.ensemble import RandomForestClassifier\n",
        "import shap"
      ]
    },
    {
      "cell_type": "code",
      "source": [
        "not_missing_train = ~y_train['gpa'].isnull()\n",
        "X_train_filtered = X_train[not_missing_train]\n",
        "y_train_filtered = y_train['gpa'][not_missing_train]\n",
        "\n",
        "explainer = shap.TreeExplainer(gpa_best)\n",
        "shap_values = explainer.shap_values(X_train_filtered)"
      ],
      "metadata": {
        "id": "bbFqe9DLHIuG"
      },
      "execution_count": 86,
      "outputs": []
    },
    {
      "cell_type": "code",
      "execution_count": 89,
      "metadata": {
        "colab": {
          "base_uri": "https://localhost:8080/",
          "height": 957
        },
        "id": "kkLVRTM8H-7L",
        "outputId": "c3cb81fb-fd50-4903-8f75-a4b9faadb1e6"
      },
      "outputs": [
        {
          "output_type": "display_data",
          "data": {
            "text/plain": [
              "<Figure size 800x950 with 2 Axes>"
            ],
            "image/png": "[encoded data removed]"
          },
          "metadata": {}
        }
      ],
      "source": [
        "# Summary plot for feature importance?\n",
        "shap_interest = shap_values[:, 21:]\n",
        "interest_variables = X_train_filtered.iloc[:,21:]\n",
        "shap.summary_plot(shap_interest, interest_variables)"
      ]
    },
    {
      "cell_type": "code",
      "source": [
        "not_missing_train = ~y_train['grit'].isnull()\n",
        "X_train_filtered = X_train[not_missing_train]\n",
        "y_train_filtered = y_train['grit'][not_missing_train]\n",
        "\n",
        "explainer = shap.TreeExplainer(grit_best)\n",
        "shap_values = explainer.shap_values(X_train_filtered)"
      ],
      "metadata": {
        "id": "jF8KQMz4HRjk"
      },
      "execution_count": 90,
      "outputs": []
    },
    {
      "cell_type": "code",
      "execution_count": 91,
      "metadata": {
        "colab": {
          "base_uri": "https://localhost:8080/",
          "height": 957
        },
        "id": "AJXBG6fUAqxE",
        "outputId": "e039aceb-5e34-460a-ee0b-332fbfb357a4"
      },
      "outputs": [
        {
          "output_type": "display_data",
          "data": {
            "text/plain": [
              "<Figure size 800x950 with 2 Axes>"
            ],
            "image/png": "[encoded data removed]"
          },
          "metadata": {}
        }
      ],
      "source": [
        "# Summary plot for feature importance?\n",
        "shap_interest = shap_values[:, 21:]\n",
        "interest_variables = X_train_filtered.iloc[:,21:]\n",
        "shap.summary_plot(shap_interest, interest_variables)"
      ]
    },
    {
      "cell_type": "markdown",
      "source": [
        "### Partial Dependence Plots"
      ],
      "metadata": {
        "id": "qlFL9iOmGz36"
      }
    },
    {
      "cell_type": "code",
      "source": [
        "not_missing_train = ~y_train['gpa'].isnull()\n",
        "X_train_filtered = X_train[not_missing_train]\n",
        "y_train_filtered = y_train['gpa'][not_missing_train]"
      ],
      "metadata": {
        "id": "PS84Az-HLk5c"
      },
      "execution_count": null,
      "outputs": []
    },
    {
      "cell_type": "code",
      "source": [
        "from sklearn.ensemble import GradientBoostingRegressor\n",
        "from sklearn.inspection import PartialDependenceDisplay\n",
        "PartialDependenceDisplay.from_estimator(gpa_best, X_train_filtered, features = [44])\n",
        "plt.show()"
      ],
      "metadata": {
        "id": "J6YoxKupLmrI",
        "outputId": "4173ed24-bb8f-44d4-fbba-c66ff8ef8630",
        "colab": {
          "base_uri": "https://localhost:8080/",
          "height": 450
        }
      },
      "execution_count": 106,
      "outputs": [
        {
          "output_type": "display_data",
          "data": {
            "text/plain": [
              "<Figure size 640x480 with 2 Axes>"
            ],
            "image/png": "[encoded data removed]"
          },
          "metadata": {}
        }
      ]
    },
    {
      "cell_type": "code",
      "source": [
        "not_missing_train = ~y_train['grit'].isnull()\n",
        "X_train_filtered = X_train[not_missing_train]\n",
        "y_train_filtered = y_train['grit'][not_missing_train]"
      ],
      "metadata": {
        "id": "ohVYmXPTLQOJ"
      },
      "execution_count": 104,
      "outputs": []
    },
    {
      "cell_type": "code",
      "execution_count": 105,
      "metadata": {
        "colab": {
          "base_uri": "https://localhost:8080/",
          "height": 450
        },
        "id": "xmd1l6vq0iRI",
        "outputId": "14bfad8f-b61a-49b3-90b7-bf453d9a485e"
      },
      "outputs": [
        {
          "output_type": "display_data",
          "data": {
            "text/plain": [
              "<Figure size 640x480 with 2 Axes>"
            ],
            "image/png": "[encoded data removed]"
          },
          "metadata": {}
        }
      ],
      "source": [
        "from sklearn.ensemble import GradientBoostingRegressor\n",
        "from sklearn.inspection import PartialDependenceDisplay\n",
        "PartialDependenceDisplay.from_estimator(grit_best, X_train_filtered, features = [44])\n",
        "plt.show()"
      ]
    },
    {
      "cell_type": "code",
      "execution_count": null,
      "metadata": {
        "id": "CtRqTTS89gnP"
      },
      "outputs": [],
      "source": []
    }
  ],
  "metadata": {
    "colab": {
      "provenance": []
    },
    "kernelspec": {
      "display_name": "Python 3",
      "name": "python3"
    },
    "language_info": {
      "name": "python"
    }
  },
  "nbformat": 4,
  "nbformat_minor": 0
}