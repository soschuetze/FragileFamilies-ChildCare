{
  "nbformat": 4,
  "nbformat_minor": 0,
  "metadata": {
    "colab": {
      "provenance": []
    },
    "kernelspec": {
      "name": "python3",
      "display_name": "Python 3"
    },
    "language_info": {
      "name": "python"
    }
  },
  "cells": [
    {
      "cell_type": "markdown",
      "source": [
        "## Data Loading"
      ],
      "metadata": {
        "id": "OVqlQixlvb-4"
      }
    },
    {
      "cell_type": "code",
      "execution_count": null,
      "metadata": {
        "id": "gBY18xtC05pr"
      },
      "outputs": [],
      "source": [
        "import tensorflow as tf\n",
        "from tensorflow import keras\n",
        "\n",
        "import os\n",
        "import tempfile\n",
        "\n",
        "import matplotlib as mpl\n",
        "import matplotlib.pyplot as plt\n",
        "import numpy as np\n",
        "import pandas as pd\n",
        "import seaborn as sns\n",
        "\n",
        "import sklearn\n",
        "from sklearn.metrics import confusion_matrix\n",
        "from sklearn.model_selection import train_test_split\n",
        "from sklearn.preprocessing import StandardScaler\n",
        "\n",
        "from sklearn.metrics import confusion_matrix, ConfusionMatrixDisplay\n",
        "from sklearn.metrics import roc_curve"
      ]
    },
    {
      "cell_type": "code",
      "source": [
        "file = tf.keras.utils\n",
        "raw_df = pd.read_csv('/content/drive/MyDrive/Oxford/background.csv')\n",
        "cleaned_df = raw_df.copy()\n",
        "\n",
        "train_df = pd.read_csv('/content/drive/MyDrive/Oxford/train.csv')\n",
        "outcomes_df = train_df.copy()"
      ],
      "metadata": {
        "id": "f3q34XQP1FTg",
        "colab": {
          "base_uri": "https://localhost:8080/"
        },
        "outputId": "7719daf7-b694-4a8e-91a2-eafc880e11d2"
      },
      "execution_count": null,
      "outputs": [
        {
          "output_type": "stream",
          "name": "stderr",
          "text": [
            "<ipython-input-2-f07354eb9be6>:2: DtypeWarning: Columns (5168,5272,5328,5329,5340,5341,5351,5470,5479,5661,5663,5685,5695,5696,5706,5764,5772,5788,5803,5815,5816,5828,5900,5901,5937,5946,5965,5966,9287,12349,12353,12356) have mixed types. Specify dtype option on import or set low_memory=False.\n",
            "  raw_df = pd.read_csv('/content/drive/MyDrive/Oxford/background.csv')\n"
          ]
        }
      ]
    },
    {
      "cell_type": "code",
      "source": [
        "cleaned_df"
      ],
      "metadata": {
        "colab": {
          "base_uri": "https://localhost:8080/",
          "height": 444
        },
        "id": "Xm9qtm0h1erW",
        "outputId": "5092ac8b-cc01-45c9-9b71-752513237053"
      },
      "execution_count": null,
      "outputs": [
        {
          "output_type": "execute_result",
          "data": {
            "text/plain": [
              "      challengeID  cf1intmon  cf1intyr  cf1lenhr  cf1lenmin  cf1twoc  cf1fint  \\\n",
              "0               1         -3        -3        -9         -9       -3        0   \n",
              "1               2         -3        -3         0         40       -3        1   \n",
              "2               3         -3        -3         0         45       -3        1   \n",
              "3               4         -3        -3         0         45       -3        1   \n",
              "4               5         -3        -3        -6         50       -3        1   \n",
              "...           ...        ...       ...       ...        ...      ...      ...   \n",
              "4237         4238         -3        -3        -9         -9       -3        0   \n",
              "4238         4239         -3        -3         0         40       -3        1   \n",
              "4239         4240         -3        -3        -9         -9       -3        0   \n",
              "4240         4241         -3        -3         1          0       -3        1   \n",
              "4241         4242         -3        -3        -9         -9       -3        0   \n",
              "\n",
              "      cf1natsm  f1natwt  cf1natsmx  ...       m4d9      m4e23       f4d6  \\\n",
              "0           -3       -3         -3  ...   6.269946   5.180325   2.511131   \n",
              "1           -3       -3         -3  ...   6.269946  27.680196   2.511131   \n",
              "2           -3       -3         -3  ...   6.269946   5.180325  20.867881   \n",
              "3           -3       -3         -3  ...   6.269946   5.180325  22.018875   \n",
              "4           -3       -3         -3  ...   6.269946   5.180325  22.916602   \n",
              "...        ...      ...        ...  ...        ...        ...        ...   \n",
              "4237        -3       -3         -3  ...  27.941956   5.180325   2.511131   \n",
              "4238        -3       -3         -3  ...  28.703663   5.180325   2.511131   \n",
              "4239        -3       -3         -3  ...   6.269946  26.990283   2.511131   \n",
              "4240        -3       -3         -3  ...   6.269946  27.189692   2.511131   \n",
              "4241        -3       -3         -3  ...   6.269946   5.180325  23.558317   \n",
              "\n",
              "           f4d7       f4d9       m5c6      m5d20     m5k10       f5c6  \\\n",
              "0      1.718804   6.473537  16.369411   4.476881  9.628369  15.981275   \n",
              "1      1.718804   6.473537  16.369411  26.671897  9.628369  15.981275   \n",
              "2     24.115867   6.473537  16.369411   4.476881  9.628369  15.981275   \n",
              "3     22.932641   6.473537  -5.169243   4.476881  9.628369  -6.303171   \n",
              "4     22.988036   6.473537  -6.034660   4.476881  9.628369  -6.211828   \n",
              "...         ...        ...        ...        ...       ...        ...   \n",
              "4237   1.718804   6.473537  16.369411   4.476881  9.628369  15.981275   \n",
              "4238   1.718804   6.473537  16.369411   4.476881  9.628369  15.981275   \n",
              "4239   1.718804   6.473537  16.369411   4.476881  9.628369  15.981275   \n",
              "4240   1.718804  28.512659  16.369411   4.476881  9.628369  -6.009855   \n",
              "4241  23.937457   6.473537  -5.424175   4.476881  9.628369  -5.812319   \n",
              "\n",
              "           k5f1  \n",
              "0     24.038266  \n",
              "1      3.667679  \n",
              "2     24.038266  \n",
              "3      4.140511  \n",
              "4      3.668879  \n",
              "...         ...  \n",
              "4237  24.038266  \n",
              "4238   3.424922  \n",
              "4239  24.038266  \n",
              "4240   3.656543  \n",
              "4241   3.424922  \n",
              "\n",
              "[4242 rows x 13027 columns]"
            ],
            "text/html": [
              "\n",
              "  <div id=\"df-84f45b87-06f3-460f-9649-7eb53230f7b1\" class=\"colab-df-container\">\n",
              "    <div>\n",
              "<style scoped>\n",
              "    .dataframe tbody tr th:only-of-type {\n",
              "        vertical-align: middle;\n",
              "    }\n",
              "\n",
              "    .dataframe tbody tr th {\n",
              "        vertical-align: top;\n",
              "    }\n",
              "\n",
              "    .dataframe thead th {\n",
              "        text-align: right;\n",
              "    }\n",
              "</style>\n",
              "<table border=\"1\" class=\"dataframe\">\n",
              "  <thead>\n",
              "    <tr style=\"text-align: right;\">\n",
              "      <th></th>\n",
              "      <th>challengeID</th>\n",
              "      <th>cf1intmon</th>\n",
              "      <th>cf1intyr</th>\n",
              "      <th>cf1lenhr</th>\n",
              "      <th>cf1lenmin</th>\n",
              "      <th>cf1twoc</th>\n",
              "      <th>cf1fint</th>\n",
              "      <th>cf1natsm</th>\n",
              "      <th>f1natwt</th>\n",
              "      <th>cf1natsmx</th>\n",
              "      <th>...</th>\n",
              "      <th>m4d9</th>\n",
              "      <th>m4e23</th>\n",
              "      <th>f4d6</th>\n",
              "      <th>f4d7</th>\n",
              "      <th>f4d9</th>\n",
              "      <th>m5c6</th>\n",
              "      <th>m5d20</th>\n",
              "      <th>m5k10</th>\n",
              "      <th>f5c6</th>\n",
              "      <th>k5f1</th>\n",
              "    </tr>\n",
              "  </thead>\n",
              "  <tbody>\n",
              "    <tr>\n",
              "      <th>0</th>\n",
              "      <td>1</td>\n",
              "      <td>-3</td>\n",
              "      <td>-3</td>\n",
              "      <td>-9</td>\n",
              "      <td>-9</td>\n",
              "      <td>-3</td>\n",
              "      <td>0</td>\n",
              "      <td>-3</td>\n",
              "      <td>-3</td>\n",
              "      <td>-3</td>\n",
              "      <td>...</td>\n",
              "      <td>6.269946</td>\n",
              "      <td>5.180325</td>\n",
              "      <td>2.511131</td>\n",
              "      <td>1.718804</td>\n",
              "      <td>6.473537</td>\n",
              "      <td>16.369411</td>\n",
              "      <td>4.476881</td>\n",
              "      <td>9.628369</td>\n",
              "      <td>15.981275</td>\n",
              "      <td>24.038266</td>\n",
              "    </tr>\n",
              "    <tr>\n",
              "      <th>1</th>\n",
              "      <td>2</td>\n",
              "      <td>-3</td>\n",
              "      <td>-3</td>\n",
              "      <td>0</td>\n",
              "      <td>40</td>\n",
              "      <td>-3</td>\n",
              "      <td>1</td>\n",
              "      <td>-3</td>\n",
              "      <td>-3</td>\n",
              "      <td>-3</td>\n",
              "      <td>...</td>\n",
              "      <td>6.269946</td>\n",
              "      <td>27.680196</td>\n",
              "      <td>2.511131</td>\n",
              "      <td>1.718804</td>\n",
              "      <td>6.473537</td>\n",
              "      <td>16.369411</td>\n",
              "      <td>26.671897</td>\n",
              "      <td>9.628369</td>\n",
              "      <td>15.981275</td>\n",
              "      <td>3.667679</td>\n",
              "    </tr>\n",
              "    <tr>\n",
              "      <th>2</th>\n",
              "      <td>3</td>\n",
              "      <td>-3</td>\n",
              "      <td>-3</td>\n",
              "      <td>0</td>\n",
              "      <td>45</td>\n",
              "      <td>-3</td>\n",
              "      <td>1</td>\n",
              "      <td>-3</td>\n",
              "      <td>-3</td>\n",
              "      <td>-3</td>\n",
              "      <td>...</td>\n",
              "      <td>6.269946</td>\n",
              "      <td>5.180325</td>\n",
              "      <td>20.867881</td>\n",
              "      <td>24.115867</td>\n",
              "      <td>6.473537</td>\n",
              "      <td>16.369411</td>\n",
              "      <td>4.476881</td>\n",
              "      <td>9.628369</td>\n",
              "      <td>15.981275</td>\n",
              "      <td>24.038266</td>\n",
              "    </tr>\n",
              "    <tr>\n",
              "      <th>3</th>\n",
              "      <td>4</td>\n",
              "      <td>-3</td>\n",
              "      <td>-3</td>\n",
              "      <td>0</td>\n",
              "      <td>45</td>\n",
              "      <td>-3</td>\n",
              "      <td>1</td>\n",
              "      <td>-3</td>\n",
              "      <td>-3</td>\n",
              "      <td>-3</td>\n",
              "      <td>...</td>\n",
              "      <td>6.269946</td>\n",
              "      <td>5.180325</td>\n",
              "      <td>22.018875</td>\n",
              "      <td>22.932641</td>\n",
              "      <td>6.473537</td>\n",
              "      <td>-5.169243</td>\n",
              "      <td>4.476881</td>\n",
              "      <td>9.628369</td>\n",
              "      <td>-6.303171</td>\n",
              "      <td>4.140511</td>\n",
              "    </tr>\n",
              "    <tr>\n",
              "      <th>4</th>\n",
              "      <td>5</td>\n",
              "      <td>-3</td>\n",
              "      <td>-3</td>\n",
              "      <td>-6</td>\n",
              "      <td>50</td>\n",
              "      <td>-3</td>\n",
              "      <td>1</td>\n",
              "      <td>-3</td>\n",
              "      <td>-3</td>\n",
              "      <td>-3</td>\n",
              "      <td>...</td>\n",
              "      <td>6.269946</td>\n",
              "      <td>5.180325</td>\n",
              "      <td>22.916602</td>\n",
              "      <td>22.988036</td>\n",
              "      <td>6.473537</td>\n",
              "      <td>-6.034660</td>\n",
              "      <td>4.476881</td>\n",
              "      <td>9.628369</td>\n",
              "      <td>-6.211828</td>\n",
              "      <td>3.668879</td>\n",
              "    </tr>\n",
              "    <tr>\n",
              "      <th>...</th>\n",
              "      <td>...</td>\n",
              "      <td>...</td>\n",
              "      <td>...</td>\n",
              "      <td>...</td>\n",
              "      <td>...</td>\n",
              "      <td>...</td>\n",
              "      <td>...</td>\n",
              "      <td>...</td>\n",
              "      <td>...</td>\n",
              "      <td>...</td>\n",
              "      <td>...</td>\n",
              "      <td>...</td>\n",
              "      <td>...</td>\n",
              "      <td>...</td>\n",
              "      <td>...</td>\n",
              "      <td>...</td>\n",
              "      <td>...</td>\n",
              "      <td>...</td>\n",
              "      <td>...</td>\n",
              "      <td>...</td>\n",
              "      <td>...</td>\n",
              "    </tr>\n",
              "    <tr>\n",
              "      <th>4237</th>\n",
              "      <td>4238</td>\n",
              "      <td>-3</td>\n",
              "      <td>-3</td>\n",
              "      <td>-9</td>\n",
              "      <td>-9</td>\n",
              "      <td>-3</td>\n",
              "      <td>0</td>\n",
              "      <td>-3</td>\n",
              "      <td>-3</td>\n",
              "      <td>-3</td>\n",
              "      <td>...</td>\n",
              "      <td>27.941956</td>\n",
              "      <td>5.180325</td>\n",
              "      <td>2.511131</td>\n",
              "      <td>1.718804</td>\n",
              "      <td>6.473537</td>\n",
              "      <td>16.369411</td>\n",
              "      <td>4.476881</td>\n",
              "      <td>9.628369</td>\n",
              "      <td>15.981275</td>\n",
              "      <td>24.038266</td>\n",
              "    </tr>\n",
              "    <tr>\n",
              "      <th>4238</th>\n",
              "      <td>4239</td>\n",
              "      <td>-3</td>\n",
              "      <td>-3</td>\n",
              "      <td>0</td>\n",
              "      <td>40</td>\n",
              "      <td>-3</td>\n",
              "      <td>1</td>\n",
              "      <td>-3</td>\n",
              "      <td>-3</td>\n",
              "      <td>-3</td>\n",
              "      <td>...</td>\n",
              "      <td>28.703663</td>\n",
              "      <td>5.180325</td>\n",
              "      <td>2.511131</td>\n",
              "      <td>1.718804</td>\n",
              "      <td>6.473537</td>\n",
              "      <td>16.369411</td>\n",
              "      <td>4.476881</td>\n",
              "      <td>9.628369</td>\n",
              "      <td>15.981275</td>\n",
              "      <td>3.424922</td>\n",
              "    </tr>\n",
              "    <tr>\n",
              "      <th>4239</th>\n",
              "      <td>4240</td>\n",
              "      <td>-3</td>\n",
              "      <td>-3</td>\n",
              "      <td>-9</td>\n",
              "      <td>-9</td>\n",
              "      <td>-3</td>\n",
              "      <td>0</td>\n",
              "      <td>-3</td>\n",
              "      <td>-3</td>\n",
              "      <td>-3</td>\n",
              "      <td>...</td>\n",
              "      <td>6.269946</td>\n",
              "      <td>26.990283</td>\n",
              "      <td>2.511131</td>\n",
              "      <td>1.718804</td>\n",
              "      <td>6.473537</td>\n",
              "      <td>16.369411</td>\n",
              "      <td>4.476881</td>\n",
              "      <td>9.628369</td>\n",
              "      <td>15.981275</td>\n",
              "      <td>24.038266</td>\n",
              "    </tr>\n",
              "    <tr>\n",
              "      <th>4240</th>\n",
              "      <td>4241</td>\n",
              "      <td>-3</td>\n",
              "      <td>-3</td>\n",
              "      <td>1</td>\n",
              "      <td>0</td>\n",
              "      <td>-3</td>\n",
              "      <td>1</td>\n",
              "      <td>-3</td>\n",
              "      <td>-3</td>\n",
              "      <td>-3</td>\n",
              "      <td>...</td>\n",
              "      <td>6.269946</td>\n",
              "      <td>27.189692</td>\n",
              "      <td>2.511131</td>\n",
              "      <td>1.718804</td>\n",
              "      <td>28.512659</td>\n",
              "      <td>16.369411</td>\n",
              "      <td>4.476881</td>\n",
              "      <td>9.628369</td>\n",
              "      <td>-6.009855</td>\n",
              "      <td>3.656543</td>\n",
              "    </tr>\n",
              "    <tr>\n",
              "      <th>4241</th>\n",
              "      <td>4242</td>\n",
              "      <td>-3</td>\n",
              "      <td>-3</td>\n",
              "      <td>-9</td>\n",
              "      <td>-9</td>\n",
              "      <td>-3</td>\n",
              "      <td>0</td>\n",
              "      <td>-3</td>\n",
              "      <td>-3</td>\n",
              "      <td>-3</td>\n",
              "      <td>...</td>\n",
              "      <td>6.269946</td>\n",
              "      <td>5.180325</td>\n",
              "      <td>23.558317</td>\n",
              "      <td>23.937457</td>\n",
              "      <td>6.473537</td>\n",
              "      <td>-5.424175</td>\n",
              "      <td>4.476881</td>\n",
              "      <td>9.628369</td>\n",
              "      <td>-5.812319</td>\n",
              "      <td>3.424922</td>\n",
              "    </tr>\n",
              "  </tbody>\n",
              "</table>\n",
              "<p>4242 rows × 13027 columns</p>\n",
              "</div>\n",
              "    <div class=\"colab-df-buttons\">\n",
              "\n",
              "  <div class=\"colab-df-container\">\n",
              "    <button class=\"colab-df-convert\" onclick=\"convertToInteractive('df-84f45b87-06f3-460f-9649-7eb53230f7b1')\"\n",
              "            title=\"Convert this dataframe to an interactive table.\"\n",
              "            style=\"display:none;\">\n",
              "\n",
              "  <svg xmlns=\"http://www.w3.org/2000/svg\" height=\"24px\" viewBox=\"0 -960 960 960\">\n",
              "    <path d=\"M120-120v-720h720v720H120Zm60-500h600v-160H180v160Zm220 220h160v-160H400v160Zm0 220h160v-160H400v160ZM180-400h160v-160H180v160Zm440 0h160v-160H620v160ZM180-180h160v-160H180v160Zm440 0h160v-160H620v160Z\"/>\n",
              "  </svg>\n",
              "    </button>\n",
              "\n",
              "  <style>\n",
              "    .colab-df-container {\n",
              "      display:flex;\n",
              "      gap: 12px;\n",
              "    }\n",
              "\n",
              "    .colab-df-convert {\n",
              "      background-color: #E8F0FE;\n",
              "      border: none;\n",
              "      border-radius: 50%;\n",
              "      cursor: pointer;\n",
              "      display: none;\n",
              "      fill: #1967D2;\n",
              "      height: 32px;\n",
              "      padding: 0 0 0 0;\n",
              "      width: 32px;\n",
              "    }\n",
              "\n",
              "    .colab-df-convert:hover {\n",
              "      background-color: #E2EBFA;\n",
              "      box-shadow: 0px 1px 2px rgba(60, 64, 67, 0.3), 0px 1px 3px 1px rgba(60, 64, 67, 0.15);\n",
              "      fill: #174EA6;\n",
              "    }\n",
              "\n",
              "    .colab-df-buttons div {\n",
              "      margin-bottom: 4px;\n",
              "    }\n",
              "\n",
              "    [theme=dark] .colab-df-convert {\n",
              "      background-color: #3B4455;\n",
              "      fill: #D2E3FC;\n",
              "    }\n",
              "\n",
              "    [theme=dark] .colab-df-convert:hover {\n",
              "      background-color: #434B5C;\n",
              "      box-shadow: 0px 1px 3px 1px rgba(0, 0, 0, 0.15);\n",
              "      filter: drop-shadow(0px 1px 2px rgba(0, 0, 0, 0.3));\n",
              "      fill: #FFFFFF;\n",
              "    }\n",
              "  </style>\n",
              "\n",
              "    <script>\n",
              "      const buttonEl =\n",
              "        document.querySelector('#df-84f45b87-06f3-460f-9649-7eb53230f7b1 button.colab-df-convert');\n",
              "      buttonEl.style.display =\n",
              "        google.colab.kernel.accessAllowed ? 'block' : 'none';\n",
              "\n",
              "      async function convertToInteractive(key) {\n",
              "        const element = document.querySelector('#df-84f45b87-06f3-460f-9649-7eb53230f7b1');\n",
              "        const dataTable =\n",
              "          await google.colab.kernel.invokeFunction('convertToInteractive',\n",
              "                                                    [key], {});\n",
              "        if (!dataTable) return;\n",
              "\n",
              "        const docLinkHtml = 'Like what you see? Visit the ' +\n",
              "          '<a target=\"_blank\" href=https://colab.research.google.com/notebooks/data_table.ipynb>data table notebook</a>'\n",
              "          + ' to learn more about interactive tables.';\n",
              "        element.innerHTML = '';\n",
              "        dataTable['output_type'] = 'display_data';\n",
              "        await google.colab.output.renderOutput(dataTable, element);\n",
              "        const docLink = document.createElement('div');\n",
              "        docLink.innerHTML = docLinkHtml;\n",
              "        element.appendChild(docLink);\n",
              "      }\n",
              "    </script>\n",
              "  </div>\n",
              "\n",
              "\n",
              "<div id=\"df-febf57cb-77f1-4d40-a640-d54535441722\">\n",
              "  <button class=\"colab-df-quickchart\" onclick=\"quickchart('df-febf57cb-77f1-4d40-a640-d54535441722')\"\n",
              "            title=\"Suggest charts\"\n",
              "            style=\"display:none;\">\n",
              "\n",
              "<svg xmlns=\"http://www.w3.org/2000/svg\" height=\"24px\"viewBox=\"0 0 24 24\"\n",
              "     width=\"24px\">\n",
              "    <g>\n",
              "        <path d=\"M19 3H5c-1.1 0-2 .9-2 2v14c0 1.1.9 2 2 2h14c1.1 0 2-.9 2-2V5c0-1.1-.9-2-2-2zM9 17H7v-7h2v7zm4 0h-2V7h2v10zm4 0h-2v-4h2v4z\"/>\n",
              "    </g>\n",
              "</svg>\n",
              "  </button>\n",
              "\n",
              "<style>\n",
              "  .colab-df-quickchart {\n",
              "      --bg-color: #E8F0FE;\n",
              "      --fill-color: #1967D2;\n",
              "      --hover-bg-color: #E2EBFA;\n",
              "      --hover-fill-color: #174EA6;\n",
              "      --disabled-fill-color: #AAA;\n",
              "      --disabled-bg-color: #DDD;\n",
              "  }\n",
              "\n",
              "  [theme=dark] .colab-df-quickchart {\n",
              "      --bg-color: #3B4455;\n",
              "      --fill-color: #D2E3FC;\n",
              "      --hover-bg-color: #434B5C;\n",
              "      --hover-fill-color: #FFFFFF;\n",
              "      --disabled-bg-color: #3B4455;\n",
              "      --disabled-fill-color: #666;\n",
              "  }\n",
              "\n",
              "  .colab-df-quickchart {\n",
              "    background-color: var(--bg-color);\n",
              "    border: none;\n",
              "    border-radius: 50%;\n",
              "    cursor: pointer;\n",
              "    display: none;\n",
              "    fill: var(--fill-color);\n",
              "    height: 32px;\n",
              "    padding: 0;\n",
              "    width: 32px;\n",
              "  }\n",
              "\n",
              "  .colab-df-quickchart:hover {\n",
              "    background-color: var(--hover-bg-color);\n",
              "    box-shadow: 0 1px 2px rgba(60, 64, 67, 0.3), 0 1px 3px 1px rgba(60, 64, 67, 0.15);\n",
              "    fill: var(--button-hover-fill-color);\n",
              "  }\n",
              "\n",
              "  .colab-df-quickchart-complete:disabled,\n",
              "  .colab-df-quickchart-complete:disabled:hover {\n",
              "    background-color: var(--disabled-bg-color);\n",
              "    fill: var(--disabled-fill-color);\n",
              "    box-shadow: none;\n",
              "  }\n",
              "\n",
              "  .colab-df-spinner {\n",
              "    border: 2px solid var(--fill-color);\n",
              "    border-color: transparent;\n",
              "    border-bottom-color: var(--fill-color);\n",
              "    animation:\n",
              "      spin 1s steps(1) infinite;\n",
              "  }\n",
              "\n",
              "  @keyframes spin {\n",
              "    0% {\n",
              "      border-color: transparent;\n",
              "      border-bottom-color: var(--fill-color);\n",
              "      border-left-color: var(--fill-color);\n",
              "    }\n",
              "    20% {\n",
              "      border-color: transparent;\n",
              "      border-left-color: var(--fill-color);\n",
              "      border-top-color: var(--fill-color);\n",
              "    }\n",
              "    30% {\n",
              "      border-color: transparent;\n",
              "      border-left-color: var(--fill-color);\n",
              "      border-top-color: var(--fill-color);\n",
              "      border-right-color: var(--fill-color);\n",
              "    }\n",
              "    40% {\n",
              "      border-color: transparent;\n",
              "      border-right-color: var(--fill-color);\n",
              "      border-top-color: var(--fill-color);\n",
              "    }\n",
              "    60% {\n",
              "      border-color: transparent;\n",
              "      border-right-color: var(--fill-color);\n",
              "    }\n",
              "    80% {\n",
              "      border-color: transparent;\n",
              "      border-right-color: var(--fill-color);\n",
              "      border-bottom-color: var(--fill-color);\n",
              "    }\n",
              "    90% {\n",
              "      border-color: transparent;\n",
              "      border-bottom-color: var(--fill-color);\n",
              "    }\n",
              "  }\n",
              "</style>\n",
              "\n",
              "  <script>\n",
              "    async function quickchart(key) {\n",
              "      const quickchartButtonEl =\n",
              "        document.querySelector('#' + key + ' button');\n",
              "      quickchartButtonEl.disabled = true;  // To prevent multiple clicks.\n",
              "      quickchartButtonEl.classList.add('colab-df-spinner');\n",
              "      try {\n",
              "        const charts = await google.colab.kernel.invokeFunction(\n",
              "            'suggestCharts', [key], {});\n",
              "      } catch (error) {\n",
              "        console.error('Error during call to suggestCharts:', error);\n",
              "      }\n",
              "      quickchartButtonEl.classList.remove('colab-df-spinner');\n",
              "      quickchartButtonEl.classList.add('colab-df-quickchart-complete');\n",
              "    }\n",
              "    (() => {\n",
              "      let quickchartButtonEl =\n",
              "        document.querySelector('#df-febf57cb-77f1-4d40-a640-d54535441722 button');\n",
              "      quickchartButtonEl.style.display =\n",
              "        google.colab.kernel.accessAllowed ? 'block' : 'none';\n",
              "    })();\n",
              "  </script>\n",
              "</div>\n",
              "\n",
              "  <div id=\"id_e5043fce-0254-42a1-8f09-0b2ec53f5111\">\n",
              "    <style>\n",
              "      .colab-df-generate {\n",
              "        background-color: #E8F0FE;\n",
              "        border: none;\n",
              "        border-radius: 50%;\n",
              "        cursor: pointer;\n",
              "        display: none;\n",
              "        fill: #1967D2;\n",
              "        height: 32px;\n",
              "        padding: 0 0 0 0;\n",
              "        width: 32px;\n",
              "      }\n",
              "\n",
              "      .colab-df-generate:hover {\n",
              "        background-color: #E2EBFA;\n",
              "        box-shadow: 0px 1px 2px rgba(60, 64, 67, 0.3), 0px 1px 3px 1px rgba(60, 64, 67, 0.15);\n",
              "        fill: #174EA6;\n",
              "      }\n",
              "\n",
              "      [theme=dark] .colab-df-generate {\n",
              "        background-color: #3B4455;\n",
              "        fill: #D2E3FC;\n",
              "      }\n",
              "\n",
              "      [theme=dark] .colab-df-generate:hover {\n",
              "        background-color: #434B5C;\n",
              "        box-shadow: 0px 1px 3px 1px rgba(0, 0, 0, 0.15);\n",
              "        filter: drop-shadow(0px 1px 2px rgba(0, 0, 0, 0.3));\n",
              "        fill: #FFFFFF;\n",
              "      }\n",
              "    </style>\n",
              "    <button class=\"colab-df-generate\" onclick=\"generateWithVariable('cleaned_df')\"\n",
              "            title=\"Generate code using this dataframe.\"\n",
              "            style=\"display:none;\">\n",
              "\n",
              "  <svg xmlns=\"http://www.w3.org/2000/svg\" height=\"24px\"viewBox=\"0 0 24 24\"\n",
              "       width=\"24px\">\n",
              "    <path d=\"M7,19H8.4L18.45,9,17,7.55,7,17.6ZM5,21V16.75L18.45,3.32a2,2,0,0,1,2.83,0l1.4,1.43a1.91,1.91,0,0,1,.58,1.4,1.91,1.91,0,0,1-.58,1.4L9.25,21ZM18.45,9,17,7.55Zm-12,3A5.31,5.31,0,0,0,4.9,8.1,5.31,5.31,0,0,0,1,6.5,5.31,5.31,0,0,0,4.9,4.9,5.31,5.31,0,0,0,6.5,1,5.31,5.31,0,0,0,8.1,4.9,5.31,5.31,0,0,0,12,6.5,5.46,5.46,0,0,0,6.5,12Z\"/>\n",
              "  </svg>\n",
              "    </button>\n",
              "    <script>\n",
              "      (() => {\n",
              "      const buttonEl =\n",
              "        document.querySelector('#id_e5043fce-0254-42a1-8f09-0b2ec53f5111 button.colab-df-generate');\n",
              "      buttonEl.style.display =\n",
              "        google.colab.kernel.accessAllowed ? 'block' : 'none';\n",
              "\n",
              "      buttonEl.onclick = () => {\n",
              "        google.colab.notebook.generateWithVariable('cleaned_df');\n",
              "      }\n",
              "      })();\n",
              "    </script>\n",
              "  </div>\n",
              "\n",
              "    </div>\n",
              "  </div>\n"
            ],
            "application/vnd.google.colaboratory.intrinsic+json": {
              "type": "dataframe",
              "variable_name": "cleaned_df"
            }
          },
          "metadata": {},
          "execution_count": 3
        }
      ]
    },
    {
      "cell_type": "code",
      "source": [
        "outcomes_df"
      ],
      "metadata": {
        "id": "f4lDTta4CeJC",
        "outputId": "0b771753-29b6-4503-b2f1-e04a4e43c634",
        "colab": {
          "base_uri": "https://localhost:8080/",
          "height": 424
        }
      },
      "execution_count": null,
      "outputs": [
        {
          "output_type": "execute_result",
          "data": {
            "text/plain": [
              "      challengeID   gpa  grit  materialHardship  eviction  layoff  jobTraining\n",
              "0               1   NaN   NaN               NaN       NaN     NaN          NaN\n",
              "1               3   NaN   NaN               NaN       NaN     NaN          NaN\n",
              "2               6   NaN  3.50          0.090909       0.0     0.0          0.0\n",
              "3               7  2.50  3.25          0.000000       0.0     0.0          0.0\n",
              "4               8   NaN   NaN               NaN       NaN     NaN          NaN\n",
              "...           ...   ...   ...               ...       ...     ...          ...\n",
              "2116         4235   NaN   NaN               NaN       NaN     NaN          NaN\n",
              "2117         4236   NaN  3.75          0.000000       0.0     0.0          0.0\n",
              "2118         4239  2.75  2.75          0.000000       0.0     0.0          0.0\n",
              "2119         4240   NaN   NaN               NaN       NaN     NaN          NaN\n",
              "2120         4241  3.00  4.00          0.000000       0.0     1.0          1.0\n",
              "\n",
              "[2121 rows x 7 columns]"
            ],
            "text/html": [
              "\n",
              "  <div id=\"df-4d8126cf-9135-4c51-aaf8-da09bf7a3b15\" class=\"colab-df-container\">\n",
              "    <div>\n",
              "<style scoped>\n",
              "    .dataframe tbody tr th:only-of-type {\n",
              "        vertical-align: middle;\n",
              "    }\n",
              "\n",
              "    .dataframe tbody tr th {\n",
              "        vertical-align: top;\n",
              "    }\n",
              "\n",
              "    .dataframe thead th {\n",
              "        text-align: right;\n",
              "    }\n",
              "</style>\n",
              "<table border=\"1\" class=\"dataframe\">\n",
              "  <thead>\n",
              "    <tr style=\"text-align: right;\">\n",
              "      <th></th>\n",
              "      <th>challengeID</th>\n",
              "      <th>gpa</th>\n",
              "      <th>grit</th>\n",
              "      <th>materialHardship</th>\n",
              "      <th>eviction</th>\n",
              "      <th>layoff</th>\n",
              "      <th>jobTraining</th>\n",
              "    </tr>\n",
              "  </thead>\n",
              "  <tbody>\n",
              "    <tr>\n",
              "      <th>0</th>\n",
              "      <td>1</td>\n",
              "      <td>NaN</td>\n",
              "      <td>NaN</td>\n",
              "      <td>NaN</td>\n",
              "      <td>NaN</td>\n",
              "      <td>NaN</td>\n",
              "      <td>NaN</td>\n",
              "    </tr>\n",
              "    <tr>\n",
              "      <th>1</th>\n",
              "      <td>3</td>\n",
              "      <td>NaN</td>\n",
              "      <td>NaN</td>\n",
              "      <td>NaN</td>\n",
              "      <td>NaN</td>\n",
              "      <td>NaN</td>\n",
              "      <td>NaN</td>\n",
              "    </tr>\n",
              "    <tr>\n",
              "      <th>2</th>\n",
              "      <td>6</td>\n",
              "      <td>NaN</td>\n",
              "      <td>3.50</td>\n",
              "      <td>0.090909</td>\n",
              "      <td>0.0</td>\n",
              "      <td>0.0</td>\n",
              "      <td>0.0</td>\n",
              "    </tr>\n",
              "    <tr>\n",
              "      <th>3</th>\n",
              "      <td>7</td>\n",
              "      <td>2.50</td>\n",
              "      <td>3.25</td>\n",
              "      <td>0.000000</td>\n",
              "      <td>0.0</td>\n",
              "      <td>0.0</td>\n",
              "      <td>0.0</td>\n",
              "    </tr>\n",
              "    <tr>\n",
              "      <th>4</th>\n",
              "      <td>8</td>\n",
              "      <td>NaN</td>\n",
              "      <td>NaN</td>\n",
              "      <td>NaN</td>\n",
              "      <td>NaN</td>\n",
              "      <td>NaN</td>\n",
              "      <td>NaN</td>\n",
              "    </tr>\n",
              "    <tr>\n",
              "      <th>...</th>\n",
              "      <td>...</td>\n",
              "      <td>...</td>\n",
              "      <td>...</td>\n",
              "      <td>...</td>\n",
              "      <td>...</td>\n",
              "      <td>...</td>\n",
              "      <td>...</td>\n",
              "    </tr>\n",
              "    <tr>\n",
              "      <th>2116</th>\n",
              "      <td>4235</td>\n",
              "      <td>NaN</td>\n",
              "      <td>NaN</td>\n",
              "      <td>NaN</td>\n",
              "      <td>NaN</td>\n",
              "      <td>NaN</td>\n",
              "      <td>NaN</td>\n",
              "    </tr>\n",
              "    <tr>\n",
              "      <th>2117</th>\n",
              "      <td>4236</td>\n",
              "      <td>NaN</td>\n",
              "      <td>3.75</td>\n",
              "      <td>0.000000</td>\n",
              "      <td>0.0</td>\n",
              "      <td>0.0</td>\n",
              "      <td>0.0</td>\n",
              "    </tr>\n",
              "    <tr>\n",
              "      <th>2118</th>\n",
              "      <td>4239</td>\n",
              "      <td>2.75</td>\n",
              "      <td>2.75</td>\n",
              "      <td>0.000000</td>\n",
              "      <td>0.0</td>\n",
              "      <td>0.0</td>\n",
              "      <td>0.0</td>\n",
              "    </tr>\n",
              "    <tr>\n",
              "      <th>2119</th>\n",
              "      <td>4240</td>\n",
              "      <td>NaN</td>\n",
              "      <td>NaN</td>\n",
              "      <td>NaN</td>\n",
              "      <td>NaN</td>\n",
              "      <td>NaN</td>\n",
              "      <td>NaN</td>\n",
              "    </tr>\n",
              "    <tr>\n",
              "      <th>2120</th>\n",
              "      <td>4241</td>\n",
              "      <td>3.00</td>\n",
              "      <td>4.00</td>\n",
              "      <td>0.000000</td>\n",
              "      <td>0.0</td>\n",
              "      <td>1.0</td>\n",
              "      <td>1.0</td>\n",
              "    </tr>\n",
              "  </tbody>\n",
              "</table>\n",
              "<p>2121 rows × 7 columns</p>\n",
              "</div>\n",
              "    <div class=\"colab-df-buttons\">\n",
              "\n",
              "  <div class=\"colab-df-container\">\n",
              "    <button class=\"colab-df-convert\" onclick=\"convertToInteractive('df-4d8126cf-9135-4c51-aaf8-da09bf7a3b15')\"\n",
              "            title=\"Convert this dataframe to an interactive table.\"\n",
              "            style=\"display:none;\">\n",
              "\n",
              "  <svg xmlns=\"http://www.w3.org/2000/svg\" height=\"24px\" viewBox=\"0 -960 960 960\">\n",
              "    <path d=\"M120-120v-720h720v720H120Zm60-500h600v-160H180v160Zm220 220h160v-160H400v160Zm0 220h160v-160H400v160ZM180-400h160v-160H180v160Zm440 0h160v-160H620v160ZM180-180h160v-160H180v160Zm440 0h160v-160H620v160Z\"/>\n",
              "  </svg>\n",
              "    </button>\n",
              "\n",
              "  <style>\n",
              "    .colab-df-container {\n",
              "      display:flex;\n",
              "      gap: 12px;\n",
              "    }\n",
              "\n",
              "    .colab-df-convert {\n",
              "      background-color: #E8F0FE;\n",
              "      border: none;\n",
              "      border-radius: 50%;\n",
              "      cursor: pointer;\n",
              "      display: none;\n",
              "      fill: #1967D2;\n",
              "      height: 32px;\n",
              "      padding: 0 0 0 0;\n",
              "      width: 32px;\n",
              "    }\n",
              "\n",
              "    .colab-df-convert:hover {\n",
              "      background-color: #E2EBFA;\n",
              "      box-shadow: 0px 1px 2px rgba(60, 64, 67, 0.3), 0px 1px 3px 1px rgba(60, 64, 67, 0.15);\n",
              "      fill: #174EA6;\n",
              "    }\n",
              "\n",
              "    .colab-df-buttons div {\n",
              "      margin-bottom: 4px;\n",
              "    }\n",
              "\n",
              "    [theme=dark] .colab-df-convert {\n",
              "      background-color: #3B4455;\n",
              "      fill: #D2E3FC;\n",
              "    }\n",
              "\n",
              "    [theme=dark] .colab-df-convert:hover {\n",
              "      background-color: #434B5C;\n",
              "      box-shadow: 0px 1px 3px 1px rgba(0, 0, 0, 0.15);\n",
              "      filter: drop-shadow(0px 1px 2px rgba(0, 0, 0, 0.3));\n",
              "      fill: #FFFFFF;\n",
              "    }\n",
              "  </style>\n",
              "\n",
              "    <script>\n",
              "      const buttonEl =\n",
              "        document.querySelector('#df-4d8126cf-9135-4c51-aaf8-da09bf7a3b15 button.colab-df-convert');\n",
              "      buttonEl.style.display =\n",
              "        google.colab.kernel.accessAllowed ? 'block' : 'none';\n",
              "\n",
              "      async function convertToInteractive(key) {\n",
              "        const element = document.querySelector('#df-4d8126cf-9135-4c51-aaf8-da09bf7a3b15');\n",
              "        const dataTable =\n",
              "          await google.colab.kernel.invokeFunction('convertToInteractive',\n",
              "                                                    [key], {});\n",
              "        if (!dataTable) return;\n",
              "\n",
              "        const docLinkHtml = 'Like what you see? Visit the ' +\n",
              "          '<a target=\"_blank\" href=https://colab.research.google.com/notebooks/data_table.ipynb>data table notebook</a>'\n",
              "          + ' to learn more about interactive tables.';\n",
              "        element.innerHTML = '';\n",
              "        dataTable['output_type'] = 'display_data';\n",
              "        await google.colab.output.renderOutput(dataTable, element);\n",
              "        const docLink = document.createElement('div');\n",
              "        docLink.innerHTML = docLinkHtml;\n",
              "        element.appendChild(docLink);\n",
              "      }\n",
              "    </script>\n",
              "  </div>\n",
              "\n",
              "\n",
              "<div id=\"df-8e717a8c-26b5-44ab-a7d6-e55e07e65f15\">\n",
              "  <button class=\"colab-df-quickchart\" onclick=\"quickchart('df-8e717a8c-26b5-44ab-a7d6-e55e07e65f15')\"\n",
              "            title=\"Suggest charts\"\n",
              "            style=\"display:none;\">\n",
              "\n",
              "<svg xmlns=\"http://www.w3.org/2000/svg\" height=\"24px\"viewBox=\"0 0 24 24\"\n",
              "     width=\"24px\">\n",
              "    <g>\n",
              "        <path d=\"M19 3H5c-1.1 0-2 .9-2 2v14c0 1.1.9 2 2 2h14c1.1 0 2-.9 2-2V5c0-1.1-.9-2-2-2zM9 17H7v-7h2v7zm4 0h-2V7h2v10zm4 0h-2v-4h2v4z\"/>\n",
              "    </g>\n",
              "</svg>\n",
              "  </button>\n",
              "\n",
              "<style>\n",
              "  .colab-df-quickchart {\n",
              "      --bg-color: #E8F0FE;\n",
              "      --fill-color: #1967D2;\n",
              "      --hover-bg-color: #E2EBFA;\n",
              "      --hover-fill-color: #174EA6;\n",
              "      --disabled-fill-color: #AAA;\n",
              "      --disabled-bg-color: #DDD;\n",
              "  }\n",
              "\n",
              "  [theme=dark] .colab-df-quickchart {\n",
              "      --bg-color: #3B4455;\n",
              "      --fill-color: #D2E3FC;\n",
              "      --hover-bg-color: #434B5C;\n",
              "      --hover-fill-color: #FFFFFF;\n",
              "      --disabled-bg-color: #3B4455;\n",
              "      --disabled-fill-color: #666;\n",
              "  }\n",
              "\n",
              "  .colab-df-quickchart {\n",
              "    background-color: var(--bg-color);\n",
              "    border: none;\n",
              "    border-radius: 50%;\n",
              "    cursor: pointer;\n",
              "    display: none;\n",
              "    fill: var(--fill-color);\n",
              "    height: 32px;\n",
              "    padding: 0;\n",
              "    width: 32px;\n",
              "  }\n",
              "\n",
              "  .colab-df-quickchart:hover {\n",
              "    background-color: var(--hover-bg-color);\n",
              "    box-shadow: 0 1px 2px rgba(60, 64, 67, 0.3), 0 1px 3px 1px rgba(60, 64, 67, 0.15);\n",
              "    fill: var(--button-hover-fill-color);\n",
              "  }\n",
              "\n",
              "  .colab-df-quickchart-complete:disabled,\n",
              "  .colab-df-quickchart-complete:disabled:hover {\n",
              "    background-color: var(--disabled-bg-color);\n",
              "    fill: var(--disabled-fill-color);\n",
              "    box-shadow: none;\n",
              "  }\n",
              "\n",
              "  .colab-df-spinner {\n",
              "    border: 2px solid var(--fill-color);\n",
              "    border-color: transparent;\n",
              "    border-bottom-color: var(--fill-color);\n",
              "    animation:\n",
              "      spin 1s steps(1) infinite;\n",
              "  }\n",
              "\n",
              "  @keyframes spin {\n",
              "    0% {\n",
              "      border-color: transparent;\n",
              "      border-bottom-color: var(--fill-color);\n",
              "      border-left-color: var(--fill-color);\n",
              "    }\n",
              "    20% {\n",
              "      border-color: transparent;\n",
              "      border-left-color: var(--fill-color);\n",
              "      border-top-color: var(--fill-color);\n",
              "    }\n",
              "    30% {\n",
              "      border-color: transparent;\n",
              "      border-left-color: var(--fill-color);\n",
              "      border-top-color: var(--fill-color);\n",
              "      border-right-color: var(--fill-color);\n",
              "    }\n",
              "    40% {\n",
              "      border-color: transparent;\n",
              "      border-right-color: var(--fill-color);\n",
              "      border-top-color: var(--fill-color);\n",
              "    }\n",
              "    60% {\n",
              "      border-color: transparent;\n",
              "      border-right-color: var(--fill-color);\n",
              "    }\n",
              "    80% {\n",
              "      border-color: transparent;\n",
              "      border-right-color: var(--fill-color);\n",
              "      border-bottom-color: var(--fill-color);\n",
              "    }\n",
              "    90% {\n",
              "      border-color: transparent;\n",
              "      border-bottom-color: var(--fill-color);\n",
              "    }\n",
              "  }\n",
              "</style>\n",
              "\n",
              "  <script>\n",
              "    async function quickchart(key) {\n",
              "      const quickchartButtonEl =\n",
              "        document.querySelector('#' + key + ' button');\n",
              "      quickchartButtonEl.disabled = true;  // To prevent multiple clicks.\n",
              "      quickchartButtonEl.classList.add('colab-df-spinner');\n",
              "      try {\n",
              "        const charts = await google.colab.kernel.invokeFunction(\n",
              "            'suggestCharts', [key], {});\n",
              "      } catch (error) {\n",
              "        console.error('Error during call to suggestCharts:', error);\n",
              "      }\n",
              "      quickchartButtonEl.classList.remove('colab-df-spinner');\n",
              "      quickchartButtonEl.classList.add('colab-df-quickchart-complete');\n",
              "    }\n",
              "    (() => {\n",
              "      let quickchartButtonEl =\n",
              "        document.querySelector('#df-8e717a8c-26b5-44ab-a7d6-e55e07e65f15 button');\n",
              "      quickchartButtonEl.style.display =\n",
              "        google.colab.kernel.accessAllowed ? 'block' : 'none';\n",
              "    })();\n",
              "  </script>\n",
              "</div>\n",
              "\n",
              "  <div id=\"id_8059acf7-172f-4bd7-8f0f-f55e8c65ac74\">\n",
              "    <style>\n",
              "      .colab-df-generate {\n",
              "        background-color: #E8F0FE;\n",
              "        border: none;\n",
              "        border-radius: 50%;\n",
              "        cursor: pointer;\n",
              "        display: none;\n",
              "        fill: #1967D2;\n",
              "        height: 32px;\n",
              "        padding: 0 0 0 0;\n",
              "        width: 32px;\n",
              "      }\n",
              "\n",
              "      .colab-df-generate:hover {\n",
              "        background-color: #E2EBFA;\n",
              "        box-shadow: 0px 1px 2px rgba(60, 64, 67, 0.3), 0px 1px 3px 1px rgba(60, 64, 67, 0.15);\n",
              "        fill: #174EA6;\n",
              "      }\n",
              "\n",
              "      [theme=dark] .colab-df-generate {\n",
              "        background-color: #3B4455;\n",
              "        fill: #D2E3FC;\n",
              "      }\n",
              "\n",
              "      [theme=dark] .colab-df-generate:hover {\n",
              "        background-color: #434B5C;\n",
              "        box-shadow: 0px 1px 3px 1px rgba(0, 0, 0, 0.15);\n",
              "        filter: drop-shadow(0px 1px 2px rgba(0, 0, 0, 0.3));\n",
              "        fill: #FFFFFF;\n",
              "      }\n",
              "    </style>\n",
              "    <button class=\"colab-df-generate\" onclick=\"generateWithVariable('outcomes_df')\"\n",
              "            title=\"Generate code using this dataframe.\"\n",
              "            style=\"display:none;\">\n",
              "\n",
              "  <svg xmlns=\"http://www.w3.org/2000/svg\" height=\"24px\"viewBox=\"0 0 24 24\"\n",
              "       width=\"24px\">\n",
              "    <path d=\"M7,19H8.4L18.45,9,17,7.55,7,17.6ZM5,21V16.75L18.45,3.32a2,2,0,0,1,2.83,0l1.4,1.43a1.91,1.91,0,0,1,.58,1.4,1.91,1.91,0,0,1-.58,1.4L9.25,21ZM18.45,9,17,7.55Zm-12,3A5.31,5.31,0,0,0,4.9,8.1,5.31,5.31,0,0,0,1,6.5,5.31,5.31,0,0,0,4.9,4.9,5.31,5.31,0,0,0,6.5,1,5.31,5.31,0,0,0,8.1,4.9,5.31,5.31,0,0,0,12,6.5,5.46,5.46,0,0,0,6.5,12Z\"/>\n",
              "  </svg>\n",
              "    </button>\n",
              "    <script>\n",
              "      (() => {\n",
              "      const buttonEl =\n",
              "        document.querySelector('#id_8059acf7-172f-4bd7-8f0f-f55e8c65ac74 button.colab-df-generate');\n",
              "      buttonEl.style.display =\n",
              "        google.colab.kernel.accessAllowed ? 'block' : 'none';\n",
              "\n",
              "      buttonEl.onclick = () => {\n",
              "        google.colab.notebook.generateWithVariable('outcomes_df');\n",
              "      }\n",
              "      })();\n",
              "    </script>\n",
              "  </div>\n",
              "\n",
              "    </div>\n",
              "  </div>\n"
            ],
            "application/vnd.google.colaboratory.intrinsic+json": {
              "type": "dataframe",
              "variable_name": "outcomes_df",
              "summary": "{\n  \"name\": \"outcomes_df\",\n  \"rows\": 2121,\n  \"fields\": [\n    {\n      \"column\": \"challengeID\",\n      \"properties\": {\n        \"dtype\": \"number\",\n        \"std\": 1209,\n        \"min\": 1,\n        \"max\": 4241,\n        \"num_unique_values\": 2121,\n        \"samples\": [\n          3642,\n          2906,\n          562\n        ],\n        \"semantic_type\": \"\",\n        \"description\": \"\"\n      }\n    },\n    {\n      \"column\": \"gpa\",\n      \"properties\": {\n        \"dtype\": \"number\",\n        \"std\": 0.6653220579919922,\n        \"min\": 1.0,\n        \"max\": 4.0,\n        \"num_unique_values\": 13,\n        \"samples\": [\n          1.75,\n          1.25,\n          2.5\n        ],\n        \"semantic_type\": \"\",\n        \"description\": \"\"\n      }\n    },\n    {\n      \"column\": \"grit\",\n      \"properties\": {\n        \"dtype\": \"number\",\n        \"std\": 0.4851296928551232,\n        \"min\": 1.25,\n        \"max\": 4.0,\n        \"num_unique_values\": 12,\n        \"samples\": [\n          1.75,\n          1.5,\n          3.5\n        ],\n        \"semantic_type\": \"\",\n        \"description\": \"\"\n      }\n    },\n    {\n      \"column\": \"materialHardship\",\n      \"properties\": {\n        \"dtype\": \"number\",\n        \"std\": 0.1556654604106254,\n        \"min\": 0.0,\n        \"max\": 0.818181818181818,\n        \"num_unique_values\": 10,\n        \"samples\": [\n          0.818181818181818,\n          0.0,\n          0.454545454545455\n        ],\n        \"semantic_type\": \"\",\n        \"description\": \"\"\n      }\n    },\n    {\n      \"column\": \"eviction\",\n      \"properties\": {\n        \"dtype\": \"number\",\n        \"std\": 0.2368810252457005,\n        \"min\": 0.0,\n        \"max\": 1.0,\n        \"num_unique_values\": 2,\n        \"samples\": [\n          1.0,\n          0.0\n        ],\n        \"semantic_type\": \"\",\n        \"description\": \"\"\n      }\n    },\n    {\n      \"column\": \"layoff\",\n      \"properties\": {\n        \"dtype\": \"number\",\n        \"std\": 0.4068136642171377,\n        \"min\": 0.0,\n        \"max\": 1.0,\n        \"num_unique_values\": 2,\n        \"samples\": [\n          1.0,\n          0.0\n        ],\n        \"semantic_type\": \"\",\n        \"description\": \"\"\n      }\n    },\n    {\n      \"column\": \"jobTraining\",\n      \"properties\": {\n        \"dtype\": \"number\",\n        \"std\": 0.4240005558491558,\n        \"min\": 0.0,\n        \"max\": 1.0,\n        \"num_unique_values\": 2,\n        \"samples\": [\n          1.0,\n          0.0\n        ],\n        \"semantic_type\": \"\",\n        \"description\": \"\"\n      }\n    }\n  ]\n}"
            }
          },
          "metadata": {},
          "execution_count": 4
        }
      ]
    },
    {
      "cell_type": "markdown",
      "source": [
        "## Initial Data Preparation\n",
        "- Cast any strings to numeric where applicable\n",
        "- Cast categorical variables as integer representations\n",
        "(-3, -9 = NaN, -10 = Other, -11 = unknown or refuse)\n",
        "- Remove columns that didn't fit into either of those\n",
        "- Remove columns with no variation or all null"
      ],
      "metadata": {
        "id": "gCe6GCmFFYBm"
      }
    },
    {
      "cell_type": "code",
      "source": [
        "categorical = cleaned_df.loc[:, cleaned_df.nunique() < 30]\n",
        "numerical = cleaned_df.loc[:, cleaned_df.nunique() >= 30]"
      ],
      "metadata": {
        "id": "wGqs3QysDxc2"
      },
      "execution_count": null,
      "outputs": []
    },
    {
      "cell_type": "code",
      "source": [
        "#Replace numerical values that are missing with NaN\n",
        "categorical = categorical.replace(\"Missing\", np.NAN)\n",
        "categorical = categorical.replace('NA', np.NAN)\n",
        "categorical = categorical.replace('Other', -10)\n",
        "\n",
        "numerical = numerical.replace(-3, np.NaN)\n",
        "numerical = numerical.replace(-9, np.NaN)\n",
        "numerical = numerical.replace(-6, np.NaN)\n",
        "numerical = numerical.replace(-1, np.NaN)\n",
        "numerical = numerical.replace(-2, np.NaN)\n",
        "numerical = numerical.replace(\"Other\", np.NaN)"
      ],
      "metadata": {
        "id": "byXzfZbPGque"
      },
      "execution_count": null,
      "outputs": []
    },
    {
      "cell_type": "code",
      "source": [
        "#Dropping columns with more than 80% missing\n",
        "missing_percentage = categorical.isnull().mean() * 100\n",
        "columns_to_drop = missing_percentage[missing_percentage > 80].index\n",
        "categorical = categorical.drop(columns_to_drop, axis=1)\n",
        "\n",
        "categorical.cf4fint = pd.to_datetime(categorical.cf4fint)\n",
        "categorical = categorical.drop(categorical.columns[categorical.nunique() == 1],axis=1)\n",
        "\n",
        "#Dropping columns with more than 80% missing\n",
        "missing_percentage = numerical.isnull().mean() * 100\n",
        "columns_to_drop = missing_percentage[missing_percentage > 80].index\n",
        "numerical = numerical.drop(columns_to_drop, axis=1)\n",
        "numerical = numerical.drop(numerical.columns[numerical.nunique() == 1],axis=1)"
      ],
      "metadata": {
        "id": "EUNRuRmLHoQo"
      },
      "execution_count": null,
      "outputs": []
    },
    {
      "cell_type": "code",
      "source": [
        "string_columns = ['ch5ppvtae', 'ch5wj9ae', 'ch5wj10ae']\n",
        "convert_to_float = ['ch5wj9pr','ch5ppvtpr','ch5wj10pr']\n",
        "\n",
        "# Drop string columns from df1 and add them to df2\n",
        "for column in string_columns:\n",
        "    categorical[column] = numerical[column]  # Add string column to df2\n",
        "    numerical.drop(column, axis=1, inplace=True)  # Drop string column from df1\n",
        "\n",
        "# Convert columns to floats\n",
        "numerical = numerical.replace(\"<0.1\", \"0\")\n",
        "for column in convert_to_float:\n",
        "  numerical[column] = numerical[column].astype(float)"
      ],
      "metadata": {
        "id": "z1YDxROAay-9"
      },
      "execution_count": null,
      "outputs": []
    },
    {
      "cell_type": "code",
      "source": [
        "#Impute missing data using knn\n",
        "from sklearn.impute import KNNImputer\n",
        "numerical = numerical.astype(float)\n",
        "imputer = KNNImputer(n_neighbors=3)  # You can adjust the number of neighbors as needed\n",
        "numerical_imputed = pd.DataFrame(imputer.fit_transform(numerical), columns=numerical.columns)"
      ],
      "metadata": {
        "id": "9kWs7UA3aPXU"
      },
      "execution_count": null,
      "outputs": []
    },
    {
      "cell_type": "code",
      "source": [
        "from sklearn.preprocessing import LabelEncoder\n",
        "label_encoder = LabelEncoder()\n",
        "\n",
        "# Iterate over each string column and apply label encoding\n",
        "for column in string_columns:\n",
        "    categorical[column] = label_encoder.fit_transform(categorical[column])"
      ],
      "metadata": {
        "id": "HgKMJNbXcP8S"
      },
      "execution_count": null,
      "outputs": []
    },
    {
      "cell_type": "code",
      "source": [
        "# Removing variables of interest from training data after their missing values have been imputed\n",
        "selected_columns = categorical.loc[:,categorical.columns.str.startswith('m2b25a')]\n",
        "categorical = categorical.drop(selected_columns.columns, axis=1)"
      ],
      "metadata": {
        "id": "4ZXxDbh3_6U7"
      },
      "execution_count": null,
      "outputs": []
    },
    {
      "cell_type": "code",
      "source": [
        "cat_columns = categorical.columns\n",
        "one_hot = pd.get_dummies(categorical, columns=cat_columns)\n",
        "result = pd.concat([numerical_imputed, one_hot], axis=1)\n",
        "result = result.dropna(axis='columns')"
      ],
      "metadata": {
        "id": "eci0UmothRzW"
      },
      "execution_count": null,
      "outputs": []
    },
    {
      "cell_type": "code",
      "source": [
        "train_ids = outcomes_df.challengeID.values.tolist()\n",
        "X_train = result[result['challengeID'].isin(train_ids)]\n",
        "y_train = outcomes_df.copy()"
      ],
      "metadata": {
        "id": "SN5yKmnj2U5D"
      },
      "execution_count": null,
      "outputs": []
    },
    {
      "cell_type": "code",
      "source": [
        "from sklearn.experimental import enable_iterative_imputer\n",
        "from sklearn.impute import IterativeImputer\n",
        "from sklearn.ensemble import RandomForestRegressor, RandomForestClassifier\n",
        "imp_num = IterativeImputer(estimator=RandomForestRegressor(),\n",
        "                               initial_strategy='mean',\n",
        "                               max_iter=10, random_state=0)\n",
        "imp_cat = IterativeImputer(estimator=RandomForestClassifier(),\n",
        "                               initial_strategy='most_frequent',\n",
        "                               max_iter=10, random_state=0)"
      ],
      "metadata": {
        "id": "2dTlFIzfhG-6"
      },
      "execution_count": null,
      "outputs": []
    },
    {
      "cell_type": "code",
      "source": [
        "# Define a function to replace specific values\n",
        "def replace_values(x):\n",
        "    return x.replace([-9, -6, -2], -1)\n",
        "\n",
        "# Apply the function to each column\n",
        "selected_columns = selected_columns.apply(replace_values)"
      ],
      "metadata": {
        "id": "9uJUks1O4hEn"
      },
      "execution_count": null,
      "outputs": []
    },
    {
      "cell_type": "code",
      "source": [
        "# Define a function to replace specific values\n",
        "def replace_values(x):\n",
        "    return x.replace([2], 0)\n",
        "\n",
        "# Apply the function to each column\n",
        "selected_columns = selected_columns.apply(replace_values)"
      ],
      "metadata": {
        "id": "CL8AVMAD5GtG"
      },
      "execution_count": null,
      "outputs": []
    },
    {
      "cell_type": "code",
      "source": [
        "selected_columns['challengeID'] = X_train['challengeID']"
      ],
      "metadata": {
        "id": "OdyK1ILsjFSU"
      },
      "execution_count": null,
      "outputs": []
    },
    {
      "cell_type": "markdown",
      "source": [
        "## Lasso"
      ],
      "metadata": {
        "id": "KRfzOLCHKqZ_"
      }
    },
    {
      "cell_type": "code",
      "source": [
        "from sklearn.linear_model import Lasso\n",
        "from sklearn.model_selection import train_test_split\n",
        "from sklearn.model_selection import GridSearchCV, KFold"
      ],
      "metadata": {
        "id": "bT1-nq3oK_ku"
      },
      "execution_count": null,
      "outputs": []
    },
    {
      "cell_type": "code",
      "source": [
        "X_train.set_index('challengeID', inplace=True)"
      ],
      "metadata": {
        "id": "M5N6wX0tm2Xw"
      },
      "execution_count": null,
      "outputs": []
    },
    {
      "cell_type": "code",
      "source": [
        "y_train.set_index('challengeID', inplace=True)"
      ],
      "metadata": {
        "id": "M8ARts3en2Nt"
      },
      "execution_count": null,
      "outputs": []
    },
    {
      "cell_type": "code",
      "source": [
        "X_train, X_test, y_train, y_test = train_test_split(X_train, y_train, test_size=0.30, random_state=42)\n",
        "X_val, X_test, y_val, y_test = train_test_split(X_train, y_train, test_size=0.50, random_state=42)"
      ],
      "metadata": {
        "id": "P9m-6w0gKsBa"
      },
      "execution_count": null,
      "outputs": []
    },
    {
      "cell_type": "code",
      "source": [
        "from sklearn.linear_model import Lasso\n",
        "from sklearn.model_selection import train_test_split\n",
        "from sklearn.model_selection import GridSearchCV, KFold\n",
        "\n",
        "# parameters to be tested on GridSearchCV\n",
        "#params = {\"alpha\":np.arange(0.00001, 10, 500)}\n",
        "\n",
        "# Number of Folds and adding the random state for replication\n",
        "#kf=KFold(n_splits=5,shuffle=True, random_state=42)\n",
        "\n",
        "# Initializing the Model\n",
        "#lasso = Lasso()\n",
        "\n",
        "# GridSearchCV with model, params and folds.\n",
        "#lasso_cv=GridSearchCV(lasso, param_grid=params, cv=kf)\n",
        "#lasso_cv.fit(X_train, y_train)\n",
        "#print(\"Best Params {}\".format(lasso_cv.best_params_))"
      ],
      "metadata": {
        "id": "gJw1B1EZK4n3"
      },
      "execution_count": null,
      "outputs": []
    },
    {
      "cell_type": "code",
      "source": [
        "# calling the model with the best parameter\n",
        "not_missing_indices = ~y_train['gpa'].isnull()\n",
        "X_train_filtered = X_train[not_missing_indices]\n",
        "y_train_filtered = y_train['gpa'][not_missing_indices]\n",
        "\n",
        "lasso1 = Lasso(alpha=0.00001)\n",
        "lasso1.fit(X_train_filtered, y_train_filtered)\n",
        "\n",
        "# Using np.abs() to make coefficients positive.\n",
        "lasso1_coef = np.abs(lasso1.coef_)\n",
        "\n",
        "names=X_train.columns\n",
        "\n",
        "# Subsetting the features which has more than 0.001 importance.\n",
        "feature_subset=np.array(names)[lasso1_coef>0.001]"
      ],
      "metadata": {
        "id": "Npdvkws9TPU3",
        "colab": {
          "base_uri": "https://localhost:8080/"
        },
        "outputId": "43a2cb27-b45d-4222-ee48-fde971ac2147"
      },
      "execution_count": null,
      "outputs": [
        {
          "output_type": "stream",
          "name": "stderr",
          "text": [
            "/usr/local/lib/python3.10/dist-packages/sklearn/linear_model/_coordinate_descent.py:631: ConvergenceWarning: Objective did not converge. You might want to increase the number of iterations, check the scale of the features or consider increasing regularisation. Duality gap: 2.168e-01, tolerance: 3.626e-02\n",
            "  model = cd_fast.enet_coordinate_descent(\n"
          ]
        }
      ]
    },
    {
      "cell_type": "code",
      "source": [
        "X_train = X_train[feature_subset]\n",
        "X_val = X_val[feature_subset]\n",
        "X_test = X_test[feature_subset]"
      ],
      "metadata": {
        "id": "PNSzzlwbe1uw"
      },
      "execution_count": null,
      "outputs": []
    },
    {
      "cell_type": "markdown",
      "source": [
        "### Mutual Information Selection"
      ],
      "metadata": {
        "id": "MhHxNTRxXFGN"
      }
    },
    {
      "cell_type": "code",
      "source": [
        "from sklearn.feature_selection import mutual_info_regression\n",
        "not_missing_indices = ~y_train['gpa'].isnull()\n",
        "X_train_filtered = X_train[not_missing_indices]\n",
        "y_train_filtered = y_train['gpa'][not_missing_indices]\n",
        "\n",
        "mutual_info = mutual_info_regression(X_train_filtered, y_train_filtered)\n",
        "\n",
        "mutual_info = pd.Series(mutual_info)\n",
        "mutual_info.index = X_train.columns\n",
        "mutual_info.sort_values(ascending=False)"
      ],
      "metadata": {
        "colab": {
          "base_uri": "https://localhost:8080/"
        },
        "id": "aW97rkGQXHFN",
        "outputId": "c05e7805-ba1f-40e1-988f-3b38ff765800"
      },
      "execution_count": null,
      "outputs": [
        {
          "output_type": "execute_result",
          "data": {
            "text/plain": [
              "m1a11d_2      0.090167\n",
              "cm2alvf       0.089672\n",
              "ch5wj10ss     0.089296\n",
              "ch5wj10raw    0.084860\n",
              "f4k21         0.081421\n",
              "                ...   \n",
              "f4i2_2        0.000000\n",
              "f4i23p3_3     0.000000\n",
              "f4i23p5_1     0.000000\n",
              "f4i23p6_3     0.000000\n",
              "cf5povca_4    0.000000\n",
              "Length: 2013, dtype: float64"
            ]
          },
          "metadata": {},
          "execution_count": 25
        }
      ]
    },
    {
      "cell_type": "code",
      "source": [
        "from sklearn.feature_selection import SelectPercentile\n",
        "\n",
        "selected_top_columns = SelectPercentile(mutual_info_regression, percentile=1)\n",
        "selected_top_columns.fit(X_train_filtered, y_train_filtered)\n",
        "selected_top_columns.get_support()"
      ],
      "metadata": {
        "colab": {
          "base_uri": "https://localhost:8080/"
        },
        "id": "HgSLCyDJg75N",
        "outputId": "62b547f6-338e-4af1-fe9e-a707b95e5177"
      },
      "execution_count": null,
      "outputs": [
        {
          "output_type": "execute_result",
          "data": {
            "text/plain": [
              "array([False, False, False, ..., False, False, False])"
            ]
          },
          "metadata": {},
          "execution_count": 27
        }
      ]
    },
    {
      "cell_type": "code",
      "source": [
        "columns = X_train.columns[selected_top_columns.get_support()]\n",
        "X_train = X_train[columns]\n",
        "X_val = X_val[columns]\n",
        "X_test = X_test[columns]"
      ],
      "metadata": {
        "id": "icUlq0n-hCbT"
      },
      "execution_count": null,
      "outputs": []
    },
    {
      "cell_type": "code",
      "source": [
        "X_train = pd.merge(X_train, selected_columns, how='left', left_index=True, right_on = 'challengeID')\n",
        "X_train.reset_index(drop=True, inplace=True)\n",
        "X_val = pd.merge(X_val, selected_columns, how='left', left_index=True, right_on = 'challengeID')\n",
        "X_val.reset_index(drop=True, inplace=True)\n",
        "X_test = pd.merge(X_test, selected_columns, how='left', left_index=True, right_on = 'challengeID')\n",
        "X_test.reset_index(drop=True, inplace=True)"
      ],
      "metadata": {
        "id": "zor9UI-UlvlN"
      },
      "execution_count": null,
      "outputs": []
    },
    {
      "cell_type": "code",
      "source": [
        "X_train.drop(columns=['challengeID'], inplace=True)\n",
        "X_val.drop(columns=['challengeID'], inplace=True)\n",
        "X_test.drop(columns=['challengeID'], inplace=True)"
      ],
      "metadata": {
        "id": "iwSOYKetqFuZ"
      },
      "execution_count": null,
      "outputs": []
    },
    {
      "cell_type": "code",
      "source": [
        "y_train.reset_index(drop=True, inplace=True)\n",
        "y_val.reset_index(drop=True, inplace=True)\n",
        "y_test.reset_index(drop=True, inplace=True)"
      ],
      "metadata": {
        "id": "pcXO7Y_pqSb6"
      },
      "execution_count": null,
      "outputs": []
    },
    {
      "cell_type": "markdown",
      "source": [
        "## Model Testing - Continuous"
      ],
      "metadata": {
        "id": "sIZhvUXnvX--"
      }
    },
    {
      "cell_type": "markdown",
      "source": [
        "### Linear Regression"
      ],
      "metadata": {
        "id": "_BsKzDSAiGQM"
      }
    },
    {
      "cell_type": "code",
      "source": [
        "import pandas as pd\n",
        "from sklearn.impute import SimpleImputer\n",
        "from sklearn.preprocessing import StandardScaler\n",
        "from sklearn.model_selection import train_test_split, RandomizedSearchCV, cross_val_score\n",
        "from sklearn.linear_model import LinearRegression\n",
        "from sklearn.metrics import mean_squared_error\n",
        "from scipy.stats import uniform"
      ],
      "metadata": {
        "id": "GdHQeSbKme3V"
      },
      "execution_count": null,
      "outputs": []
    },
    {
      "cell_type": "code",
      "source": [
        "for col in outcomes_df.columns[1:4]:\n",
        "\n",
        "  model = LinearRegression(copy_X=False)\n",
        "  param_distributions = {'fit_intercept': [True, False], 'positive': [True, False],\n",
        "                       'copy_X': [True, False], 'n_jobs': [1, 2, 3, 4, -1]}\n",
        "\n",
        "  not_missing_indices = ~y_train[col].isnull()\n",
        "  X_train_filtered = X_train[not_missing_indices]\n",
        "  y_train_filtered = y_train[col][not_missing_indices]\n",
        "\n",
        "  not_missing_val = ~y_val[col].isnull()\n",
        "  X_val_filtered = X_val[not_missing_val]\n",
        "  y_val_filtered = y_val[col][not_missing_val]\n",
        "\n",
        "  random_search = RandomizedSearchCV(model, param_distributions, cv=5, scoring='neg_mean_squared_error', n_iter=5)\n",
        "  random_search.fit(X_train_filtered, y_train_filtered)\n",
        "\n",
        "  best_lin = random_search.best_estimator_\n",
        "  score = cross_val_score(best_lin,X_val_filtered,y_val_filtered,cv=10)\n",
        "\n",
        "  print(f\"{col}: {np.mean(abs(score))}\")"
      ],
      "metadata": {
        "colab": {
          "base_uri": "https://localhost:8080/"
        },
        "id": "v6Ps5StckS5M",
        "outputId": "e0a11f07-2b10-4b89-de50-3a4b4523c9aa"
      },
      "execution_count": null,
      "outputs": [
        {
          "output_type": "stream",
          "name": "stdout",
          "text": [
            "gpa: 0.10303470606607654\n",
            "grit: 0.03035041100955498\n",
            "materialHardship: 0.10846354251817014\n"
          ]
        }
      ]
    },
    {
      "cell_type": "markdown",
      "source": [
        "### XGBoost"
      ],
      "metadata": {
        "id": "eqjgThMF8ALM"
      }
    },
    {
      "cell_type": "code",
      "source": [
        "X_train.columns = X_train.columns.str.replace(r'[^a-zA-Z0-9]', '_')\n",
        "X_val.columns = X_val.columns.str.replace(r'[^a-zA-Z0-9]', '_')\n",
        "X_test.columns = X_test.columns.str.replace(r'[^a-zA-Z0-9]', '_')"
      ],
      "metadata": {
        "id": "ElyLHJKelcyH"
      },
      "execution_count": null,
      "outputs": []
    },
    {
      "cell_type": "code",
      "source": [
        "from sklearn.model_selection import RandomizedSearchCV\n",
        "import xgboost\n",
        "\n",
        "for col in outcomes_df.columns[1:4]:\n",
        "  xreg = xgboost.XGBRegressor()\n",
        "\n",
        "  params = {\n",
        "  'learning_rate': [0.05,0.10,0.15,0.20,0.25,0.30],\n",
        "  'max_depth': [ 3, 4, 5, 6, 8, 10, 12, 15],\n",
        "  'min_child_weight': [ 1, 3, 5, 7 ],\n",
        "  'gamma': [ 0.0, 0.1, 0.2 , 0.3, 0.4 ],\n",
        "  'colsample_bytree': [ 0.3, 0.4, 0.5 , 0.7 ]\n",
        "  }\n",
        "\n",
        "  not_missing_indices = ~y_train[col].isnull()\n",
        "  X_train_filtered = X_train[not_missing_indices]\n",
        "  y_train_filtered = y_train[col][not_missing_indices]\n",
        "\n",
        "  not_missing_val = ~y_val[col].isnull()\n",
        "  X_val_filtered = X_val[not_missing_val]\n",
        "  y_val_filtered = y_val[col][not_missing_val]\n",
        "\n",
        "  rs_model=RandomizedSearchCV(xreg,param_distributions=params,n_iter=5,scoring='neg_mean_squared_error',n_jobs=-1,cv=5,verbose=3)\n",
        "  rs_model.fit(X_train_filtered,y_train_filtered)\n",
        "\n",
        "  regressor=rs_model.best_estimator_\n",
        "  score=cross_val_score(regressor,X_val_filtered,y_val_filtered,cv=10)\n",
        "\n",
        "  print(f\"{col}: {np.mean(abs(score))}\")"
      ],
      "metadata": {
        "colab": {
          "base_uri": "https://localhost:8080/"
        },
        "id": "csO7uPQDrTcL",
        "outputId": "f0faafc3-eec3-4a18-b5ae-0b9463680c99"
      },
      "execution_count": null,
      "outputs": [
        {
          "output_type": "stream",
          "name": "stdout",
          "text": [
            "Fitting 5 folds for each of 5 candidates, totalling 25 fits\n",
            "gpa: 0.12116728049251677\n",
            "Fitting 5 folds for each of 5 candidates, totalling 25 fits\n",
            "grit: 0.1013684868007119\n",
            "Fitting 5 folds for each of 5 candidates, totalling 25 fits\n",
            "materialHardship: 0.026401149085138464\n"
          ]
        }
      ]
    },
    {
      "cell_type": "markdown",
      "source": [
        "### Random Forest"
      ],
      "metadata": {
        "id": "U6q1m5Ny8T5N"
      }
    },
    {
      "cell_type": "code",
      "source": [
        "from sklearn.model_selection import RandomizedSearchCV\n",
        "from sklearn.ensemble import RandomForestRegressor\n",
        "\n",
        "for col in outcomes_df.columns[1:4]:\n",
        "  rf = RandomForestRegressor(random_state = 42)\n",
        "\n",
        "  # Number of trees in random forest\n",
        "  n_estimators = [int(x) for x in np.linspace(start = 200, stop = 2000, num = 10)]\n",
        "  # Number of features to consider at every split\n",
        "  max_features = ['auto', 'sqrt']\n",
        "  # Maximum number of levels in tree\n",
        "  max_depth = [int(x) for x in np.linspace(10, 110, num = 11)]\n",
        "  max_depth.append(None)\n",
        "  # Minimum number of samples required to split a node\n",
        "  min_samples_split = [2, 5, 10]\n",
        "  # Minimum number of samples required at each leaf node\n",
        "  min_samples_leaf = [1, 2, 4]\n",
        "  # Method of selecting samples for training each tree\n",
        "  bootstrap = [True, False]\n",
        "  # Create the random grid\n",
        "  random_grid = {'n_estimators': n_estimators,\n",
        "                'max_features': max_features,\n",
        "                'max_depth': max_depth,\n",
        "                'min_samples_split': min_samples_split,\n",
        "                'min_samples_leaf': min_samples_leaf,\n",
        "                'bootstrap': bootstrap}\n",
        "\n",
        "  not_missing_indices = ~y_train[col].isnull()\n",
        "  X_train_filtered = X_train[not_missing_indices]\n",
        "  y_train_filtered = y_train[col][not_missing_indices]\n",
        "\n",
        "  not_missing_val = ~y_val[col].isnull()\n",
        "  X_val_filtered = X_val[not_missing_val]\n",
        "  y_val_filtered = y_val[col][not_missing_val]\n",
        "\n",
        "  rf_random = RandomizedSearchCV(estimator = rf, param_distributions = random_grid, n_iter = 5, cv = 5, verbose=2, random_state=42, n_jobs = -1)\n",
        "  # Fit the random search model\n",
        "  rf_random.fit(X_train_filtered, y_train_filtered)\n",
        "\n",
        "  best_rf = rf_random.best_estimator_\n",
        "  score=cross_val_score(best_rf,X_val_filtered,y_val_filtered,cv=10)\n",
        "  print(f\"{col}: {np.mean(abs(score))}\")"
      ],
      "metadata": {
        "id": "-KKfert28Xbm",
        "colab": {
          "base_uri": "https://localhost:8080/"
        },
        "outputId": "9487a2e2-1bd8-4766-dd5f-80f66e2893ec"
      },
      "execution_count": null,
      "outputs": [
        {
          "output_type": "stream",
          "name": "stdout",
          "text": [
            "Fitting 5 folds for each of 5 candidates, totalling 25 fits\n",
            "gpa: 0.11001299088901648\n",
            "Fitting 5 folds for each of 5 candidates, totalling 25 fits\n",
            "grit: 0.05797968310034078\n",
            "Fitting 5 folds for each of 5 candidates, totalling 25 fits\n",
            "materialHardship: 0.03297796413002378\n"
          ]
        }
      ]
    },
    {
      "cell_type": "markdown",
      "source": [
        "## Model Testing - Categorical"
      ],
      "metadata": {
        "id": "cghxiwEZ-uGK"
      }
    },
    {
      "cell_type": "code",
      "source": [
        "merged_df = X_train.join(y_train)"
      ],
      "metadata": {
        "id": "rcklsSsNqDf1"
      },
      "execution_count": null,
      "outputs": []
    },
    {
      "cell_type": "code",
      "source": [
        "# Upsample class 'B' to have the same number of rows as class 'A'\n",
        "not_missing_indices = ~merged_df['eviction'].isnull()\n",
        "merged_df_filtered = merged_df['eviction'][not_missing_indices]\n",
        "\n",
        "upsampled_class_1_evic = merged_df[merged_df['eviction'] == 1.0].sample(n=merged_df['eviction'].value_counts()[0.0], replace=True)\n",
        "\n",
        "# Concatenate original DataFrame with upsampled class 'B'\n",
        "upsampled_df_evic = pd.concat([merged_df[merged_df['eviction'] == 0.0], upsampled_class_1_evic], ignore_index=True)\n",
        "X_train_evic = upsampled_df_evic.iloc[:,:-6]\n",
        "Y_train_evic = upsampled_df_evic.iloc[:,-6:]"
      ],
      "metadata": {
        "id": "txvz8MjLjz6e"
      },
      "execution_count": null,
      "outputs": []
    },
    {
      "cell_type": "code",
      "source": [
        "# Upsample class 'B' to have the same number of rows as class 'A'\n",
        "not_missing_indices = ~merged_df['layoff'].isnull()\n",
        "merged_df_filtered = merged_df['layoff'][not_missing_indices]\n",
        "\n",
        "upsampled_class_1_layoff = merged_df[merged_df['layoff'] == 1.0].sample(n=merged_df['layoff'].value_counts()[0.0], replace=True)\n",
        "\n",
        "# Concatenate original DataFrame with upsampled class 'B'\n",
        "upsampled_df_layoff = pd.concat([merged_df[merged_df['layoff'] == 0.0], upsampled_class_1_layoff], ignore_index=True)\n",
        "X_train_layoff = upsampled_df_layoff.iloc[:,:-6]\n",
        "Y_train_layoff = upsampled_df_layoff.iloc[:,-6:]"
      ],
      "metadata": {
        "id": "pCPYtMmakCRy"
      },
      "execution_count": null,
      "outputs": []
    },
    {
      "cell_type": "code",
      "source": [
        "# Upsample class 'B' to have the same number of rows as class 'A'\n",
        "not_missing_indices = ~merged_df['jobTraining'].isnull()\n",
        "merged_df_filtered = merged_df['jobTraining'][not_missing_indices]\n",
        "\n",
        "upsampled_class_1_job = merged_df[merged_df['jobTraining'] == 1.0].sample(n=merged_df['jobTraining'].value_counts()[0.0], replace=True)\n",
        "\n",
        "# Concatenate original DataFrame with upsampled class 'B'\n",
        "upsampled_df_job = pd.concat([merged_df[merged_df['jobTraining'] == 0.0], upsampled_class_1_job], ignore_index=True)\n",
        "X_train_job = upsampled_df_job.iloc[:,:-6]\n",
        "Y_train_job = upsampled_df_job.iloc[:,-6:]"
      ],
      "metadata": {
        "id": "HXi6Zcv3kCp7"
      },
      "execution_count": null,
      "outputs": []
    },
    {
      "cell_type": "markdown",
      "source": [
        "### Logistic Regression"
      ],
      "metadata": {
        "id": "hu8IxZiB-zSj"
      }
    },
    {
      "cell_type": "code",
      "source": [
        "import matplotlib.pyplot as plt\n",
        "import numpy as np\n",
        "from sklearn.linear_model import LogisticRegression\n",
        "from sklearn.metrics import classification_report, confusion_matrix"
      ],
      "metadata": {
        "id": "xdEOEF0_CPMj"
      },
      "execution_count": null,
      "outputs": []
    },
    {
      "cell_type": "code",
      "source": [
        "not_missing_test = ~y_test['eviction'].isnull()\n",
        "X_test_filtered = X_test[not_missing_test]\n",
        "y_test_filtered = y_test['eviction'][not_missing_test]\n",
        "\n",
        "model = LogisticRegression(solver='liblinear', random_state=0)\n",
        "model.fit(X_train_evic, Y_train_evic['eviction'])\n",
        "model.score(X_test_filtered, y_test_filtered)"
      ],
      "metadata": {
        "colab": {
          "base_uri": "https://localhost:8080/"
        },
        "id": "aZ2GlnxFCS7q",
        "outputId": "67b78e7b-f17e-46ce-cc41-7f5591d2d15d"
      },
      "execution_count": null,
      "outputs": [
        {
          "output_type": "execute_result",
          "data": {
            "text/plain": [
              "0.6468253968253969"
            ]
          },
          "metadata": {},
          "execution_count": 42
        }
      ]
    },
    {
      "cell_type": "code",
      "source": [
        "not_missing_test = ~y_test['layoff'].isnull()\n",
        "X_test_filtered = X_test[not_missing_test]\n",
        "y_test_filtered = y_test['layoff'][not_missing_test]\n",
        "\n",
        "model = LogisticRegression(solver='liblinear', random_state=0)\n",
        "model.fit(X_train_layoff, Y_train_layoff['layoff'])\n",
        "model.score(X_test_filtered, y_test_filtered)"
      ],
      "metadata": {
        "colab": {
          "base_uri": "https://localhost:8080/"
        },
        "id": "38f50vhv9ZP_",
        "outputId": "c3b33495-cc8f-4bee-b7a2-f7f3bed8190e"
      },
      "execution_count": null,
      "outputs": [
        {
          "output_type": "execute_result",
          "data": {
            "text/plain": [
              "0.5351473922902494"
            ]
          },
          "metadata": {},
          "execution_count": 43
        }
      ]
    },
    {
      "cell_type": "code",
      "source": [
        "not_missing_test = ~y_test['jobTraining'].isnull()\n",
        "X_test_filtered = X_test[not_missing_test]\n",
        "y_test_filtered = y_test['jobTraining'][not_missing_test]\n",
        "\n",
        "model = LogisticRegression(solver='liblinear', random_state=0)\n",
        "model.fit(X_train_job, Y_train_job['jobTraining'])\n",
        "model.score(X_test_filtered, y_test_filtered)"
      ],
      "metadata": {
        "colab": {
          "base_uri": "https://localhost:8080/"
        },
        "id": "9YA2w9cYBPCb",
        "outputId": "704a23bc-8363-4ea1-aa8a-dfe3f7b2858c"
      },
      "execution_count": null,
      "outputs": [
        {
          "output_type": "execute_result",
          "data": {
            "text/plain": [
              "0.6099009900990099"
            ]
          },
          "metadata": {},
          "execution_count": 44
        }
      ]
    },
    {
      "cell_type": "markdown",
      "source": [
        "### XGBoost"
      ],
      "metadata": {
        "id": "EUWJ5YVZ-0vD"
      }
    },
    {
      "cell_type": "code",
      "source": [
        "from sklearn.model_selection import RandomizedSearchCV\n",
        "import xgboost\n",
        "from sklearn.model_selection import RandomizedSearchCV\n",
        "from sklearn.ensemble import RandomForestClassifier"
      ],
      "metadata": {
        "id": "tbJfGTcgmgG-"
      },
      "execution_count": null,
      "outputs": []
    },
    {
      "cell_type": "code",
      "source": [
        "xreg = xgboost.XGBClassifier()\n",
        "\n",
        "params = {\n",
        "'learning_rate': [0.05,0.10,0.15,0.20,0.25,0.30],\n",
        "'max_depth': [ 3, 4, 5, 6, 8, 10, 12, 15],\n",
        "'min_child_weight': [ 1, 3, 5, 7 ],\n",
        "'gamma': [ 0.0, 0.1, 0.2 , 0.3, 0.4 ],\n",
        "'colsample_bytree': [ 0.3, 0.4, 0.5 , 0.7 ]\n",
        "}\n",
        "\n",
        "not_missing_val = ~y_val['eviction'].isnull()\n",
        "X_val_filtered = X_val[not_missing_val]\n",
        "y_val_filtered = y_val['eviction'][not_missing_val]\n",
        "\n",
        "rs_model=RandomizedSearchCV(xreg,param_distributions=params,n_iter=5,scoring='roc_auc',n_jobs=-1,cv=5,verbose=3)\n",
        "rs_model.fit(X_train_evic,Y_train_evic['eviction'])\n",
        "\n",
        "classifier=rs_model.best_estimator_\n",
        "score=cross_val_score(classifier,X_val_filtered,y_val_filtered,cv=10)\n",
        "\n",
        "print(f\"{np.mean(abs(score))}\")"
      ],
      "metadata": {
        "colab": {
          "base_uri": "https://localhost:8080/"
        },
        "id": "asQSpZ7O-3iw",
        "outputId": "4410b5b7-1cff-4fd8-8e64-c6978016a5ef"
      },
      "execution_count": null,
      "outputs": [
        {
          "output_type": "stream",
          "name": "stdout",
          "text": [
            "Fitting 5 folds for each of 5 candidates, totalling 25 fits\n",
            "0.9610105580693815\n"
          ]
        }
      ]
    },
    {
      "cell_type": "code",
      "source": [
        "xreg = xgboost.XGBClassifier()\n",
        "\n",
        "params = {\n",
        "'learning_rate': [0.05,0.10,0.15,0.20,0.25,0.30],\n",
        "'max_depth': [ 3, 4, 5, 6, 8, 10, 12, 15],\n",
        "'min_child_weight': [ 1, 3, 5, 7 ],\n",
        "'gamma': [ 0.0, 0.1, 0.2 , 0.3, 0.4 ],\n",
        "'colsample_bytree': [ 0.3, 0.4, 0.5 , 0.7 ]\n",
        "}\n",
        "\n",
        "not_missing_val = ~y_val['layoff'].isnull()\n",
        "X_val_filtered = X_val[not_missing_val]\n",
        "y_val_filtered = y_val['layoff'][not_missing_val]\n",
        "\n",
        "rs_model=RandomizedSearchCV(xreg,param_distributions=params,n_iter=5,scoring='roc_auc',n_jobs=-1,cv=5,verbose=3)\n",
        "rs_model.fit(X_train_layoff,Y_train_layoff['layoff'])\n",
        "\n",
        "classifier=rs_model.best_estimator_\n",
        "score=cross_val_score(classifier,X_val_filtered,y_val_filtered,cv=10)\n",
        "\n",
        "print(f\"{np.mean(abs(score))}\")"
      ],
      "metadata": {
        "colab": {
          "base_uri": "https://localhost:8080/"
        },
        "id": "kjTXTKdeBTlj",
        "outputId": "26366130-b9d7-4e6b-85ff-d4b90401da9f"
      },
      "execution_count": null,
      "outputs": [
        {
          "output_type": "stream",
          "name": "stdout",
          "text": [
            "Fitting 5 folds for each of 5 candidates, totalling 25 fits\n",
            "0.7329951690821256\n"
          ]
        }
      ]
    },
    {
      "cell_type": "code",
      "source": [
        "xreg = xgboost.XGBClassifier()\n",
        "\n",
        "params = {\n",
        "'learning_rate': [0.05,0.10,0.15,0.20,0.25,0.30],\n",
        "'max_depth': [ 3, 4, 5, 6, 8, 10, 12, 15],\n",
        "'min_child_weight': [ 1, 3, 5, 7 ],\n",
        "'gamma': [ 0.0, 0.1, 0.2 , 0.3, 0.4 ],\n",
        "'colsample_bytree': [ 0.3, 0.4, 0.5 , 0.7 ]\n",
        "}\n",
        "\n",
        "not_missing_val = ~y_val['jobTraining'].isnull()\n",
        "X_val_filtered = X_val[not_missing_val]\n",
        "y_val_filtered = y_val['jobTraining'][not_missing_val]\n",
        "\n",
        "rs_model=RandomizedSearchCV(xreg,param_distributions=params,n_iter=5,scoring='roc_auc',n_jobs=-1,cv=5,verbose=3)\n",
        "rs_model.fit(X_train_job,Y_train_job['jobTraining'])\n",
        "\n",
        "classifier=rs_model.best_estimator_\n",
        "score=cross_val_score(classifier,X_val_filtered,y_val_filtered,cv=10)\n",
        "\n",
        "print(f\"{np.mean(abs(score))}\")"
      ],
      "metadata": {
        "colab": {
          "base_uri": "https://localhost:8080/"
        },
        "id": "gZT4MZBhBT9U",
        "outputId": "4e7035aa-f666-401a-b39a-402c261ce472"
      },
      "execution_count": null,
      "outputs": [
        {
          "output_type": "stream",
          "name": "stdout",
          "text": [
            "Fitting 5 folds for each of 5 candidates, totalling 25 fits\n",
            "0.6861613876319759\n"
          ]
        }
      ]
    },
    {
      "cell_type": "markdown",
      "source": [
        "### Random Forest"
      ],
      "metadata": {
        "id": "XxDZB52e-3GH"
      }
    },
    {
      "cell_type": "code",
      "source": [
        "rf = RandomForestClassifier(random_state = 42)\n",
        "\n",
        "# Number of trees in random forest\n",
        "n_estimators = [int(x) for x in np.linspace(start = 200, stop = 2000, num = 10)]\n",
        "# Maximum number of levels in tree\n",
        "max_depth = [int(x) for x in np.linspace(10, 110, num = 11)]\n",
        "max_depth.append(None)\n",
        "# Minimum number of samples required to split a node\n",
        "min_samples_split = [2, 5, 10]\n",
        "# Minimum number of samples required at each leaf node\n",
        "min_samples_leaf = [1, 2, 4]\n",
        "# Method of selecting samples for training each tree\n",
        "bootstrap = [True, False]\n",
        "# Create the random grid\n",
        "random_grid = {'n_estimators': n_estimators,\n",
        "              'max_depth': max_depth,\n",
        "              'min_samples_split': min_samples_split,\n",
        "              'min_samples_leaf': min_samples_leaf,\n",
        "              'bootstrap': bootstrap}\n",
        "\n",
        "not_missing_val = ~y_val['eviction'].isnull()\n",
        "X_val_filtered = X_val[not_missing_val]\n",
        "y_val_filtered = y_val['eviction'][not_missing_val]\n",
        "\n",
        "rf_random = RandomizedSearchCV(estimator = rf, param_distributions = random_grid, n_iter = 5, cv = 5, verbose=2, random_state=42, n_jobs = -1)\n",
        "# Fit the random search model\n",
        "rf_random.fit(X_train_evic, Y_train_evic['eviction'])\n",
        "\n",
        "best_rf = rf_random.best_estimator_\n",
        "score=cross_val_score(best_rf,X_val_filtered, y_val_filtered,cv=10)\n",
        "print(f\"{np.mean(abs(score))}\")"
      ],
      "metadata": {
        "id": "1XsZHi9n-v7p",
        "colab": {
          "base_uri": "https://localhost:8080/"
        },
        "outputId": "9f5b2e56-d157-4dd0-d5d6-6a3037b4b227"
      },
      "execution_count": null,
      "outputs": [
        {
          "output_type": "stream",
          "name": "stdout",
          "text": [
            "Fitting 5 folds for each of 5 candidates, totalling 25 fits\n",
            "0.9610105580693815\n"
          ]
        }
      ]
    },
    {
      "cell_type": "code",
      "source": [
        "rf = RandomForestClassifier(random_state = 42)\n",
        "\n",
        "# Number of trees in random forest\n",
        "n_estimators = [int(x) for x in np.linspace(start = 200, stop = 2000, num = 10)]\n",
        "# Maximum number of levels in tree\n",
        "max_depth = [int(x) for x in np.linspace(10, 110, num = 11)]\n",
        "max_depth.append(None)\n",
        "# Minimum number of samples required to split a node\n",
        "min_samples_split = [2, 5, 10]\n",
        "# Minimum number of samples required at each leaf node\n",
        "min_samples_leaf = [1, 2, 4]\n",
        "# Method of selecting samples for training each tree\n",
        "bootstrap = [True, False]\n",
        "# Create the random grid\n",
        "random_grid = {'n_estimators': n_estimators,\n",
        "              'max_depth': max_depth,\n",
        "              'min_samples_split': min_samples_split,\n",
        "              'min_samples_leaf': min_samples_leaf,\n",
        "              'bootstrap': bootstrap}\n",
        "\n",
        "not_missing_val = ~y_val['layoff'].isnull()\n",
        "X_val_filtered = X_val[not_missing_val]\n",
        "y_val_filtered = y_val['layoff'][not_missing_val]\n",
        "\n",
        "rf_random = RandomizedSearchCV(estimator = rf, param_distributions = random_grid, n_iter = 5, cv = 5, verbose=2, random_state=42, n_jobs = -1)\n",
        "# Fit the random search model\n",
        "rf_random.fit(X_train_layoff, Y_train_layoff['layoff'])\n",
        "\n",
        "best_rf = rf_random.best_estimator_\n",
        "score=cross_val_score(best_rf,X_val_filtered, y_val_filtered,cv=10)\n",
        "print(f\"{np.mean(abs(score))}\")"
      ],
      "metadata": {
        "colab": {
          "base_uri": "https://localhost:8080/"
        },
        "id": "ZGaeaOhLBkwR",
        "outputId": "a908ee74-63d2-4bb8-b52b-e389596303bc"
      },
      "execution_count": null,
      "outputs": [
        {
          "output_type": "stream",
          "name": "stdout",
          "text": [
            "Fitting 5 folds for each of 5 candidates, totalling 25 fits\n",
            "0.7726086956521738\n"
          ]
        }
      ]
    },
    {
      "cell_type": "code",
      "source": [
        "rf = RandomForestClassifier(random_state = 42)\n",
        "\n",
        "# Number of trees in random forest\n",
        "n_estimators = [int(x) for x in np.linspace(start = 200, stop = 2000, num = 10)]\n",
        "# Maximum number of levels in tree\n",
        "max_depth = [int(x) for x in np.linspace(10, 110, num = 11)]\n",
        "max_depth.append(None)\n",
        "# Minimum number of samples required to split a node\n",
        "min_samples_split = [2, 5, 10]\n",
        "# Minimum number of samples required at each leaf node\n",
        "min_samples_leaf = [1, 2, 4]\n",
        "# Method of selecting samples for training each tree\n",
        "bootstrap = [True, False]\n",
        "# Create the random grid\n",
        "random_grid = {'n_estimators': n_estimators,\n",
        "              'max_depth': max_depth,\n",
        "              'min_samples_split': min_samples_split,\n",
        "              'min_samples_leaf': min_samples_leaf,\n",
        "              'bootstrap': bootstrap}\n",
        "\n",
        "not_missing_val = ~y_val['jobTraining'].isnull()\n",
        "X_val_filtered = X_val[not_missing_val]\n",
        "y_val_filtered = y_val['jobTraining'][not_missing_val]\n",
        "\n",
        "rf_random = RandomizedSearchCV(estimator = rf, param_distributions = random_grid, n_iter = 5, cv = 5, verbose=2, random_state=42, n_jobs = -1)\n",
        "# Fit the random search model\n",
        "rf_random.fit(X_train_job, Y_train_job['jobTraining'])\n",
        "\n",
        "best_rf = rf_random.best_estimator_\n",
        "score=cross_val_score(best_rf,X_val_filtered, y_val_filtered,cv=10)\n",
        "print(f\"{np.mean(abs(score))}\")"
      ],
      "metadata": {
        "colab": {
          "base_uri": "https://localhost:8080/"
        },
        "id": "0MZysqyiBlXU",
        "outputId": "dd9e22ff-0474-403a-e2a4-0833a6206e4b"
      },
      "execution_count": null,
      "outputs": [
        {
          "output_type": "stream",
          "name": "stdout",
          "text": [
            "Fitting 5 folds for each of 5 candidates, totalling 25 fits\n",
            "0.7173076923076923\n"
          ]
        }
      ]
    },
    {
      "cell_type": "markdown",
      "source": [
        "## Best Models"
      ],
      "metadata": {
        "id": "9VxBfr11DzUl"
      }
    },
    {
      "cell_type": "code",
      "source": [
        "## GPA\n",
        "from sklearn.metrics import mean_squared_error\n",
        "\n",
        "not_missing_train = ~y_train['gpa'].isnull()\n",
        "X_train_filtered = X_train[not_missing_train]\n",
        "y_train_filtered = y_train['gpa'][not_missing_train]\n",
        "\n",
        "not_missing_val = ~y_val['gpa'].isnull()\n",
        "X_val_filtered = X_val[not_missing_val]\n",
        "y_val_filtered = y_val['gpa'][not_missing_val]\n",
        "\n",
        "not_missing_test = ~y_test['gpa'].isnull()\n",
        "X_test_filtered = X_test[not_missing_test]\n",
        "y_test_filtered = y_test['gpa'][not_missing_test]\n",
        "\n",
        "xreg = xgboost.XGBRegressor()\n",
        "\n",
        "params = {\n",
        "'learning_rate': [0.05,0.10,0.15,0.20,0.25,0.30],\n",
        "'max_depth': [ 3, 4, 5, 6, 8, 10, 12, 15],\n",
        "'min_child_weight': [ 1, 3, 5, 7 ],\n",
        "'gamma': [ 0.0, 0.1, 0.2 , 0.3, 0.4 ],\n",
        "'colsample_bytree': [ 0.3, 0.4, 0.5 , 0.7 ]\n",
        "}\n",
        "\n",
        "rs_model=RandomizedSearchCV(xreg,param_distributions=params,n_iter=5,scoring='neg_mean_squared_error',n_jobs=-1,cv=5,verbose=3)\n",
        "rs_model.fit(X_train_filtered,y_train_filtered)\n",
        "\n",
        "gpa_best=rs_model.best_estimator_\n",
        "\n",
        "gpa_preds = gpa_best.predict(X_test_filtered)\n",
        "print(mean_squared_error(y_test_filtered, gpa_preds))"
      ],
      "metadata": {
        "colab": {
          "base_uri": "https://localhost:8080/"
        },
        "id": "zyoGjvneDy_a",
        "outputId": "225698c2-adcd-4f66-9057-f2a6eea4d507"
      },
      "execution_count": null,
      "outputs": [
        {
          "output_type": "stream",
          "name": "stdout",
          "text": [
            "Fitting 5 folds for each of 5 candidates, totalling 25 fits\n",
            "0.2678770110209365\n"
          ]
        }
      ]
    },
    {
      "cell_type": "code",
      "source": [
        "## Grit\n",
        "not_missing_train = ~y_train['grit'].isnull()\n",
        "X_train_filtered = X_train[not_missing_train]\n",
        "y_train_filtered = y_train['grit'][not_missing_train]\n",
        "\n",
        "not_missing_val = ~y_val['grit'].isnull()\n",
        "X_val_filtered = X_val[not_missing_val]\n",
        "y_val_filtered = y_val['grit'][not_missing_val]\n",
        "\n",
        "not_missing_test = ~y_test['grit'].isnull()\n",
        "X_test_filtered = X_test[not_missing_test]\n",
        "y_test_filtered = y_test['grit'][not_missing_test]\n",
        "\n",
        "rf = RandomForestRegressor(random_state = 42)\n",
        "\n",
        "# Number of trees in random forest\n",
        "n_estimators = [int(x) for x in np.linspace(start = 200, stop = 2000, num = 10)]\n",
        "# Number of features to consider at every split\n",
        "max_features = ['auto', 'sqrt']\n",
        "# Maximum number of levels in tree\n",
        "max_depth = [int(x) for x in np.linspace(10, 110, num = 11)]\n",
        "max_depth.append(None)\n",
        "# Minimum number of samples required to split a node\n",
        "min_samples_split = [2, 5, 10]\n",
        "# Minimum number of samples required at each leaf node\n",
        "min_samples_leaf = [1, 2, 4]\n",
        "# Method of selecting samples for training each tree\n",
        "bootstrap = [True, False]\n",
        "# Create the random grid\n",
        "random_grid = {'n_estimators': n_estimators,\n",
        "              'max_features': max_features,\n",
        "              'max_depth': max_depth,\n",
        "              'min_samples_split': min_samples_split,\n",
        "              'min_samples_leaf': min_samples_leaf,\n",
        "              'bootstrap': bootstrap}\n",
        "\n",
        "rf_random = RandomizedSearchCV(estimator = rf, param_distributions = random_grid, n_iter = 5, cv = 5, verbose=2, random_state=42, n_jobs = -1)\n",
        "# Fit the random search model\n",
        "rf_random.fit(X_train_filtered, y_train_filtered)\n",
        "\n",
        "grit_best=rs_model.best_estimator_\n",
        "\n",
        "grit_preds = grit_best.predict(X_test_filtered)\n",
        "print(mean_squared_error(y_test_filtered, grit_preds))"
      ],
      "metadata": {
        "colab": {
          "base_uri": "https://localhost:8080/"
        },
        "id": "SRvFfL6fErK8",
        "outputId": "59ea9d8f-0f34-471d-e6e4-608e478fc874"
      },
      "execution_count": null,
      "outputs": [
        {
          "output_type": "stream",
          "name": "stdout",
          "text": [
            "Fitting 5 folds for each of 5 candidates, totalling 25 fits\n",
            "0.6631946547289869\n"
          ]
        }
      ]
    },
    {
      "cell_type": "code",
      "source": [
        "## Hardship\n",
        "\n",
        "xreg = xgboost.XGBRegressor()\n",
        "\n",
        "params = {\n",
        "'learning_rate': [0.05,0.10,0.15,0.20,0.25,0.30],\n",
        "'max_depth': [ 3, 4, 5, 6, 8, 10, 12, 15],\n",
        "'min_child_weight': [ 1, 3, 5, 7 ],\n",
        "'gamma': [ 0.0, 0.1, 0.2 , 0.3, 0.4 ],\n",
        "'colsample_bytree': [ 0.3, 0.4, 0.5 , 0.7 ]\n",
        "}\n",
        "\n",
        "not_missing_train = ~y_train['materialHardship'].isnull()\n",
        "X_train_filtered = X_train[not_missing_train]\n",
        "y_train_filtered = y_train['materialHardship'][not_missing_train]\n",
        "\n",
        "not_missing_val = ~y_val['materialHardship'].isnull()\n",
        "X_val_filtered = X_val[not_missing_val]\n",
        "y_val_filtered = y_val['materialHardship'][not_missing_val]\n",
        "\n",
        "not_missing_test = ~y_test['materialHardship'].isnull()\n",
        "X_test_filtered = X_test[not_missing_test]\n",
        "y_test_filtered = y_test['materialHardship'][not_missing_test]\n",
        "\n",
        "rs_model=RandomizedSearchCV(xreg,param_distributions=params,n_iter=5,scoring='neg_mean_squared_error',n_jobs=-1,cv=5,verbose=3)\n",
        "rs_model.fit(X_train_filtered,y_train_filtered)\n",
        "\n",
        "hardship_best=rs_model.best_estimator_\n",
        "hardship_preds = hardship_best.predict(X_test_filtered)\n",
        "print(mean_squared_error(y_test_filtered, hardship_preds))"
      ],
      "metadata": {
        "colab": {
          "base_uri": "https://localhost:8080/"
        },
        "id": "TwXFa9KyEr0k",
        "outputId": "f87e164c-55f3-44f6-bff7-3ecdf8433aa8"
      },
      "execution_count": null,
      "outputs": [
        {
          "output_type": "stream",
          "name": "stdout",
          "text": [
            "Fitting 5 folds for each of 5 candidates, totalling 25 fits\n",
            "0.020895049542779685\n"
          ]
        }
      ]
    },
    {
      "cell_type": "code",
      "source": [
        "## Eviction\n",
        "xreg = xgboost.XGBClassifier()\n",
        "\n",
        "params = {\n",
        "'learning_rate': [0.05,0.10,0.15,0.20,0.25,0.30],\n",
        "'max_depth': [ 3, 4, 5, 6, 8, 10, 12, 15],\n",
        "'min_child_weight': [ 1, 3, 5, 7 ],\n",
        "'gamma': [ 0.0, 0.1, 0.2 , 0.3, 0.4 ],\n",
        "'colsample_bytree': [ 0.3, 0.4, 0.5 , 0.7 ]\n",
        "}\n",
        "not_missing_train = ~y_train['eviction'].isnull()\n",
        "X_train_filtered = X_train[not_missing_train]\n",
        "y_train_filtered = y_train['eviction'][not_missing_train]\n",
        "\n",
        "not_missing_test = ~y_test['eviction'].isnull()\n",
        "X_test_filtered = X_test[not_missing_test]\n",
        "y_test_filtered = y_test['eviction'][not_missing_test]\n",
        "\n",
        "rs_model=RandomizedSearchCV(xreg,param_distributions=params,n_iter=5,scoring='accuracy',n_jobs=-1,cv=5,verbose=3)\n",
        "rs_model.fit(X_train_filtered,y_train_filtered)\n",
        "\n",
        "best_evic=rs_model.best_estimator_"
      ],
      "metadata": {
        "colab": {
          "base_uri": "https://localhost:8080/"
        },
        "id": "g2pdN3oBEsnx",
        "outputId": "e76618d6-435f-4544-a185-cb712186cf63"
      },
      "execution_count": null,
      "outputs": [
        {
          "output_type": "stream",
          "name": "stdout",
          "text": [
            "Fitting 5 folds for each of 5 candidates, totalling 25 fits\n"
          ]
        }
      ]
    },
    {
      "cell_type": "code",
      "source": [
        "from sklearn.metrics import precision_recall_fscore_support\n",
        "from sklearn.metrics import accuracy_score\n",
        "evic_preds = best_evic.predict(X_test_filtered)\n",
        "\n",
        "print(accuracy_score(y_test_filtered, evic_preds))\n",
        "print(precision_recall_fscore_support(y_test_filtered, evic_preds, average='weighted'))"
      ],
      "metadata": {
        "colab": {
          "base_uri": "https://localhost:8080/"
        },
        "id": "xQUeTUqKVPkb",
        "outputId": "64f870a9-beb7-4cba-a12d-77369dace015"
      },
      "execution_count": null,
      "outputs": [
        {
          "output_type": "stream",
          "name": "stdout",
          "text": [
            "0.9285714285714286\n",
            "(0.933683612610054, 0.9285714285714286, 0.8960623207503295, None)\n"
          ]
        }
      ]
    },
    {
      "cell_type": "code",
      "source": [
        "from sklearn.metrics import classification_report\n",
        "print(classification_report(y_test_filtered, evic_preds, target_names=[\"No Eviction\",\"Eviction\"]))"
      ],
      "metadata": {
        "colab": {
          "base_uri": "https://localhost:8080/"
        },
        "id": "RhsDzqGJte6C",
        "outputId": "0717a835-8df3-4c46-b318-363b23e336c2"
      },
      "execution_count": null,
      "outputs": [
        {
          "output_type": "stream",
          "name": "stdout",
          "text": [
            "              precision    recall  f1-score   support\n",
            "\n",
            " No Eviction       0.93      1.00      0.96       467\n",
            "    Eviction       1.00      0.03      0.05        37\n",
            "\n",
            "    accuracy                           0.93       504\n",
            "   macro avg       0.96      0.51      0.51       504\n",
            "weighted avg       0.93      0.93      0.90       504\n",
            "\n"
          ]
        }
      ]
    },
    {
      "cell_type": "code",
      "source": [
        "## Layoff\n",
        "\n",
        "rf = RandomForestClassifier(random_state = 42)\n",
        "\n",
        "# Number of trees in random forest\n",
        "n_estimators = [int(x) for x in np.linspace(start = 200, stop = 2000, num = 10)]\n",
        "# Maximum number of levels in tree\n",
        "max_depth = [int(x) for x in np.linspace(10, 110, num = 11)]\n",
        "max_depth.append(None)\n",
        "# Minimum number of samples required to split a node\n",
        "min_samples_split = [2, 5, 10]\n",
        "# Minimum number of samples required at each leaf node\n",
        "min_samples_leaf = [1, 2, 4]\n",
        "# Method of selecting samples for training each tree\n",
        "bootstrap = [True, False]\n",
        "# Create the random grid\n",
        "random_grid = {'n_estimators': n_estimators,\n",
        "              'max_depth': max_depth,\n",
        "              'min_samples_split': min_samples_split,\n",
        "              'min_samples_leaf': min_samples_leaf,\n",
        "              'bootstrap': bootstrap}\n",
        "\n",
        "not_missing_train = ~y_train['layoff'].isnull()\n",
        "X_train_filtered = X_train[not_missing_train]\n",
        "y_train_filtered = y_train['layoff'][not_missing_train]\n",
        "\n",
        "not_missing_test = ~y_test['layoff'].isnull()\n",
        "X_test_filtered = X_test[not_missing_test]\n",
        "y_test_filtered = y_test['layoff'][not_missing_test]\n",
        "\n",
        "rf_random = RandomizedSearchCV(estimator = rf, param_distributions = random_grid, n_iter = 5, cv = 5, verbose=2, random_state=42, n_jobs = -1)\n",
        "# Fit the random search model\n",
        "rf_random.fit(X_train_filtered, y_train_filtered)\n",
        "\n",
        "layoff_best = rf_random.best_estimator_"
      ],
      "metadata": {
        "colab": {
          "base_uri": "https://localhost:8080/"
        },
        "id": "j6Ic_nCKEts7",
        "outputId": "12c99a67-cf67-4f01-8723-9b988f2cbb40"
      },
      "execution_count": null,
      "outputs": [
        {
          "output_type": "stream",
          "name": "stdout",
          "text": [
            "Fitting 5 folds for each of 5 candidates, totalling 25 fits\n"
          ]
        }
      ]
    },
    {
      "cell_type": "code",
      "source": [
        "layoff_preds = layoff_best.predict(X_test_filtered)\n",
        "\n",
        "print(accuracy_score(y_test_filtered, layoff_preds))\n",
        "print(precision_recall_fscore_support(y_test_filtered, layoff_preds, average='weighted'))"
      ],
      "metadata": {
        "colab": {
          "base_uri": "https://localhost:8080/"
        },
        "id": "xXLk9GzxW8Th",
        "outputId": "0487e0a4-3465-430a-f7cb-47ea4ca54e18"
      },
      "execution_count": null,
      "outputs": [
        {
          "output_type": "stream",
          "name": "stdout",
          "text": [
            "0.8095238095238095\n",
            "(0.8462210572302316, 0.8095238095238095, 0.7345697108090455, None)\n"
          ]
        }
      ]
    },
    {
      "cell_type": "code",
      "source": [
        "from sklearn.metrics import classification_report\n",
        "print(classification_report(y_test_filtered, layoff_preds, target_names=[\"No Layoff\",\"Layoff\"]))"
      ],
      "metadata": {
        "colab": {
          "base_uri": "https://localhost:8080/"
        },
        "id": "oDuGMTQ1s0nn",
        "outputId": "90917ea7-ffce-42c2-bd3d-8828cca6cf0e"
      },
      "execution_count": null,
      "outputs": [
        {
          "output_type": "stream",
          "name": "stdout",
          "text": [
            "              precision    recall  f1-score   support\n",
            "\n",
            "   No Layoff       0.81      1.00      0.89       352\n",
            "      Layoff       1.00      0.06      0.11        89\n",
            "\n",
            "    accuracy                           0.81       441\n",
            "   macro avg       0.90      0.53      0.50       441\n",
            "weighted avg       0.85      0.81      0.73       441\n",
            "\n"
          ]
        }
      ]
    },
    {
      "cell_type": "code",
      "source": [
        "## Job training\n",
        "\n",
        "rf = RandomForestClassifier(random_state = 42)\n",
        "\n",
        "# Number of trees in random forest\n",
        "n_estimators = [int(x) for x in np.linspace(start = 200, stop = 2000, num = 10)]\n",
        "# Maximum number of levels in tree\n",
        "max_depth = [int(x) for x in np.linspace(10, 110, num = 11)]\n",
        "max_depth.append(None)\n",
        "# Minimum number of samples required to split a node\n",
        "min_samples_split = [2, 5, 10]\n",
        "# Minimum number of samples required at each leaf node\n",
        "min_samples_leaf = [1, 2, 4]\n",
        "# Method of selecting samples for training each tree\n",
        "bootstrap = [True, False]\n",
        "# Create the random grid\n",
        "random_grid = {'n_estimators': n_estimators,\n",
        "              'max_depth': max_depth,\n",
        "              'min_samples_split': min_samples_split,\n",
        "              'min_samples_leaf': min_samples_leaf,\n",
        "              'bootstrap': bootstrap}\n",
        "\n",
        "not_missing_train = ~y_train['jobTraining'].isnull()\n",
        "X_train_filtered = X_train[not_missing_train]\n",
        "y_train_filtered = y_train['jobTraining'][not_missing_train]\n",
        "\n",
        "not_missing_test = ~y_test['jobTraining'].isnull()\n",
        "X_test_filtered = X_test[not_missing_test]\n",
        "y_test_filtered = y_test['jobTraining'][not_missing_test]\n",
        "\n",
        "rf_random = RandomizedSearchCV(estimator = rf, param_distributions = random_grid, n_iter = 5, cv = 5, verbose=2, random_state=42, n_jobs = -1)\n",
        "# Fit the random search model\n",
        "rf_random.fit(X_train_filtered, y_train_filtered)\n",
        "\n",
        "job_best = rf_random.best_estimator_"
      ],
      "metadata": {
        "colab": {
          "base_uri": "https://localhost:8080/"
        },
        "id": "GkdEqbfWEuei",
        "outputId": "8ce129a0-7dc6-4e07-900f-c36fb207fe34"
      },
      "execution_count": null,
      "outputs": [
        {
          "output_type": "stream",
          "name": "stdout",
          "text": [
            "Fitting 5 folds for each of 5 candidates, totalling 25 fits\n"
          ]
        }
      ]
    },
    {
      "cell_type": "code",
      "source": [
        "job_preds = job_best.predict(X_test_filtered)\n",
        "\n",
        "print(accuracy_score(y_test_filtered, job_preds))\n",
        "print(precision_recall_fscore_support(y_test_filtered, job_preds, average='weighted'))"
      ],
      "metadata": {
        "colab": {
          "base_uri": "https://localhost:8080/"
        },
        "id": "SVkXUrTYY3QX",
        "outputId": "24a3db05-3392-42a0-aea2-c670966601ef"
      },
      "execution_count": null,
      "outputs": [
        {
          "output_type": "stream",
          "name": "stdout",
          "text": [
            "0.8376237623762376\n",
            "(0.865773554099596, 0.8376237623762376, 0.7997303097889698, None)\n"
          ]
        }
      ]
    },
    {
      "cell_type": "code",
      "source": [
        "from sklearn.metrics import classification_report\n",
        "print(classification_report(y_test_filtered, job_preds, target_names=[\"No Job Training\",\"Job Training\"]))"
      ],
      "metadata": {
        "colab": {
          "base_uri": "https://localhost:8080/"
        },
        "id": "fd-adJf_r5-Z",
        "outputId": "6c0f442d-75f8-4ce8-e8b8-5e469880433e"
      },
      "execution_count": null,
      "outputs": [
        {
          "output_type": "stream",
          "name": "stdout",
          "text": [
            "                 precision    recall  f1-score   support\n",
            "\n",
            "No Job Training       0.83      1.00      0.91       391\n",
            "   Job Training       1.00      0.28      0.44       114\n",
            "\n",
            "       accuracy                           0.84       505\n",
            "      macro avg       0.91      0.64      0.67       505\n",
            "   weighted avg       0.87      0.84      0.80       505\n",
            "\n"
          ]
        }
      ]
    },
    {
      "cell_type": "markdown",
      "source": [
        "## XGBoost Feature Importance"
      ],
      "metadata": {
        "id": "I54SGn8e29kx"
      }
    },
    {
      "cell_type": "code",
      "source": [
        "feat_importances = pd.Series(gpa_best.feature_importances_, index=X_train.columns).sort_values(ascending=True)\n",
        "feat_importances.plot(kind='barh')"
      ],
      "metadata": {
        "colab": {
          "base_uri": "https://localhost:8080/",
          "height": 448
        },
        "id": "SLOywzF-2_nd",
        "outputId": "029b203d-19f9-40a2-a245-dd46c50c5ec2"
      },
      "execution_count": null,
      "outputs": [
        {
          "output_type": "execute_result",
          "data": {
            "text/plain": [
              "<Axes: >"
            ]
          },
          "metadata": {},
          "execution_count": 64
        },
        {
          "output_type": "display_data",
          "data": {
            "text/plain": [
              "<Figure size 640x480 with 1 Axes>"
            ],
            "image/png": "[encoded data removed]"
          },
          "metadata": {}
        }
      ]
    },
    {
      "cell_type": "code",
      "source": [
        "feat_importances = pd.Series(grit_best.feature_importances_, index=X_train.columns).sort_values(ascending=True)\n",
        "feat_importances.plot(kind='barh')"
      ],
      "metadata": {
        "colab": {
          "base_uri": "https://localhost:8080/",
          "height": 90
        },
        "id": "GilH2h4fCndO",
        "outputId": "12259e04-5c95-413d-8796-17cceeff2977"
      },
      "execution_count": null,
      "outputs": [
        {
          "output_type": "execute_result",
          "data": {
            "text/plain": [
              "<Axes: >"
            ]
          },
          "metadata": {},
          "execution_count": 65
        },
        {
          "output_type": "display_data",
          "data": {
            "text/plain": [
              "<Figure size 640x480 with 1 Axes>"
            ],
            "image/png": "[encoded data removed]"
          },
          "metadata": {}
        }
      ]
    },
    {
      "cell_type": "markdown",
      "source": [
        "## SHAP"
      ],
      "metadata": {
        "id": "h0nH-UIf5DEW"
      }
    },
    {
      "cell_type": "code",
      "source": [
        "!pip install shap"
      ],
      "metadata": {
        "colab": {
          "base_uri": "https://localhost:8080/"
        },
        "id": "itRzBewSmYcL",
        "outputId": "72c7bf9c-231c-43b8-8a68-0383a5fde825"
      },
      "execution_count": null,
      "outputs": [
        {
          "output_type": "stream",
          "name": "stdout",
          "text": [
            "Collecting shap\n",
            "  Downloading shap-0.45.0-cp310-cp310-manylinux_2_12_x86_64.manylinux2010_x86_64.manylinux_2_17_x86_64.manylinux2014_x86_64.whl (538 kB)\n",
            "\u001b[2K     \u001b[90m━━━━━━━━━━━━━━━━━━━━━━━━━━━━━━━━━━━━━━━━\u001b[0m \u001b[32m538.2/538.2 kB\u001b[0m \u001b[31m4.1 MB/s\u001b[0m eta \u001b[36m0:00:00\u001b[0m\n",
            "\u001b[?25hRequirement already satisfied: numpy in /usr/local/lib/python3.10/dist-packages (from shap) (1.25.2)\n",
            "Requirement already satisfied: scipy in /usr/local/lib/python3.10/dist-packages (from shap) (1.11.4)\n",
            "Requirement already satisfied: scikit-learn in /usr/local/lib/python3.10/dist-packages (from shap) (1.2.2)\n",
            "Requirement already satisfied: pandas in /usr/local/lib/python3.10/dist-packages (from shap) (2.0.3)\n",
            "Requirement already satisfied: tqdm>=4.27.0 in /usr/local/lib/python3.10/dist-packages (from shap) (4.66.2)\n",
            "Requirement already satisfied: packaging>20.9 in /usr/local/lib/python3.10/dist-packages (from shap) (24.0)\n",
            "Collecting slicer==0.0.7 (from shap)\n",
            "  Downloading slicer-0.0.7-py3-none-any.whl (14 kB)\n",
            "Requirement already satisfied: numba in /usr/local/lib/python3.10/dist-packages (from shap) (0.58.1)\n",
            "Requirement already satisfied: cloudpickle in /usr/local/lib/python3.10/dist-packages (from shap) (2.2.1)\n",
            "Requirement already satisfied: llvmlite<0.42,>=0.41.0dev0 in /usr/local/lib/python3.10/dist-packages (from numba->shap) (0.41.1)\n",
            "Requirement already satisfied: python-dateutil>=2.8.2 in /usr/local/lib/python3.10/dist-packages (from pandas->shap) (2.8.2)\n",
            "Requirement already satisfied: pytz>=2020.1 in /usr/local/lib/python3.10/dist-packages (from pandas->shap) (2023.4)\n",
            "Requirement already satisfied: tzdata>=2022.1 in /usr/local/lib/python3.10/dist-packages (from pandas->shap) (2024.1)\n",
            "Requirement already satisfied: joblib>=1.1.1 in /usr/local/lib/python3.10/dist-packages (from scikit-learn->shap) (1.3.2)\n",
            "Requirement already satisfied: threadpoolctl>=2.0.0 in /usr/local/lib/python3.10/dist-packages (from scikit-learn->shap) (3.4.0)\n",
            "Requirement already satisfied: six>=1.5 in /usr/local/lib/python3.10/dist-packages (from python-dateutil>=2.8.2->pandas->shap) (1.16.0)\n",
            "Installing collected packages: slicer, shap\n",
            "Successfully installed shap-0.45.0 slicer-0.0.7\n"
          ]
        }
      ]
    },
    {
      "cell_type": "code",
      "source": [
        "from sklearn.ensemble import RandomForestClassifier\n",
        "import shap"
      ],
      "metadata": {
        "id": "rAHDZJ-65ZSV"
      },
      "execution_count": null,
      "outputs": []
    },
    {
      "cell_type": "code",
      "source": [
        "explainer = shap.TreeExplainer(gpa_best)\n",
        "shap_values = explainer.shap_values(X_test)\n",
        "shap.summary_plot(shap_values, X_test, plot_type = 'bar')"
      ],
      "metadata": {
        "colab": {
          "base_uri": "https://localhost:8080/",
          "height": 54
        },
        "id": "OniBRSZM3vLM",
        "outputId": "18f836a5-0b55-4319-b7a8-04f65039fa67"
      },
      "execution_count": null,
      "outputs": [
        {
          "output_type": "display_data",
          "data": {
            "text/plain": [
              "<Figure size 800x950 with 1 Axes>"
            ],
            "image/png": "[encoded data removed]"
          },
          "metadata": {}
        }
      ]
    },
    {
      "cell_type": "code",
      "source": [
        "explainer = shap.Explainer(gpa_best)\n",
        "shap_values = explainer.shap_values(X_test)\n",
        "shap.summary_plot(shap_values, X_test)"
      ],
      "metadata": {
        "id": "ctpDhyI3CONp",
        "colab": {
          "base_uri": "https://localhost:8080/",
          "height": 54
        },
        "outputId": "61adb316-6fae-4152-de41-55cf3b54672d"
      },
      "execution_count": null,
      "outputs": [
        {
          "output_type": "display_data",
          "data": {
            "text/plain": [
              "<Figure size 800x950 with 2 Axes>"
            ],
            "image/png": "[encoded data removed]"
          },
          "metadata": {}
        }
      ]
    },
    {
      "cell_type": "code",
      "source": [
        "interest_variables = X_test.iloc[:,21:]"
      ],
      "metadata": {
        "id": "pGVIi_ClICB2"
      },
      "execution_count": null,
      "outputs": []
    },
    {
      "cell_type": "code",
      "source": [
        "# Summary plot for feature importance?\n",
        "shap_interest = shap_values[:, 21:]\n",
        "shap.summary_plot(shap_interest, interest_variables)"
      ],
      "metadata": {
        "colab": {
          "base_uri": "https://localhost:8080/",
          "height": 54
        },
        "id": "kkLVRTM8H-7L",
        "outputId": "05b6c1f8-8c63-40ac-8269-a34b54ca3dee"
      },
      "execution_count": null,
      "outputs": [
        {
          "output_type": "display_data",
          "data": {
            "text/plain": [
              "<Figure size 800x670 with 2 Axes>"
            ],
            "image/png": "[encoded data removed]"
          },
          "metadata": {}
        }
      ]
    },
    {
      "cell_type": "code",
      "source": [
        "explainer = shap.Explainer(grit_best)\n",
        "shap_values = explainer.shap_values(X_test)\n",
        "shap.summary_plot(shap_values, X_test)"
      ],
      "metadata": {
        "id": "zK8td937CU0K",
        "colab": {
          "base_uri": "https://localhost:8080/",
          "height": 54
        },
        "outputId": "1b910447-8e52-42ee-fb5d-7b7148ac1a87"
      },
      "execution_count": null,
      "outputs": [
        {
          "output_type": "display_data",
          "data": {
            "text/plain": [
              "<Figure size 800x950 with 2 Axes>"
            ],
            "image/png": "[encoded data removed]"
          },
          "metadata": {}
        }
      ]
    },
    {
      "cell_type": "code",
      "source": [
        "shap_interest = shap_values[:, 21:]\n",
        "shap.summary_plot(shap_interest, interest_variables)"
      ],
      "metadata": {
        "colab": {
          "base_uri": "https://localhost:8080/",
          "height": 54
        },
        "id": "AJXBG6fUAqxE",
        "outputId": "72a235e3-b8ab-48ac-9cfc-1112957ff7d7"
      },
      "execution_count": null,
      "outputs": [
        {
          "output_type": "display_data",
          "data": {
            "text/plain": [
              "<Figure size 800x670 with 2 Axes>"
            ],
            "image/png": "[encoded data removed]"
          },
          "metadata": {}
        }
      ]
    },
    {
      "cell_type": "code",
      "source": [
        "!pip install lime"
      ],
      "metadata": {
        "colab": {
          "base_uri": "https://localhost:8080/"
        },
        "id": "zJ6WZ-ZK1v6h",
        "outputId": "add54be0-7449-4daa-e01e-635bc7525c39"
      },
      "execution_count": null,
      "outputs": [
        {
          "output_type": "stream",
          "name": "stdout",
          "text": [
            "Collecting lime\n",
            "  Downloading lime-0.2.0.1.tar.gz (275 kB)\n",
            "\u001b[2K     \u001b[90m━━━━━━━━━━━━━━━━━━━━━━━━━━━━━━━━━━━━━━━━\u001b[0m \u001b[32m275.7/275.7 kB\u001b[0m \u001b[31m2.1 MB/s\u001b[0m eta \u001b[36m0:00:00\u001b[0m\n",
            "\u001b[?25h  Preparing metadata (setup.py) ... \u001b[?25l\u001b[?25hdone\n",
            "Requirement already satisfied: matplotlib in /usr/local/lib/python3.10/dist-packages (from lime) (3.7.1)\n",
            "Requirement already satisfied: numpy in /usr/local/lib/python3.10/dist-packages (from lime) (1.25.2)\n",
            "Requirement already satisfied: scipy in /usr/local/lib/python3.10/dist-packages (from lime) (1.11.4)\n",
            "Requirement already satisfied: tqdm in /usr/local/lib/python3.10/dist-packages (from lime) (4.66.2)\n",
            "Requirement already satisfied: scikit-learn>=0.18 in /usr/local/lib/python3.10/dist-packages (from lime) (1.2.2)\n",
            "Requirement already satisfied: scikit-image>=0.12 in /usr/local/lib/python3.10/dist-packages (from lime) (0.19.3)\n",
            "Requirement already satisfied: networkx>=2.2 in /usr/local/lib/python3.10/dist-packages (from scikit-image>=0.12->lime) (3.2.1)\n",
            "Requirement already satisfied: pillow!=7.1.0,!=7.1.1,!=8.3.0,>=6.1.0 in /usr/local/lib/python3.10/dist-packages (from scikit-image>=0.12->lime) (9.4.0)\n",
            "Requirement already satisfied: imageio>=2.4.1 in /usr/local/lib/python3.10/dist-packages (from scikit-image>=0.12->lime) (2.31.6)\n",
            "Requirement already satisfied: tifffile>=2019.7.26 in /usr/local/lib/python3.10/dist-packages (from scikit-image>=0.12->lime) (2024.2.12)\n",
            "Requirement already satisfied: PyWavelets>=1.1.1 in /usr/local/lib/python3.10/dist-packages (from scikit-image>=0.12->lime) (1.6.0)\n",
            "Requirement already satisfied: packaging>=20.0 in /usr/local/lib/python3.10/dist-packages (from scikit-image>=0.12->lime) (24.0)\n",
            "Requirement already satisfied: joblib>=1.1.1 in /usr/local/lib/python3.10/dist-packages (from scikit-learn>=0.18->lime) (1.3.2)\n",
            "Requirement already satisfied: threadpoolctl>=2.0.0 in /usr/local/lib/python3.10/dist-packages (from scikit-learn>=0.18->lime) (3.4.0)\n",
            "Requirement already satisfied: contourpy>=1.0.1 in /usr/local/lib/python3.10/dist-packages (from matplotlib->lime) (1.2.0)\n",
            "Requirement already satisfied: cycler>=0.10 in /usr/local/lib/python3.10/dist-packages (from matplotlib->lime) (0.12.1)\n",
            "Requirement already satisfied: fonttools>=4.22.0 in /usr/local/lib/python3.10/dist-packages (from matplotlib->lime) (4.50.0)\n",
            "Requirement already satisfied: kiwisolver>=1.0.1 in /usr/local/lib/python3.10/dist-packages (from matplotlib->lime) (1.4.5)\n",
            "Requirement already satisfied: pyparsing>=2.3.1 in /usr/local/lib/python3.10/dist-packages (from matplotlib->lime) (3.1.2)\n",
            "Requirement already satisfied: python-dateutil>=2.7 in /usr/local/lib/python3.10/dist-packages (from matplotlib->lime) (2.8.2)\n",
            "Requirement already satisfied: six>=1.5 in /usr/local/lib/python3.10/dist-packages (from python-dateutil>=2.7->matplotlib->lime) (1.16.0)\n",
            "Building wheels for collected packages: lime\n",
            "  Building wheel for lime (setup.py) ... \u001b[?25l\u001b[?25hdone\n",
            "  Created wheel for lime: filename=lime-0.2.0.1-py3-none-any.whl size=283835 sha256=64f17d2062e87ac42841bd71f8e67afa08cbac5878a5eee848bb1bf8a5495323\n",
            "  Stored in directory: /root/.cache/pip/wheels/fd/a2/af/9ac0a1a85a27f314a06b39e1f492bee1547d52549a4606ed89\n",
            "Successfully built lime\n",
            "Installing collected packages: lime\n",
            "Successfully installed lime-0.2.0.1\n"
          ]
        }
      ]
    },
    {
      "cell_type": "code",
      "source": [
        "y_test.loc[201]"
      ],
      "metadata": {
        "colab": {
          "base_uri": "https://localhost:8080/"
        },
        "id": "v48O8ipcl6SF",
        "outputId": "c85cb34d-b7b1-486e-bc1e-2c729a23c2d9"
      },
      "execution_count": null,
      "outputs": [
        {
          "output_type": "execute_result",
          "data": {
            "text/plain": [
              "gpa                NaN\n",
              "grit               NaN\n",
              "materialHardship   NaN\n",
              "eviction           NaN\n",
              "layoff             NaN\n",
              "jobTraining        NaN\n",
              "Name: 201, dtype: float64"
            ]
          },
          "metadata": {},
          "execution_count": 75
        }
      ]
    },
    {
      "cell_type": "code",
      "source": [
        "X_test.loc[32]"
      ],
      "metadata": {
        "colab": {
          "base_uri": "https://localhost:8080/"
        },
        "id": "h1nNL3TEnv0k",
        "outputId": "bfc67657-10e5-43b5-def7-e9de9458998b"
      },
      "execution_count": null,
      "outputs": [
        {
          "output_type": "execute_result",
          "data": {
            "text/plain": [
              "cm1inpov      3.664078\n",
              "cf2povco      5.732968\n",
              "cm2alvf           -7.0\n",
              "cm4povco      3.939485\n",
              "ch4wjraw22        11.0\n",
              "ch5wj10ss        106.0\n",
              "f1b24f_3         False\n",
              "f1h3_1           False\n",
              "f1j8a_5          False\n",
              "cm2povca_5       False\n",
              "f3h1j_2          False\n",
              "f3k12_105        False\n",
              "cf3cogsc_9       False\n",
              "m3i0f_2           True\n",
              "m3l5d_2          False\n",
              "m3l6a_1          False\n",
              "cm3povca_5       False\n",
              "p3m12_2           True\n",
              "f4b4b13_0        False\n",
              "m4a10b1_2        False\n",
              "k5e2a_4          False\n",
              "m2b25a1              0\n",
              "m2b25a2              0\n",
              "m2b25a3              0\n",
              "m2b25a4              1\n",
              "m2b25a5              1\n",
              "m2b25a6              0\n",
              "m2b25a7              1\n",
              "m2b25a8              0\n",
              "m2b25a9              0\n",
              "m2b25a10             0\n",
              "m2b25a11             0\n",
              "m2b25a12             0\n",
              "m2b25a13             0\n",
              "Name: 32, dtype: object"
            ]
          },
          "metadata": {},
          "execution_count": 76
        }
      ]
    },
    {
      "cell_type": "code",
      "source": [
        "X_test[X_test['m2b25a4']==1]"
      ],
      "metadata": {
        "colab": {
          "base_uri": "https://localhost:8080/",
          "height": 444
        },
        "id": "V9P6mt9Kl2sV",
        "outputId": "977ecaae-fdfa-4867-c8ca-9c76fa1b4750"
      },
      "execution_count": null,
      "outputs": [
        {
          "output_type": "execute_result",
          "data": {
            "text/plain": [
              "     cm1inpov  cf2povco    cm2alvf  cm4povco  ch4wjraw22   ch5wj10ss  \\\n",
              "4    0.359339  0.473671  -7.000000  1.893903   13.000000   92.000000   \n",
              "10   3.339650  6.045448  29.000000  4.380779    8.000000  110.000000   \n",
              "32   3.664078  5.732968  -7.000000  3.939485   11.000000  106.000000   \n",
              "52   0.393740  1.006678  27.000000  2.727807   11.666667   98.000000   \n",
              "59   2.427935  1.764607  -7.000000  1.786619    9.333333   85.666667   \n",
              "..        ...       ...        ...       ...         ...         ...   \n",
              "709  4.844170  0.861110  18.000000  2.445539    8.000000   98.666667   \n",
              "728  2.857882  2.582572  -7.000000  1.382466    5.000000   77.000000   \n",
              "735  1.542007  2.181825  34.000000  1.259336   12.000000  100.000000   \n",
              "737  0.326526  0.082907   1.333333  0.901717   17.000000  107.000000   \n",
              "741  0.000000  4.072031  -7.000000  0.917772   11.000000   82.000000   \n",
              "\n",
              "     f1b24f_3  f1h3_1  f1j8a_5  cm2povca_5  ...  m2b25a4  m2b25a5  m2b25a6  \\\n",
              "4       False   False    False       False  ...        1        0        0   \n",
              "10      False    True     True        True  ...        1        0        0   \n",
              "32      False   False    False       False  ...        1        1        0   \n",
              "52      False   False    False       False  ...        1        0        0   \n",
              "59      False   False    False       False  ...        1        0        0   \n",
              "..        ...     ...      ...         ...  ...      ...      ...      ...   \n",
              "709     False    True    False        True  ...        1        0        0   \n",
              "728     False   False    False       False  ...        1        0        0   \n",
              "735     False   False    False       False  ...        1        1        0   \n",
              "737     False   False    False       False  ...        1        0        0   \n",
              "741     False    True    False       False  ...        1        0        0   \n",
              "\n",
              "     m2b25a7  m2b25a8  m2b25a9  m2b25a10  m2b25a11  m2b25a12  m2b25a13  \n",
              "4          0        0        0         0         0         0         0  \n",
              "10         0        0        0         0         0         0         0  \n",
              "32         1        0        0         0         0         0         0  \n",
              "52         0        0        0         0         0         0         0  \n",
              "59         0        0        0         0         0         0         0  \n",
              "..       ...      ...      ...       ...       ...       ...       ...  \n",
              "709        0        0        0         0         0         0         0  \n",
              "728        0        0        0         0         0         0         0  \n",
              "735        0        0        0         0         0         0         0  \n",
              "737        0        0        0         0         0         0         0  \n",
              "741        0        0        0         0         0         0         0  \n",
              "\n",
              "[80 rows x 34 columns]"
            ],
            "text/html": [
              "\n",
              "  <div id=\"df-9e898883-7d0e-466a-9b2b-fd3fc1a0ce8e\" class=\"colab-df-container\">\n",
              "    <div>\n",
              "<style scoped>\n",
              "    .dataframe tbody tr th:only-of-type {\n",
              "        vertical-align: middle;\n",
              "    }\n",
              "\n",
              "    .dataframe tbody tr th {\n",
              "        vertical-align: top;\n",
              "    }\n",
              "\n",
              "    .dataframe thead th {\n",
              "        text-align: right;\n",
              "    }\n",
              "</style>\n",
              "<table border=\"1\" class=\"dataframe\">\n",
              "  <thead>\n",
              "    <tr style=\"text-align: right;\">\n",
              "      <th></th>\n",
              "      <th>cm1inpov</th>\n",
              "      <th>cf2povco</th>\n",
              "      <th>cm2alvf</th>\n",
              "      <th>cm4povco</th>\n",
              "      <th>ch4wjraw22</th>\n",
              "      <th>ch5wj10ss</th>\n",
              "      <th>f1b24f_3</th>\n",
              "      <th>f1h3_1</th>\n",
              "      <th>f1j8a_5</th>\n",
              "      <th>cm2povca_5</th>\n",
              "      <th>...</th>\n",
              "      <th>m2b25a4</th>\n",
              "      <th>m2b25a5</th>\n",
              "      <th>m2b25a6</th>\n",
              "      <th>m2b25a7</th>\n",
              "      <th>m2b25a8</th>\n",
              "      <th>m2b25a9</th>\n",
              "      <th>m2b25a10</th>\n",
              "      <th>m2b25a11</th>\n",
              "      <th>m2b25a12</th>\n",
              "      <th>m2b25a13</th>\n",
              "    </tr>\n",
              "  </thead>\n",
              "  <tbody>\n",
              "    <tr>\n",
              "      <th>4</th>\n",
              "      <td>0.359339</td>\n",
              "      <td>0.473671</td>\n",
              "      <td>-7.000000</td>\n",
              "      <td>1.893903</td>\n",
              "      <td>13.000000</td>\n",
              "      <td>92.000000</td>\n",
              "      <td>False</td>\n",
              "      <td>False</td>\n",
              "      <td>False</td>\n",
              "      <td>False</td>\n",
              "      <td>...</td>\n",
              "      <td>1</td>\n",
              "      <td>0</td>\n",
              "      <td>0</td>\n",
              "      <td>0</td>\n",
              "      <td>0</td>\n",
              "      <td>0</td>\n",
              "      <td>0</td>\n",
              "      <td>0</td>\n",
              "      <td>0</td>\n",
              "      <td>0</td>\n",
              "    </tr>\n",
              "    <tr>\n",
              "      <th>10</th>\n",
              "      <td>3.339650</td>\n",
              "      <td>6.045448</td>\n",
              "      <td>29.000000</td>\n",
              "      <td>4.380779</td>\n",
              "      <td>8.000000</td>\n",
              "      <td>110.000000</td>\n",
              "      <td>False</td>\n",
              "      <td>True</td>\n",
              "      <td>True</td>\n",
              "      <td>True</td>\n",
              "      <td>...</td>\n",
              "      <td>1</td>\n",
              "      <td>0</td>\n",
              "      <td>0</td>\n",
              "      <td>0</td>\n",
              "      <td>0</td>\n",
              "      <td>0</td>\n",
              "      <td>0</td>\n",
              "      <td>0</td>\n",
              "      <td>0</td>\n",
              "      <td>0</td>\n",
              "    </tr>\n",
              "    <tr>\n",
              "      <th>32</th>\n",
              "      <td>3.664078</td>\n",
              "      <td>5.732968</td>\n",
              "      <td>-7.000000</td>\n",
              "      <td>3.939485</td>\n",
              "      <td>11.000000</td>\n",
              "      <td>106.000000</td>\n",
              "      <td>False</td>\n",
              "      <td>False</td>\n",
              "      <td>False</td>\n",
              "      <td>False</td>\n",
              "      <td>...</td>\n",
              "      <td>1</td>\n",
              "      <td>1</td>\n",
              "      <td>0</td>\n",
              "      <td>1</td>\n",
              "      <td>0</td>\n",
              "      <td>0</td>\n",
              "      <td>0</td>\n",
              "      <td>0</td>\n",
              "      <td>0</td>\n",
              "      <td>0</td>\n",
              "    </tr>\n",
              "    <tr>\n",
              "      <th>52</th>\n",
              "      <td>0.393740</td>\n",
              "      <td>1.006678</td>\n",
              "      <td>27.000000</td>\n",
              "      <td>2.727807</td>\n",
              "      <td>11.666667</td>\n",
              "      <td>98.000000</td>\n",
              "      <td>False</td>\n",
              "      <td>False</td>\n",
              "      <td>False</td>\n",
              "      <td>False</td>\n",
              "      <td>...</td>\n",
              "      <td>1</td>\n",
              "      <td>0</td>\n",
              "      <td>0</td>\n",
              "      <td>0</td>\n",
              "      <td>0</td>\n",
              "      <td>0</td>\n",
              "      <td>0</td>\n",
              "      <td>0</td>\n",
              "      <td>0</td>\n",
              "      <td>0</td>\n",
              "    </tr>\n",
              "    <tr>\n",
              "      <th>59</th>\n",
              "      <td>2.427935</td>\n",
              "      <td>1.764607</td>\n",
              "      <td>-7.000000</td>\n",
              "      <td>1.786619</td>\n",
              "      <td>9.333333</td>\n",
              "      <td>85.666667</td>\n",
              "      <td>False</td>\n",
              "      <td>False</td>\n",
              "      <td>False</td>\n",
              "      <td>False</td>\n",
              "      <td>...</td>\n",
              "      <td>1</td>\n",
              "      <td>0</td>\n",
              "      <td>0</td>\n",
              "      <td>0</td>\n",
              "      <td>0</td>\n",
              "      <td>0</td>\n",
              "      <td>0</td>\n",
              "      <td>0</td>\n",
              "      <td>0</td>\n",
              "      <td>0</td>\n",
              "    </tr>\n",
              "    <tr>\n",
              "      <th>...</th>\n",
              "      <td>...</td>\n",
              "      <td>...</td>\n",
              "      <td>...</td>\n",
              "      <td>...</td>\n",
              "      <td>...</td>\n",
              "      <td>...</td>\n",
              "      <td>...</td>\n",
              "      <td>...</td>\n",
              "      <td>...</td>\n",
              "      <td>...</td>\n",
              "      <td>...</td>\n",
              "      <td>...</td>\n",
              "      <td>...</td>\n",
              "      <td>...</td>\n",
              "      <td>...</td>\n",
              "      <td>...</td>\n",
              "      <td>...</td>\n",
              "      <td>...</td>\n",
              "      <td>...</td>\n",
              "      <td>...</td>\n",
              "      <td>...</td>\n",
              "    </tr>\n",
              "    <tr>\n",
              "      <th>709</th>\n",
              "      <td>4.844170</td>\n",
              "      <td>0.861110</td>\n",
              "      <td>18.000000</td>\n",
              "      <td>2.445539</td>\n",
              "      <td>8.000000</td>\n",
              "      <td>98.666667</td>\n",
              "      <td>False</td>\n",
              "      <td>True</td>\n",
              "      <td>False</td>\n",
              "      <td>True</td>\n",
              "      <td>...</td>\n",
              "      <td>1</td>\n",
              "      <td>0</td>\n",
              "      <td>0</td>\n",
              "      <td>0</td>\n",
              "      <td>0</td>\n",
              "      <td>0</td>\n",
              "      <td>0</td>\n",
              "      <td>0</td>\n",
              "      <td>0</td>\n",
              "      <td>0</td>\n",
              "    </tr>\n",
              "    <tr>\n",
              "      <th>728</th>\n",
              "      <td>2.857882</td>\n",
              "      <td>2.582572</td>\n",
              "      <td>-7.000000</td>\n",
              "      <td>1.382466</td>\n",
              "      <td>5.000000</td>\n",
              "      <td>77.000000</td>\n",
              "      <td>False</td>\n",
              "      <td>False</td>\n",
              "      <td>False</td>\n",
              "      <td>False</td>\n",
              "      <td>...</td>\n",
              "      <td>1</td>\n",
              "      <td>0</td>\n",
              "      <td>0</td>\n",
              "      <td>0</td>\n",
              "      <td>0</td>\n",
              "      <td>0</td>\n",
              "      <td>0</td>\n",
              "      <td>0</td>\n",
              "      <td>0</td>\n",
              "      <td>0</td>\n",
              "    </tr>\n",
              "    <tr>\n",
              "      <th>735</th>\n",
              "      <td>1.542007</td>\n",
              "      <td>2.181825</td>\n",
              "      <td>34.000000</td>\n",
              "      <td>1.259336</td>\n",
              "      <td>12.000000</td>\n",
              "      <td>100.000000</td>\n",
              "      <td>False</td>\n",
              "      <td>False</td>\n",
              "      <td>False</td>\n",
              "      <td>False</td>\n",
              "      <td>...</td>\n",
              "      <td>1</td>\n",
              "      <td>1</td>\n",
              "      <td>0</td>\n",
              "      <td>0</td>\n",
              "      <td>0</td>\n",
              "      <td>0</td>\n",
              "      <td>0</td>\n",
              "      <td>0</td>\n",
              "      <td>0</td>\n",
              "      <td>0</td>\n",
              "    </tr>\n",
              "    <tr>\n",
              "      <th>737</th>\n",
              "      <td>0.326526</td>\n",
              "      <td>0.082907</td>\n",
              "      <td>1.333333</td>\n",
              "      <td>0.901717</td>\n",
              "      <td>17.000000</td>\n",
              "      <td>107.000000</td>\n",
              "      <td>False</td>\n",
              "      <td>False</td>\n",
              "      <td>False</td>\n",
              "      <td>False</td>\n",
              "      <td>...</td>\n",
              "      <td>1</td>\n",
              "      <td>0</td>\n",
              "      <td>0</td>\n",
              "      <td>0</td>\n",
              "      <td>0</td>\n",
              "      <td>0</td>\n",
              "      <td>0</td>\n",
              "      <td>0</td>\n",
              "      <td>0</td>\n",
              "      <td>0</td>\n",
              "    </tr>\n",
              "    <tr>\n",
              "      <th>741</th>\n",
              "      <td>0.000000</td>\n",
              "      <td>4.072031</td>\n",
              "      <td>-7.000000</td>\n",
              "      <td>0.917772</td>\n",
              "      <td>11.000000</td>\n",
              "      <td>82.000000</td>\n",
              "      <td>False</td>\n",
              "      <td>True</td>\n",
              "      <td>False</td>\n",
              "      <td>False</td>\n",
              "      <td>...</td>\n",
              "      <td>1</td>\n",
              "      <td>0</td>\n",
              "      <td>0</td>\n",
              "      <td>0</td>\n",
              "      <td>0</td>\n",
              "      <td>0</td>\n",
              "      <td>0</td>\n",
              "      <td>0</td>\n",
              "      <td>0</td>\n",
              "      <td>0</td>\n",
              "    </tr>\n",
              "  </tbody>\n",
              "</table>\n",
              "<p>80 rows × 34 columns</p>\n",
              "</div>\n",
              "    <div class=\"colab-df-buttons\">\n",
              "\n",
              "  <div class=\"colab-df-container\">\n",
              "    <button class=\"colab-df-convert\" onclick=\"convertToInteractive('df-9e898883-7d0e-466a-9b2b-fd3fc1a0ce8e')\"\n",
              "            title=\"Convert this dataframe to an interactive table.\"\n",
              "            style=\"display:none;\">\n",
              "\n",
              "  <svg xmlns=\"http://www.w3.org/2000/svg\" height=\"24px\" viewBox=\"0 -960 960 960\">\n",
              "    <path d=\"M120-120v-720h720v720H120Zm60-500h600v-160H180v160Zm220 220h160v-160H400v160Zm0 220h160v-160H400v160ZM180-400h160v-160H180v160Zm440 0h160v-160H620v160ZM180-180h160v-160H180v160Zm440 0h160v-160H620v160Z\"/>\n",
              "  </svg>\n",
              "    </button>\n",
              "\n",
              "  <style>\n",
              "    .colab-df-container {\n",
              "      display:flex;\n",
              "      gap: 12px;\n",
              "    }\n",
              "\n",
              "    .colab-df-convert {\n",
              "      background-color: #E8F0FE;\n",
              "      border: none;\n",
              "      border-radius: 50%;\n",
              "      cursor: pointer;\n",
              "      display: none;\n",
              "      fill: #1967D2;\n",
              "      height: 32px;\n",
              "      padding: 0 0 0 0;\n",
              "      width: 32px;\n",
              "    }\n",
              "\n",
              "    .colab-df-convert:hover {\n",
              "      background-color: #E2EBFA;\n",
              "      box-shadow: 0px 1px 2px rgba(60, 64, 67, 0.3), 0px 1px 3px 1px rgba(60, 64, 67, 0.15);\n",
              "      fill: #174EA6;\n",
              "    }\n",
              "\n",
              "    .colab-df-buttons div {\n",
              "      margin-bottom: 4px;\n",
              "    }\n",
              "\n",
              "    [theme=dark] .colab-df-convert {\n",
              "      background-color: #3B4455;\n",
              "      fill: #D2E3FC;\n",
              "    }\n",
              "\n",
              "    [theme=dark] .colab-df-convert:hover {\n",
              "      background-color: #434B5C;\n",
              "      box-shadow: 0px 1px 3px 1px rgba(0, 0, 0, 0.15);\n",
              "      filter: drop-shadow(0px 1px 2px rgba(0, 0, 0, 0.3));\n",
              "      fill: #FFFFFF;\n",
              "    }\n",
              "  </style>\n",
              "\n",
              "    <script>\n",
              "      const buttonEl =\n",
              "        document.querySelector('#df-9e898883-7d0e-466a-9b2b-fd3fc1a0ce8e button.colab-df-convert');\n",
              "      buttonEl.style.display =\n",
              "        google.colab.kernel.accessAllowed ? 'block' : 'none';\n",
              "\n",
              "      async function convertToInteractive(key) {\n",
              "        const element = document.querySelector('#df-9e898883-7d0e-466a-9b2b-fd3fc1a0ce8e');\n",
              "        const dataTable =\n",
              "          await google.colab.kernel.invokeFunction('convertToInteractive',\n",
              "                                                    [key], {});\n",
              "        if (!dataTable) return;\n",
              "\n",
              "        const docLinkHtml = 'Like what you see? Visit the ' +\n",
              "          '<a target=\"_blank\" href=https://colab.research.google.com/notebooks/data_table.ipynb>data table notebook</a>'\n",
              "          + ' to learn more about interactive tables.';\n",
              "        element.innerHTML = '';\n",
              "        dataTable['output_type'] = 'display_data';\n",
              "        await google.colab.output.renderOutput(dataTable, element);\n",
              "        const docLink = document.createElement('div');\n",
              "        docLink.innerHTML = docLinkHtml;\n",
              "        element.appendChild(docLink);\n",
              "      }\n",
              "    </script>\n",
              "  </div>\n",
              "\n",
              "\n",
              "<div id=\"df-186d28fc-871c-4b77-8ecb-73b56fd1eb5f\">\n",
              "  <button class=\"colab-df-quickchart\" onclick=\"quickchart('df-186d28fc-871c-4b77-8ecb-73b56fd1eb5f')\"\n",
              "            title=\"Suggest charts\"\n",
              "            style=\"display:none;\">\n",
              "\n",
              "<svg xmlns=\"http://www.w3.org/2000/svg\" height=\"24px\"viewBox=\"0 0 24 24\"\n",
              "     width=\"24px\">\n",
              "    <g>\n",
              "        <path d=\"M19 3H5c-1.1 0-2 .9-2 2v14c0 1.1.9 2 2 2h14c1.1 0 2-.9 2-2V5c0-1.1-.9-2-2-2zM9 17H7v-7h2v7zm4 0h-2V7h2v10zm4 0h-2v-4h2v4z\"/>\n",
              "    </g>\n",
              "</svg>\n",
              "  </button>\n",
              "\n",
              "<style>\n",
              "  .colab-df-quickchart {\n",
              "      --bg-color: #E8F0FE;\n",
              "      --fill-color: #1967D2;\n",
              "      --hover-bg-color: #E2EBFA;\n",
              "      --hover-fill-color: #174EA6;\n",
              "      --disabled-fill-color: #AAA;\n",
              "      --disabled-bg-color: #DDD;\n",
              "  }\n",
              "\n",
              "  [theme=dark] .colab-df-quickchart {\n",
              "      --bg-color: #3B4455;\n",
              "      --fill-color: #D2E3FC;\n",
              "      --hover-bg-color: #434B5C;\n",
              "      --hover-fill-color: #FFFFFF;\n",
              "      --disabled-bg-color: #3B4455;\n",
              "      --disabled-fill-color: #666;\n",
              "  }\n",
              "\n",
              "  .colab-df-quickchart {\n",
              "    background-color: var(--bg-color);\n",
              "    border: none;\n",
              "    border-radius: 50%;\n",
              "    cursor: pointer;\n",
              "    display: none;\n",
              "    fill: var(--fill-color);\n",
              "    height: 32px;\n",
              "    padding: 0;\n",
              "    width: 32px;\n",
              "  }\n",
              "\n",
              "  .colab-df-quickchart:hover {\n",
              "    background-color: var(--hover-bg-color);\n",
              "    box-shadow: 0 1px 2px rgba(60, 64, 67, 0.3), 0 1px 3px 1px rgba(60, 64, 67, 0.15);\n",
              "    fill: var(--button-hover-fill-color);\n",
              "  }\n",
              "\n",
              "  .colab-df-quickchart-complete:disabled,\n",
              "  .colab-df-quickchart-complete:disabled:hover {\n",
              "    background-color: var(--disabled-bg-color);\n",
              "    fill: var(--disabled-fill-color);\n",
              "    box-shadow: none;\n",
              "  }\n",
              "\n",
              "  .colab-df-spinner {\n",
              "    border: 2px solid var(--fill-color);\n",
              "    border-color: transparent;\n",
              "    border-bottom-color: var(--fill-color);\n",
              "    animation:\n",
              "      spin 1s steps(1) infinite;\n",
              "  }\n",
              "\n",
              "  @keyframes spin {\n",
              "    0% {\n",
              "      border-color: transparent;\n",
              "      border-bottom-color: var(--fill-color);\n",
              "      border-left-color: var(--fill-color);\n",
              "    }\n",
              "    20% {\n",
              "      border-color: transparent;\n",
              "      border-left-color: var(--fill-color);\n",
              "      border-top-color: var(--fill-color);\n",
              "    }\n",
              "    30% {\n",
              "      border-color: transparent;\n",
              "      border-left-color: var(--fill-color);\n",
              "      border-top-color: var(--fill-color);\n",
              "      border-right-color: var(--fill-color);\n",
              "    }\n",
              "    40% {\n",
              "      border-color: transparent;\n",
              "      border-right-color: var(--fill-color);\n",
              "      border-top-color: var(--fill-color);\n",
              "    }\n",
              "    60% {\n",
              "      border-color: transparent;\n",
              "      border-right-color: var(--fill-color);\n",
              "    }\n",
              "    80% {\n",
              "      border-color: transparent;\n",
              "      border-right-color: var(--fill-color);\n",
              "      border-bottom-color: var(--fill-color);\n",
              "    }\n",
              "    90% {\n",
              "      border-color: transparent;\n",
              "      border-bottom-color: var(--fill-color);\n",
              "    }\n",
              "  }\n",
              "</style>\n",
              "\n",
              "  <script>\n",
              "    async function quickchart(key) {\n",
              "      const quickchartButtonEl =\n",
              "        document.querySelector('#' + key + ' button');\n",
              "      quickchartButtonEl.disabled = true;  // To prevent multiple clicks.\n",
              "      quickchartButtonEl.classList.add('colab-df-spinner');\n",
              "      try {\n",
              "        const charts = await google.colab.kernel.invokeFunction(\n",
              "            'suggestCharts', [key], {});\n",
              "      } catch (error) {\n",
              "        console.error('Error during call to suggestCharts:', error);\n",
              "      }\n",
              "      quickchartButtonEl.classList.remove('colab-df-spinner');\n",
              "      quickchartButtonEl.classList.add('colab-df-quickchart-complete');\n",
              "    }\n",
              "    (() => {\n",
              "      let quickchartButtonEl =\n",
              "        document.querySelector('#df-186d28fc-871c-4b77-8ecb-73b56fd1eb5f button');\n",
              "      quickchartButtonEl.style.display =\n",
              "        google.colab.kernel.accessAllowed ? 'block' : 'none';\n",
              "    })();\n",
              "  </script>\n",
              "</div>\n",
              "\n",
              "    </div>\n",
              "  </div>\n"
            ],
            "application/vnd.google.colaboratory.intrinsic+json": {
              "type": "dataframe"
            }
          },
          "metadata": {},
          "execution_count": 77
        }
      ]
    },
    {
      "cell_type": "code",
      "source": [
        "import lime\n",
        "import lime.lime_tabular\n",
        "# Generate explainer\n",
        "explainer = lime.lime_tabular.LimeTabularExplainer(X_test.values, mode='regression',feature_names=X_test.columns.tolist(), discretize_continuous=False, random_state=1984)\n",
        "# Generate explanation for instance i\n",
        "i = 32\n",
        "exp = explainer.explain_instance(X_test.values[i], grit_best.predict)\n",
        "# Plot\n",
        "fig = exp.as_pyplot_figure();"
      ],
      "metadata": {
        "colab": {
          "base_uri": "https://localhost:8080/",
          "height": 54
        },
        "id": "IHtfkjPs8yFK",
        "outputId": "0cb68204-c8de-40f1-8363-bdf11cf76267"
      },
      "execution_count": null,
      "outputs": [
        {
          "output_type": "display_data",
          "data": {
            "text/plain": [
              "<Figure size 640x480 with 1 Axes>"
            ],
            "image/png": "[encoded data removed]"
          },
          "metadata": {}
        }
      ]
    },
    {
      "cell_type": "code",
      "source": [
        "# Generate explainer\n",
        "explainer = lime.lime_tabular.LimeTabularExplainer(X_test.values, mode='regression',feature_names=X_test.columns.tolist(), discretize_continuous=False, random_state=1984)\n",
        "# Generate explanation for instance i\n",
        "i = 320\n",
        "exp = explainer.explain_instance(X_test.values[i], grit_best.predict)\n",
        "# Plot\n",
        "fig = exp.as_pyplot_figure();"
      ],
      "metadata": {
        "colab": {
          "base_uri": "https://localhost:8080/",
          "height": 54
        },
        "id": "g2VFOFGg9dmK",
        "outputId": "d183d10a-90e8-4b7f-e4df-b685735f798f"
      },
      "execution_count": null,
      "outputs": [
        {
          "output_type": "display_data",
          "data": {
            "text/plain": [
              "<Figure size 640x480 with 1 Axes>"
            ],
            "image/png": "[encoded data removed]"
          },
          "metadata": {}
        }
      ]
    },
    {
      "cell_type": "code",
      "source": [],
      "metadata": {
        "id": "4fIR1d-OHagH"
      },
      "execution_count": null,
      "outputs": []
    }
  ]
}